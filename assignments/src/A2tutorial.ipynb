{
 "cells": [
  {
   "cell_type": "markdown",
   "metadata": {},
   "source": [
    "<div style=\"background: rgb(255,165,0); border: solid 1px rgb(129,199,132); padding: 10px;\">    \n",
    "\n",
    "<h1>NETWORKX FUNDAMENTALS</h1>\n",
    "\n",
    "</div>"
   ]
  },
  {
   "cell_type": "markdown",
   "metadata": {},
   "source": [
    "### Building Graphs\n",
    "\n",
    "Assignment 2 heavily uses the networkx package. \n",
    "\n",
    "The cells below demonstrate how nodes, edges, and data attributes work in networkx. This should cover most of what you'll need to complete this assignment. \n",
    "\n",
    "For more comprehensive information, see the [networkx documentation](https://networkx.org/documentation/stable/reference/introduction.html).\n",
    "\n"
   ]
  },
  {
   "cell_type": "markdown",
   "metadata": {},
   "source": [
    "In networkx we build our graph by adding nodes and edges."
   ]
  },
  {
   "cell_type": "code",
   "execution_count": null,
   "metadata": {},
   "outputs": [],
   "source": [
    "import networkx as nx \n",
    "import matplotlib.pyplot as plt \n",
    "\n",
    "# creating an undirected graph\n",
    "G = nx.Graph()\n",
    "\n",
    "# adding a node\n",
    "G.add_node('A')\n",
    "\n",
    "# adding some edges (nodes will also be added if not present)\n",
    "G.add_edge('B', 'C')\n",
    "G.add_edge('D', 'E')\n",
    "\n",
    "# drawing our graph\n",
    "fig = plt.figure(1, figsize=(5, 5), dpi=60)\n",
    "_ = nx.draw_spring(G, with_labels=True, node_size=500, node_color='pink', alpha=0.9)"
   ]
  },
  {
   "cell_type": "markdown",
   "metadata": {},
   "source": [
    "### Nodes and Neighbors\n",
    "\n",
    "Once you have created a graph, you can access its nodes, and any data on those nodes.  \n",
    "\n",
    "Each node has a unique identifier.\n"
   ]
  },
  {
   "cell_type": "code",
   "execution_count": null,
   "metadata": {},
   "outputs": [],
   "source": [
    "# get list of all nodes\n",
    "all_nodes = list(G.nodes)\n",
    "print(f'\\nall nodes: {all_nodes}')"
   ]
  },
  {
   "cell_type": "code",
   "execution_count": null,
   "metadata": {},
   "outputs": [],
   "source": [
    "# iterating all nodes\n",
    "for node in G.nodes:\n",
    "    print(node)"
   ]
  },
  {
   "cell_type": "code",
   "execution_count": null,
   "metadata": {},
   "outputs": [],
   "source": [
    "# getting neighbors of a node (connected by edge)\n",
    "neighbors = list(G.neighbors('E'))\n",
    "print(f\"\\nneighbors of 'E': {neighbors}\")"
   ]
  },
  {
   "cell_type": "code",
   "execution_count": null,
   "metadata": {},
   "outputs": [],
   "source": [
    "# checking whether node is in graph\n",
    "print('Is E in the graph?', G.has_node('E'))\n",
    "print('Is F in the graph?', G.has_node('F'))"
   ]
  },
  {
   "cell_type": "markdown",
   "metadata": {},
   "source": [
    "**Adding Node data**\n",
    "\n",
    "You can assign any data you like to networkx nodes. Each piece of data on a node is called an 'attribute'.\n",
    "\n",
    "This data can be assigned when adding a node to the graph, or to existing nodes. "
   ]
  },
  {
   "cell_type": "code",
   "execution_count": null,
   "metadata": {},
   "outputs": [],
   "source": [
    "# adding node to graph with data \n",
    "G.add_node('A', firstname='Tim', lastname='Heidecker')\n",
    "G.add_node('B', firstname='Eric')\n"
   ]
  },
  {
   "cell_type": "code",
   "execution_count": null,
   "metadata": {},
   "outputs": [],
   "source": [
    "# assigning / updating node attribute (node already exists)\n",
    "G.nodes['B']['lastname'] = 'Wareheim'\n"
   ]
  },
  {
   "cell_type": "markdown",
   "metadata": {},
   "source": [
    "**Accessing Node data**\n",
    "\n",
    "We can access the attributes on nodes by passing `data=True` when iterating. \n",
    "\n",
    "When you do this, the nodes are iterated as tuples of `(node, data)`, where `data` is a dictionary of key: value pairs. <br>\n",
    "If a node has no data, the attribute dictionary is empty. \n",
    "\n",
    "To get a specific attribute for a single node, you can use `G.nodes[node][attribute]`. "
   ]
  },
  {
   "cell_type": "code",
   "execution_count": null,
   "metadata": {},
   "outputs": [],
   "source": [
    "# iterating all nodes & their data\n",
    "for node, data in G.nodes(data=True):\n",
    "    print(node, data)"
   ]
  },
  {
   "cell_type": "code",
   "execution_count": null,
   "metadata": {},
   "outputs": [],
   "source": [
    "# getting specific attribute for specific node\n",
    "G.nodes['A']['firstname']"
   ]
  },
  {
   "cell_type": "markdown",
   "metadata": {},
   "source": [
    "### Edges \n",
    "\n",
    "Each edge in a networkx graph is a tuple of (node1, node2) participating in the edge. \n",
    "\n",
    "We can get information about graph edges in the following ways:"
   ]
  },
  {
   "cell_type": "code",
   "execution_count": null,
   "metadata": {},
   "outputs": [],
   "source": [
    "# get list of all edges\n",
    "all_edges = list(G.edges)\n",
    "print(f'all edges: {all_edges}')\n",
    "\n",
    "# getting edges from a particular node\n",
    "d_edges = G.edges('D')\n",
    "print(f\"edges from 'D': {d_edges}\")\n",
    "\n",
    "# check if an edge exists\n",
    "has_edge = G.has_edge('B', 'C')\n",
    "print(f'has edge? {has_edge}')"
   ]
  },
  {
   "cell_type": "markdown",
   "metadata": {},
   "source": [
    "**Edges: Directed vs Undirected Graphs**\n",
    "\n",
    "Networkx technically has 3 flavors of `graph.edges()`. \n",
    "\n",
    "- `graph.edges(node)`\n",
    "- `graph.in_edges(node)`\n",
    "- `graph.out_edges(node)`\n",
    "\n",
    "For *undirected graphs*, these methods all return the same edges since there is no directionality. \n",
    "\n",
    "For *directed graphs*:\n",
    "- `.in_edges()` returns edges pointing **to** the query node\n",
    "- `.out_edges()` returns edges pointing **from** the query node\n",
    "- `.edges()` has the same functionality as `.out_edges()`\n"
   ]
  },
  {
   "cell_type": "markdown",
   "metadata": {},
   "source": [
    "**Adding Edge Labels**\n",
    "\n",
    "You can also assign any data you like to networkx edges.\n",
    "\n",
    "*In this assignment, any edge data is given the name ***'label'****\n",
    "\n",
    "Below is an example using a directed graph. Both undirected and directed graphs can have edge labels."
   ]
  },
  {
   "cell_type": "code",
   "execution_count": null,
   "metadata": {},
   "outputs": [],
   "source": [
    "# creating directed graph\n",
    "G = nx.DiGraph()\n",
    "\n",
    "# adding edges with labels\n",
    "G.add_edge('A', 'B', label='hello')\n",
    "G.add_edge('A', 'C', label='there')\n",
    "G.add_edge('D', 'A', label='friend!')\n",
    "\n",
    "# drawing our graph\n",
    "fig = plt.figure(1, figsize=(4, 4), dpi=60)\n",
    "pos = nx.spring_layout(G, iterations=10, seed=4)\n",
    "_ = nx.draw(G, pos, with_labels=True, node_size=800, node_color='pink', alpha=0.9)\n",
    "_ = nx.draw_networkx_edge_labels(\n",
    "    G, pos, font_color='red', font_size=16, \n",
    "    edge_labels={e: f\"{G.edges[e]['label']}\" for e in G.edges}\n",
    ")"
   ]
  },
  {
   "cell_type": "markdown",
   "metadata": {},
   "source": [
    "**Accessing Edge Labels**\n",
    "\n",
    "For graphs with edge data, we can access that data by passing `data=True` when asking for edges. \n",
    "\n",
    "When you do this, the edges returned are tuples of `(node1, node2, data)`, where `data` is a dictionary of key: value pairs. \n",
    "\n",
    "To get an attribute for a single edge, you can use `G.edges[node1, node2][attribute]`. \n"
   ]
  },
  {
   "cell_type": "code",
   "execution_count": null,
   "metadata": {},
   "outputs": [],
   "source": [
    "# iterating through all edges\n",
    "for node1, node2, data in G.edges(data=True):\n",
    "    print(node1, node2, data['label'])\n",
    "    "
   ]
  },
  {
   "cell_type": "code",
   "execution_count": null,
   "metadata": {},
   "outputs": [],
   "source": [
    "# Extracting all edges into a list\n",
    "all_edges = list(G.edges(data=True))\n",
    "print(all_edges)\n"
   ]
  },
  {
   "cell_type": "code",
   "execution_count": null,
   "metadata": {},
   "outputs": [],
   "source": [
    "# getting the edges incident on node 'A' \n",
    "for node1, node2, data in G.edges('A', data=True):\n",
    "    print(node1, node2, data['label'])\n",
    "    "
   ]
  },
  {
   "cell_type": "code",
   "execution_count": null,
   "metadata": {},
   "outputs": [],
   "source": [
    "# accessing all attributes for a single edge\n",
    "edge_data = G.edges['A', 'C']\n",
    "print(f\"A -> C edge label: '{edge_data}'\")\n"
   ]
  },
  {
   "cell_type": "code",
   "execution_count": null,
   "metadata": {},
   "outputs": [],
   "source": [
    "# accessing single attribute for a single edge\n",
    "edge_label = G.edges['A', 'B']['label']\n",
    "print(f\"A -> B edge label: '{edge_label}'\")\n"
   ]
  }
 ],
 "metadata": {
  "kernelspec": {
   "display_name": "venv",
   "language": "python",
   "name": "python3"
  },
  "language_info": {
   "codemirror_mode": {
    "name": "ipython",
    "version": 3
   },
   "file_extension": ".py",
   "mimetype": "text/x-python",
   "name": "python",
   "nbconvert_exporter": "python",
   "pygments_lexer": "ipython3",
   "version": "3.11.5"
  }
 },
 "nbformat": 4,
 "nbformat_minor": 2
}
