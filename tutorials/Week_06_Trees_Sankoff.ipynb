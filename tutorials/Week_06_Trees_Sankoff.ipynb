{
 "cells": [
  {
   "cell_type": "markdown",
   "metadata": {},
   "source": [
    "# Week 6  - Trees\n"
   ]
  },
  {
   "cell_type": "markdown",
   "metadata": {},
   "source": [
    "<div style=\"color: rgb(27,94,32); background: rgb(200,230,201); border: solid 1px rgb(129,199,132); padding: 10px;\">\n",
    "\n",
    "This week we'll implement the Sankoff algorithm as seen in the Week5B lecture. This is a good introduction to programming with phylogenetic trees.\n",
    "    \n",
    "</div>"
   ]
  },
  {
   "cell_type": "markdown",
   "metadata": {},
   "source": [
    "## Building Trees"
   ]
  },
  {
   "cell_type": "markdown",
   "metadata": {},
   "source": [
    "### Creating the substitution matrix\n",
    "First, we will create the $c_{ij}$ matrix that contains the substitution scores. As we saw in lecture, the score for no change is 0, the score for a trasition is 1.0 and the score for a transversion is 2.5.\n",
    "\n",
    "We could hard code this since it's only 4x4 but here is some code that will build the matrix as a dictionary of dictionaries."
   ]
  },
  {
   "cell_type": "code",
   "execution_count": null,
   "metadata": {
    "jupyter": {
     "outputs_hidden": true
    }
   },
   "outputs": [],
   "source": [
    "purines = ['A', 'G']\n",
    "pyrimidines = ['C', 'T']\n",
    "nucleotides = purines + pyrimidines\n",
    "\n",
    "c = dict()\n",
    "for nt1 in nucleotides:\n",
    "    c[nt1] = dict()\n",
    "    for nt2 in nucleotides:\n",
    "        # no change\n",
    "        if nt1 == nt2:\n",
    "            c[nt1][nt2] = 0.0\n",
    "        # transition\n",
    "        elif (nt1 in purines and nt2 in purines) or (nt1 in pyrimidines and nt2 in pyrimidines):\n",
    "            c[nt1][nt2] = 1.0\n",
    "        # transversion\n",
    "        else:\n",
    "            c[nt1][nt2] = 2.5"
   ]
  },
  {
   "cell_type": "markdown",
   "metadata": {},
   "source": [
    "As you can see below, the dictionary has nucleotides as keys and another dictionary as values. This second level of dictionaries has nucleotides as keys and the $c_{ij}$ entries as values."
   ]
  },
  {
   "cell_type": "code",
   "execution_count": null,
   "metadata": {},
   "outputs": [],
   "source": [
    "# Let's view our substitution matrix\n",
    "c"
   ]
  },
  {
   "cell_type": "markdown",
   "metadata": {},
   "source": [
    "In practical terms, this allows us to easily get a specific $c_{ij}$ value using dictionary lookups, which improves code readability for minimal performance cost."
   ]
  },
  {
   "cell_type": "code",
   "execution_count": null,
   "metadata": {},
   "outputs": [],
   "source": [
    "c['A']['G']"
   ]
  },
  {
   "cell_type": "markdown",
   "metadata": {},
   "source": [
    "### Initializing the tree\n",
    "We will also implement the tree as a dictionary of dictionaries. The tree dictionary keys are node names and the values are node dictionaries. The node dictionaries have the node's data, scores and left/right node names, as the key-value pairs.\n",
    "\n",
    "The following function creates an empty tree dictionary suitable for running the Sankoff algorithm on DNA data with the correct number of nodes given a number of tips."
   ]
  },
  {
   "cell_type": "code",
   "execution_count": null,
   "metadata": {
    "jupyter": {
     "outputs_hidden": true
    }
   },
   "outputs": [],
   "source": [
    "def init_tree(num_tips):\n",
    "    \"\"\"\n",
    "    Create an empty tree dictionary with the correct number of nodes.\n",
    "    This function does not link the nodes together, so there is no tree structure yet.\n",
    "    \"\"\"\n",
    "    tree = dict()\n",
    "    \n",
    "    # create all the nodes\n",
    "    tree['root'] = dict()\n",
    "    for x in range(1, num_tips + 1):\n",
    "        tree['tip{}'.format(x)] = dict()\n",
    "    for x in range(1, num_tips + 1 - 2):\n",
    "        tree['int{}'.format(x)] = dict()\n",
    "    \n",
    "    # initialize node data\n",
    "    for node in tree:\n",
    "        for child in ['left', 'right']:\n",
    "            tree[node][child] = None\n",
    "        for nt in nucleotides:\n",
    "            tree[node][nt] = None\n",
    "    \n",
    "    return tree"
   ]
  },
  {
   "cell_type": "code",
   "execution_count": null,
   "metadata": {},
   "outputs": [],
   "source": [
    "# Test the init_tree() function\n"
   ]
  },
  {
   "cell_type": "markdown",
   "metadata": {},
   "source": [
    "### Exercise 1: Initializing tip values"
   ]
  },
  {
   "cell_type": "markdown",
   "metadata": {},
   "source": [
    "<div style=\"color: rgb(27,94,32); background: rgb(200,230,201); border: solid 1px rgb(129,199,132); padding: 10px;\">\n",
    "\n",
    "<b>Challange:</b> The following function should initialize a tip node for the Sankoff algorithm to 0 for the observed nucleotide and infinity (`inf`) for others. Try to complete it. Note that the function modifies the tree in-place and does not return a value.\n",
    "\n",
    "- [ ] Intialise tip nodes with cost of zero\n",
    "- [ ] Internal nodes initialise with cost of infinity\n",
    "\n",
    "</div>"
   ]
  },
  {
   "cell_type": "code",
   "execution_count": null,
   "metadata": {
    "nbgrader": {
     "grade": false,
     "grade_id": "E1",
     "locked": false,
     "schema_version": 3,
     "solution": true,
     "task": false
    }
   },
   "outputs": [],
   "source": [
    "from math import inf\n",
    "\n",
    "def init_tip(tree, tip_name, observed_nt):\n",
    "    \"\"\"\n",
    "    Intialise a tip of a tree with the correct costs.\n",
    "    At this tip node, only the observed nucleotides are possible:\n",
    "    the cost of the observed nucleotide is zero, and\n",
    "    the cost of any other nucleotide is infinity.\n",
    "    \"\"\"\n",
    "    for nt in nucleotides:\n",
    "\n",
    "    ### BEGIN SOLUTION\n",
    "        if nt == observed_nt:\n",
    "            tree[tip_name][nt] = 0.0\n",
    "        else:\n",
    "            tree[tip_name][nt] = inf\n",
    "    \n",
    "    ### END SOLUTION"
   ]
  },
  {
   "cell_type": "markdown",
   "metadata": {},
   "source": [
    "The following code sets the sequence at the tips (from left to right) and initializes the tree using the function above. Set the sequence for your tree."
   ]
  },
  {
   "cell_type": "code",
   "execution_count": null,
   "metadata": {},
   "outputs": [],
   "source": [
    "tip_seq = 'CACAG'\n",
    "my_tree = init_tree(len(tip_seq))"
   ]
  },
  {
   "cell_type": "markdown",
   "metadata": {},
   "source": [
    "This code explicitly sets the tree topology. We can change the tree's structure by modifying these lines.\n",
    "\n",
    "Note that the left and right nodes for the tips are left as `None` because they have no descendents."
   ]
  },
  {
   "cell_type": "code",
   "execution_count": null,
   "metadata": {
    "jupyter": {
     "outputs_hidden": true
    }
   },
   "outputs": [],
   "source": [
    "my_tree['root']['left'] = 'int1'\n",
    "my_tree['root']['right'] = 'int3'\n",
    "my_tree['int1']['left'] = 'tip1'\n",
    "my_tree['int1']['right'] = 'tip2'\n",
    "my_tree['int3']['left'] = 'tip3'\n",
    "my_tree['int3']['right'] = 'int2'\n",
    "my_tree['int2']['left'] = 'tip4'\n",
    "my_tree['int2']['right'] = 'tip5'"
   ]
  },
  {
   "cell_type": "code",
   "execution_count": null,
   "metadata": {},
   "outputs": [],
   "source": [
    "# View the dictionary representation of our tree\n",
    "my_tree"
   ]
  },
  {
   "cell_type": "markdown",
   "metadata": {},
   "source": [
    "This is what our tree would look like as a dendrogram:\n",
    "\n",
    "\n",
    "<img src=\"https://github.com/melbournebioinformatics/COMP90014/blob/main/data/2023/Workshop_06/media/Example_tree_topology.png?raw=true\" alt=\"Example_tree_topology.png\" style=\"width: 500px;\"/>"
   ]
  },
  {
   "cell_type": "markdown",
   "metadata": {},
   "source": [
    "This loop uses the helpful built in function `enumerate` to initialize the tips of the tree using the function you wrote above. Double check that it is working correctly for the tip sequence you entered."
   ]
  },
  {
   "cell_type": "code",
   "execution_count": null,
   "metadata": {},
   "outputs": [],
   "source": [
    "for i, nt in enumerate(tip_seq):\n",
    "    tip_name = 'tip{}'.format(i + 1)\n",
    "    init_tip(my_tree, tip_name, nt)\n",
    "    print(tip_name, my_tree[tip_name])"
   ]
  },
  {
   "cell_type": "markdown",
   "metadata": {},
   "source": [
    "## Scoring trees"
   ]
  },
  {
   "cell_type": "markdown",
   "metadata": {},
   "source": [
    "### Exercise 2: Sankoff function core calculation\n"
   ]
  },
  {
   "cell_type": "markdown",
   "metadata": {},
   "source": [
    "<div style=\"color: rgb(27,94,32); background: rgb(200,230,201); border: solid 1px rgb(129,199,132); padding: 10px;\">\n",
    "\n",
    "This function calculates the $S$ arrays for each node. It assumes that the left and right nodes have already been filled.\n",
    "\n",
    "The outer loop is looping over the four entries (ACGT) in the $S$ array. \n",
    "    \n",
    "<b>Challange:</b> Complete the function using the variables initialized and the calculation from lecture:\n",
    "\n",
    "$S_a(i) = \\min_{j}[c_{ij} + S_L(j)] + \\min_{k}[c_{ik} + S_R(k)]$\n",
    "\n",
    "As before, this function modifies the tree in place and doesn't return a value.\n",
    "    \n",
    "</div>"
   ]
  },
  {
   "cell_type": "code",
   "execution_count": null,
   "metadata": {
    "jupyter": {
     "outputs_hidden": true
    },
    "nbgrader": {
     "grade": false,
     "grade_id": "E2",
     "locked": false,
     "schema_version": 3,
     "solution": true,
     "task": false
    }
   },
   "outputs": [],
   "source": [
    "def sankoff_calculate(c_matrix, tree, node_name):\n",
    "    \"\"\"\n",
    "    For the specified node of the tree, calculate the minimum possible cost \n",
    "    for each nucleotide. \n",
    "    \"\"\"\n",
    "    \n",
    "    # Find the min possible cost for moving to nucleotide nt1 in the current node 'node_name'\n",
    "    for nt1 in nucleotides:\n",
    "        left_costs = list()\n",
    "        right_costs = list()\n",
    "        left_node = tree[tree[node_name]['left']]\n",
    "        right_node = tree[tree[node_name]['right']]\n",
    "        \n",
    "        # From each possible nucleotide 'nt2' of the left and right child nodes.\n",
    "        # Use the initialized variables above to guide you.\n",
    "        # Hint: We want to update tree[node_name][nt1] with the min cost value\n",
    "        for nt2 in nucleotides:\n",
    "        ### BEGIN SOLUTION\n",
    "            # nt2 is the existing value in the child node\n",
    "            # c_matrix['from nt2']['to nt1']\n",
    "            # Get the previous score of each nt from the left/right child nodes \n",
    "            left_costs.append(c_matrix[nt2][nt1] + left_node[nt2])\n",
    "            right_costs.append(c_matrix[nt2][nt1] + right_node[nt2])\n",
    "\n",
    "        # Find the min cost for moving from any nt2 state to our target nt1 state\n",
    "        # Update the score for the current node 'node_name'\n",
    "        tree[node_name][nt1] = min(left_costs) + min(right_costs)\n",
    "    \n",
    "        ### END SOLUTION"
   ]
  },
  {
   "cell_type": "markdown",
   "metadata": {},
   "source": [
    "Since the `sankoff_calculate` function requires that the left and right nodes be populated, we will perform a recursive traversal. "
   ]
  },
  {
   "cell_type": "code",
   "execution_count": null,
   "metadata": {},
   "outputs": [],
   "source": [
    "def sankoff_traverse(c_matrix, tree, node_name):\n",
    "    \"\"\"\n",
    "    Traverse the tree recursively, calculating costs for each node.\n",
    "    Calculate a node's children before the node itself.\n",
    "    If a child node already has its costs calculated, don't try to calculate it.\n",
    "    This function depends on correctly initialising the costs in the tips\n",
    "    of the tree before traversing the tree.\n",
    "    \"\"\"\n",
    "    print(\"Examining node {}\".format(node_name))\n",
    "    if tree[tree[node_name]['left']]['A'] is None:\n",
    "        sankoff_traverse(c_matrix, tree, tree[node_name]['left'])\n",
    "    else:\n",
    "        print(\"Node {} values already known\".format(tree[node_name]['left']))\n",
    "    \n",
    "    if tree[tree[node_name]['right']]['A'] is None:\n",
    "        sankoff_traverse(c_matrix, tree, tree[node_name]['right'])\n",
    "    else:\n",
    "        print(\"Node {} values already known\".format(tree[node_name]['right']))   \n",
    "    \n",
    "    print(\"Calculating node {}\".format(node_name))\n",
    "    sankoff_calculate(c_matrix, tree, node_name)"
   ]
  },
  {
   "cell_type": "code",
   "execution_count": null,
   "metadata": {},
   "outputs": [],
   "source": [
    "sankoff_traverse(c, my_tree, 'root')"
   ]
  },
  {
   "cell_type": "markdown",
   "metadata": {},
   "source": [
    "Finally, we can print the tree dictionary and see the $S$ array values for each node."
   ]
  },
  {
   "cell_type": "code",
   "execution_count": null,
   "metadata": {},
   "outputs": [],
   "source": [
    "my_tree"
   ]
  },
  {
   "cell_type": "markdown",
   "metadata": {},
   "source": [
    "### Exercise 3: Finding the minimum cost"
   ]
  },
  {
   "cell_type": "markdown",
   "metadata": {},
   "source": [
    "<div style=\"color: rgb(27,94,32); background: rgb(200,230,201); border: solid 1px rgb(129,199,132); padding: 10px;\">\n",
    "\n",
    "By examining the root specifically, we can determine the minimum cost of the tree and infer the ancestral state at this position according to this tree. \n",
    "    \n",
    "<b>Challange:</b> Write some code that prints out the minimum cost at the root and all nucleotides with that cost.\n",
    "\n",
    "Real reconstructions of ancestral sequences will incorporate lots of additional information and not be so simple as this!\n",
    "    \n",
    "</div>"
   ]
  },
  {
   "cell_type": "code",
   "execution_count": null,
   "metadata": {
    "nbgrader": {
     "grade": false,
     "grade_id": "E3",
     "locked": false,
     "schema_version": 3,
     "solution": true,
     "task": false
    }
   },
   "outputs": [],
   "source": [
    "from math import inf\n",
    "min_nts = list()\n",
    "min_cost = inf\n",
    "\n",
    "### BEGIN SOLUTION\n",
    "\n",
    "for nt in nucleotides:\n",
    "    if my_tree['root'][nt] < min_cost:\n",
    "        min_nts = [nt]\n",
    "        min_cost = my_tree['root'][nt]\n",
    "    elif my_tree['root'][nt] == min_cost:\n",
    "        min_nts.append(nt)\n",
    "\n",
    "### END SOLUTION\n",
    "\n",
    "print(\"Minimum cost is {} for {}\".format(min_cost, \" and \".join(min_nts)))"
   ]
  }
 ],
 "metadata": {
  "celltoolbar": "Create Assignment",
  "kernelspec": {
   "display_name": "Python 3 (ipykernel)",
   "language": "python",
   "name": "python3"
  },
  "language_info": {
   "codemirror_mode": {
    "name": "ipython",
    "version": 3
   },
   "file_extension": ".py",
   "mimetype": "text/x-python",
   "name": "python",
   "nbconvert_exporter": "python",
   "pygments_lexer": "ipython3",
   "version": "3.11.4"
  }
 },
 "nbformat": 4,
 "nbformat_minor": 4
}
