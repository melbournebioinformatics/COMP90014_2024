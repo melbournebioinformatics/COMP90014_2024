{
 "cells": [
  {
   "cell_type": "markdown",
   "metadata": {},
   "source": [
    "# Week 02 - Indexing "
   ]
  },
  {
   "cell_type": "markdown",
   "metadata": {},
   "source": [
    "<div style=\"color: rgb(27,94,32); background: rgb(200,230,201); border: solid 1px rgb(129,199,132); padding: 10px;\">\n",
    "\n",
    "In this tutorial we will learn about genome indexing with hash tables. You will implement a hash table that supports linear probing as a solution to hash collisions.\n",
    "    \n",
    "</div>"
   ]
  },
  {
   "cell_type": "markdown",
   "metadata": {},
   "source": [
    "## Setup"
   ]
  },
  {
   "cell_type": "markdown",
   "metadata": {},
   "source": [
    "**Week 2 workspace**\n",
    "\n",
    "Ensure you have create a directory for week2 (eg <small>`~/COMP90014/tutorials/week2`</small>). <br>\n",
    "Place this .ipynb file inside that directory (eg <small>`~/COMP90014/tutorials/week2/Week_02_Indexing.ipynb`</small>).\n",
    "\n",
    "**Week 2 data**\n",
    "\n",
    "This week we will be aligning a DNA read sequence to a viral genome. <br>\n",
    "These need to be downloaded before we can use them. \n",
    "\n",
    "Read Sequence: <br>\n",
    "https://github.com/melbournebioinformatics/COMP90014_2024/blob/master/tutorials/data/week2/phi-X174-420bp.fa?raw=true\n",
    "\n",
    "Genome Sequence: <br>\n",
    "https://github.com/melbournebioinformatics/COMP90014_2024/blob/master/tutorials/data/week2/phi-X174-genome.fa?raw=true\n",
    "\n",
    "We can use the <small>`wget`</small> and <small>`curl`</small> commands to download files via the command line. \n",
    "- <small>`wget [URL] -O [OUTFILE]`</small>\n",
    "- <small>`curl -o [OUTFILE] [URL]`</small>\n",
    "\n",
    "Where\n",
    "- <small>`[URL]`</small> is the web address to access the file.\n",
    "- <small>`[OUTFILE]`</small> is what we want the downloaded file to be named. <br><br>\n",
    "\n",
    "<div style=\"font-size: 16px\">\n",
    "\n",
    "(Bash Shell)\n",
    "> ```Bash\n",
    "> # check you are in the week2 directory.\n",
    "> pwd\n",
    "> cd ~/COMP90014/tutorials/week2  # (change directory if required)\n",
    "> \n",
    "> # create a 'data' directory for the data & change to that location \n",
    "> mkdir -p data\n",
    "> cd data\n",
    "> \n",
    "> # download the viral DNA sequencing read\n",
    "> wget https://github.com/melbournebioinformatics/COMP90014_2024/blob/master/tutorials/data/week2/phi-X174-420bp.fa?raw=true -O phi-X174-420bp.fa\n",
    "> # download the viral reference genome\n",
    "> wget https://github.com/melbournebioinformatics/COMP90014_2024/blob/master/tutorials/data/week2/phi-X174-genome.fa?raw=true -O phi-X174-genome.fa\n",
    "> \n",
    "> ```\n",
    "\n",
    "</div>\n",
    "\n",
    "**Python environment**\n",
    "\n",
    "Create a python environment for this tutorial. <br>\n",
    "It should be located in your new 'week2' directory.\n",
    "\n",
    "This week we need:\n",
    "- ipykernel (if using VSC) or jupyterlab (if using Jupyter Lab) \n",
    "- requests\n",
    "- biopython\n",
    "- mmh3\n",
    "- matplotlib\n",
    "\n",
    "<div style=\"font-size: 16px\">\n",
    "\n",
    "(Bash Shell)\n",
    "> ```Bash\n",
    "> # check you are in the week2 directory.\n",
    "> pwd\n",
    "> cd ~/COMP90014/tutorials/week2  # (change directory if required)\n",
    "> \n",
    "> # NOTE: \n",
    "> # the following command may return 'miniconda' | 'conda' etc in the python path. \n",
    "> # if so, first try to solve using `conda config --set auto_activate_base false` then restarting your shell. \n",
    "> # if unsuccessful, you can specify the exact python binary to use. \n",
    "> # a version of python should be present in /usr/bin, or /usr/local/bin.\n",
    "> # for example /usr/bin/python, or /usr/bin/python3.10, or /usr/local/bin/python3.\n",
    "> # on macOS, python may also be found at /Library/Frameworks/Python.framework/Versions/[version]/bin.\n",
    "> # for example /Library/Frameworks/Python.framework/Versions/3.11/bin/python3.\n",
    "> \n",
    "> # check your python is correct.\n",
    "> which python \n",
    "> > /usr/bin/python\n",
    "> python -V \n",
    "> > Python 3.11.5\n",
    ">\n",
    "> # use the venv module to create a virtualenv. \n",
    "> # calling `python -m venv` runs the venv module, and the final 'venv' specifies the name of the environment\n",
    "> python -m venv venv\n",
    "> \n",
    "> # activate the environment to begin working \n",
    "> # note: only activates in your current shell. if using VSC / Jupyter Lab, ensure you select it as the 'kernel'.\n",
    "> source venv/bin/activate \n",
    "> \n",
    "> # check the environment is clean (should only list pip and setuptools)\n",
    "> pip list \n",
    "> \n",
    "> # Install packages for this week. If using Jupyter Lab, swap 'ipykernel' for 'jupyterlab'.\n",
    "> pip install ipykernel requests biopython mmh3 matplotlib\n",
    ">\n",
    "> # check the environment now has the required packages (should list a bunch of packages)\n",
    "> pip list \n",
    "> \n",
    "> ```\n",
    "\n",
    "</div>\n",
    "\n",
    "**IDE setup**\n",
    "\n",
    "Open your week 2 folder in VSC or Jupyter Lab.\n",
    "\n",
    "VSC: \n",
    "1. Open VSC and load your week2 directory using \"File\" -> \"Open Folder...\". \n",
    "2. Open the .ipynb file and ensure the kernel is set to your new 'venv' environment for week2 (top right). \n",
    "\n",
    "Jupyter Lab: \n",
    "1. Open a shell and navigate to your week2 folder.\n",
    "2. Activate your week2 python environment using <small>`source venv/bin/activate`</small>.\n",
    "3. Run Jupyter Lab using <small>`jupyter lab`</small>.\n",
    "4. Copy the returned localhost url & open in a web browser. \n",
    "\n",
    "**Final check**\n",
    "\n",
    "Your 'week2' directory should now have 3 things: \n",
    "- The tutorial <small>`.ipynb`</small> notebook\n",
    "- A <small>`venv`</small> folder for your python environment\n",
    "- A <small>`data`</small> folder containing the viral genome & read sequence. \n",
    "\n",
    "You can use the file explorer in VSC or Jupyter Lab to confirm.  \n",
    "Alternatively, you can use the <small>`tree -L 2`</small> shell command to display the folder structure. \n",
    "\n",
    "<div style=\"font-size: 16px\">\n",
    "\n",
    "(Bash Shell)\n",
    "> ```Bash\n",
    "> # render the folder structure (max depth = 2)\n",
    "> tree -L 2\n",
    "> > .\n",
    "> > ├── Week_02_Indexing.ipynb\n",
    "> > ├── data\n",
    "> > │   ├── phi-X174-420bp.fa\n",
    "> > │   └── phi-X174-genome.fa\n",
    "> > └── venv\n",
    "> >     ├── bin\n",
    "> >     ├── include\n",
    "> >     ├── lib\n",
    "> >     ├── lib64 -> lib\n",
    "> >     └── pyvenv.cfg\n",
    "> > \n",
    "> > 6 directories, 4 files\n",
    "> \n",
    "> ```\n",
    "\n",
    "</div>"
   ]
  },
  {
   "cell_type": "markdown",
   "metadata": {},
   "source": [
    "# Generators and iterators"
   ]
  },
  {
   "cell_type": "markdown",
   "metadata": {},
   "source": [
    "We're going to introduce a new kind of Python object - generators - in order to generate large number of strings without occupying a lot of memory.\n",
    "\n",
    "You already know that we can iterate over lists:"
   ]
  },
  {
   "cell_type": "code",
   "execution_count": null,
   "metadata": {},
   "outputs": [],
   "source": [
    "for x in [1,3,5]:\n",
    "    print(x)"
   ]
  },
  {
   "cell_type": "markdown",
   "metadata": {},
   "source": [
    "We can also iterate over other data types, like sets and dicts. Any type we can iterate over is *iterable*.\n",
    "\n",
    "*Generators* and *iterators* are special kinds of Python object that are iterable, but which don't need to store any contents in memory. Instead they calculate each value on request.\n",
    "\n",
    "(A generator is a particular kind of iterator, but for this tutorial we are not going to worry about the difference between them.)\n",
    "\n",
    "We can make an example iterator using `iter()` on a data structure:"
   ]
  },
  {
   "cell_type": "code",
   "execution_count": null,
   "metadata": {},
   "outputs": [],
   "source": [
    "number_iterator = iter([1,3,5])\n",
    "print(number_iterator)"
   ]
  },
  {
   "cell_type": "markdown",
   "metadata": {},
   "source": [
    "We can iterate over this just like the original list:"
   ]
  },
  {
   "cell_type": "code",
   "execution_count": null,
   "metadata": {},
   "outputs": [],
   "source": [
    "for x in number_iterator:\n",
    "    print(x)"
   ]
  },
  {
   "cell_type": "markdown",
   "metadata": {},
   "source": [
    "The built-in `next()` function gets the next value from an iterator"
   ]
  },
  {
   "cell_type": "code",
   "execution_count": null,
   "metadata": {},
   "outputs": [],
   "source": [
    "number_iterator = iter([1,3,5])"
   ]
  },
  {
   "cell_type": "code",
   "execution_count": null,
   "metadata": {},
   "outputs": [],
   "source": [
    "next(number_iterator)"
   ]
  },
  {
   "cell_type": "code",
   "execution_count": null,
   "metadata": {},
   "outputs": [],
   "source": [
    "next(number_iterator)"
   ]
  },
  {
   "cell_type": "markdown",
   "metadata": {},
   "source": [
    "What do you think would happen if we ran our `for` loop now, i.e. tried to iterate with \n",
    "\n",
    "`for x in number_iterator` ?"
   ]
  },
  {
   "cell_type": "code",
   "execution_count": null,
   "metadata": {},
   "outputs": [],
   "source": [
    "for x in number_iterator:\n",
    "    print(x)"
   ]
  },
  {
   "cell_type": "markdown",
   "metadata": {},
   "source": [
    "More usefully, we can create a generator using a generator function. This means we never need to store all the objects in memory. A generator function is easy to recognise as it uses the `yield` keyword rather than the `return` keyword to return values.\n",
    "\n",
    "Here's a (normal) function that returns a list of k-mers."
   ]
  },
  {
   "cell_type": "code",
   "execution_count": null,
   "metadata": {},
   "outputs": [],
   "source": [
    "def get_kmers_list(text, k):\n",
    "    ''' \n",
    "    Return a list of all k-mers of length k from string t.\n",
    "    K-mers may be non-unique.\n",
    "    '''\n",
    "    result = []\n",
    "    for i in range(len(text)-k+1):\n",
    "        kmer = text[i:i+k]\n",
    "        result.append(kmer)\n",
    "    return result"
   ]
  },
  {
   "cell_type": "code",
   "execution_count": null,
   "metadata": {},
   "outputs": [],
   "source": [
    "get_kmers_list('BANANA', 3)"
   ]
  },
  {
   "cell_type": "markdown",
   "metadata": {},
   "source": [
    "Here's a *generator function* that returns all the k-mers in the string, but only calculates each one as it is asked for. Every time the function reaches the `yield` keyword, it makes a new value available, which is consumed by whatever we are using to iterate, such as a `for` loop. At no point do we need to store the whole list of k-mers in memory!"
   ]
  },
  {
   "cell_type": "code",
   "execution_count": null,
   "metadata": {},
   "outputs": [],
   "source": [
    "def get_kmers_iterator(text, k):\n",
    "    ''' \n",
    "    Return a generator yielding all k-mers of length k from string t.\n",
    "    K-mers may be non-unique.\n",
    "    '''\n",
    "    for i in range(len(text)-k+1):\n",
    "        kmer = text[i:i+k]\n",
    "        yield kmer"
   ]
  },
  {
   "cell_type": "markdown",
   "metadata": {},
   "source": [
    "Notice we yield the kmers one at a time. We don't try to return the whole list at once. There is no list!\n",
    "\n",
    "Every time `next()` is called on our generator, either by a `for` loop or some other means, the function resumes running from where it left off and runs until it gets to a `yield` statement.\n",
    "\n",
    "This gives us a generator, which is iterable:"
   ]
  },
  {
   "cell_type": "code",
   "execution_count": null,
   "metadata": {
    "scrolled": true
   },
   "outputs": [],
   "source": [
    "for kmer in get_kmers_iterator('BANANA',3):\n",
    "    print(kmer)"
   ]
  },
  {
   "cell_type": "code",
   "execution_count": null,
   "metadata": {},
   "outputs": [],
   "source": [
    "# There is no list\n",
    "print(get_kmers_iterator('BANANA', 3))"
   ]
  },
  {
   "cell_type": "code",
   "execution_count": null,
   "metadata": {},
   "outputs": [],
   "source": [
    "list(get_kmers_iterator('BANANA',3))"
   ]
  },
  {
   "cell_type": "markdown",
   "metadata": {},
   "source": [
    "We can still assign the generator to a variable (if we want to)"
   ]
  },
  {
   "cell_type": "code",
   "execution_count": null,
   "metadata": {},
   "outputs": [],
   "source": [
    "kmers = get_kmers_iterator('BANANA', 3)\n",
    "print(kmers)"
   ]
  },
  {
   "cell_type": "markdown",
   "metadata": {},
   "source": [
    "Unlike with a list, Python can't tell us how many k-mers are going to be returned in total, as it hasn't built a list - it doesn't know what any of the k-mers are yet."
   ]
  },
  {
   "cell_type": "code",
   "execution_count": null,
   "metadata": {},
   "outputs": [],
   "source": [
    "# Try: len(kmers)"
   ]
  },
  {
   "cell_type": "code",
   "execution_count": null,
   "metadata": {},
   "outputs": [],
   "source": [
    "next(kmers)"
   ]
  },
  {
   "cell_type": "code",
   "execution_count": null,
   "metadata": {},
   "outputs": [],
   "source": [
    "for kmer in kmers:\n",
    "    print(kmer)"
   ]
  },
  {
   "cell_type": "markdown",
   "metadata": {},
   "source": [
    "This concept is very useful if we want to iterate over large number of k-mers or suffixes and store them in a more concise data structure, and don't want to hold them all in memory in the meantime."
   ]
  },
  {
   "cell_type": "markdown",
   "metadata": {},
   "source": [
    "The itertools module provides lots of handy iterators, and ways to create them. E.g.:"
   ]
  },
  {
   "cell_type": "code",
   "execution_count": null,
   "metadata": {
    "scrolled": true
   },
   "outputs": [],
   "source": [
    "import itertools\n",
    "\n",
    "yesno_forever = itertools.cycle(['yes', 'no'])\n",
    "count = 0\n",
    "for x in yesno_forever:\n",
    "    print(x)\n",
    "    count += 1\n",
    "    if count > 5:\n",
    "        # This gets us out of the for loop\n",
    "        break"
   ]
  },
  {
   "cell_type": "code",
   "execution_count": null,
   "metadata": {},
   "outputs": [],
   "source": [
    "next(yesno_forever)"
   ]
  },
  {
   "cell_type": "markdown",
   "metadata": {},
   "source": [
    "`enumerate()` can also work with iterators:"
   ]
  },
  {
   "cell_type": "code",
   "execution_count": null,
   "metadata": {
    "scrolled": true
   },
   "outputs": [],
   "source": [
    "kmers = get_kmers_iterator('BANANA', 3)\n",
    "for (i, kmer) in enumerate(kmers):\n",
    "    print(i, kmer)"
   ]
  },
  {
   "cell_type": "code",
   "execution_count": null,
   "metadata": {},
   "outputs": [],
   "source": [
    "kmers = get_kmers_iterator('BANANA', 3)\n",
    "\n",
    "list(enumerate(kmers))"
   ]
  },
  {
   "cell_type": "markdown",
   "metadata": {},
   "source": [
    "# Hash tables 101\n",
    "\n",
    "### Why use hash tables?\n",
    "\n",
    "Hash tables allow us to look up data in constant time, O(1), by reserving a specified number of locations in memory and storing data based on a memory address (or index) that is generated from a key value. \n",
    "\n",
    "The process of generating an index from a key is called hashing. \n",
    "\n",
    "First we apply some hash function to our key to generate a number and then we assign a memory address based on that hash value. \n",
    "\n",
    "This is often done by performing a modulo operation on the hash value - that is the remainder when dividing the hash value by the number of available memory locations. This ensures that the address is within the range of the available memory slots.\n",
    "\n",
    "### Collisions\n",
    "\n",
    "When more than one unique key generates the same memory address this is called a collision and we will need to find an alternative memory location for the new key (\"open addressing\") or find a way to store multiple keys at the one location in a separate data structure (\"closed addressing\"). \n",
    "\n",
    "Today we will use an open addressing solution called \"linear probing\".\n",
    "\n",
    "### Dictionaries are hash tables\n",
    "\n",
    "We will be using python dicts to illustrate to concept of a hash table, we will first hash our DNA kmers and then find the index address to insert the kmer data into our hash table.\n",
    "\n",
    "Remember python dicts **ARE** already a hashtable so will hash whatever values we set as keys and create their own hash index in the background. To understand how Python hash tables work you can check out this [post](https://realpython.com/python-hash-table)."
   ]
  },
  {
   "cell_type": "markdown",
   "metadata": {},
   "source": [
    "# Hashing DNA strings\n",
    "\n",
    "As DNA is double stranded and can be arbitrarily read in either direction we typically choose one of the two possible orientations to represent a given kmer. This is call the \"canonical\" kmer and is chosen as the lexicographically smaller of the two kmers."
   ]
  },
  {
   "cell_type": "code",
   "execution_count": null,
   "metadata": {},
   "outputs": [],
   "source": [
    "from Bio.Seq import Seq\n",
    "\n",
    "# Create a new seq object\n",
    "fwd = Seq('ATG')\n",
    "rev = fwd.reverse_complement()\n",
    "print(fwd)\n",
    "print(rev)"
   ]
  },
  {
   "cell_type": "code",
   "execution_count": null,
   "metadata": {},
   "outputs": [],
   "source": [
    "# In this case ATG is smaller than CAT\n",
    "fwd <= rev"
   ]
  },
  {
   "cell_type": "markdown",
   "metadata": {},
   "source": [
    "Having selected our canonical kmer we will run our hash function and then the modulo operation to find the memory address for this kmer in a hash table with 10 slots."
   ]
  },
  {
   "cell_type": "code",
   "execution_count": null,
   "metadata": {},
   "outputs": [],
   "source": [
    "# We can use Python's built in hash function for this.\n",
    "# but beware, hash() will not return consistent values between different sessions!\n",
    "\n",
    "print(f'The hash of ATG is: {hash(fwd)}')\n",
    "print(f'The memory address in a hashtable of size 10 is: {hash(fwd) % 10}')"
   ]
  },
  {
   "cell_type": "markdown",
   "metadata": {},
   "source": [
    "Alternatively, we can use a well characterised hash function such as [Murmurhash](https://pypi.org/project/mmh3/) to generate our hash value."
   ]
  },
  {
   "cell_type": "code",
   "execution_count": null,
   "metadata": {},
   "outputs": [],
   "source": [
    "import mmh3\n",
    "\n",
    "# Use Murmurhash to generate a 64-bit unsigned hash\n",
    "mhash = mmh3.hash64('ATG', seed=42, signed=False)[0]\n",
    "mloc = mhash % 10\n",
    "\n",
    "print(f'The murmurhash of ATG is: {mhash}')\n",
    "print(f'The memory address in a hashtable of size 10 is: {mloc}')"
   ]
  },
  {
   "cell_type": "markdown",
   "metadata": {},
   "source": [
    "## Collision Handling \n",
    "\n",
    "When two or more kmers produce the same memory address after hashing this is called a collision. \n",
    "\n",
    "We will handle these cases with an open addressing solution called \"linear probing\" which follows this process:\n",
    "\n",
    "- Hash a kmer and find the memory address\n",
    "- Check if that address is occupied by a different kmer (collision)\n",
    "- When a collision occurs, search for the next available slot by incrementing the index one step at a time.\n",
    "- The probing continues until one of these conditions:\n",
    "    - a slot with a matching kmer is found,\n",
    "    - an empty slot is found,\n",
    "    - or the end of the hash table is reached.\n",
    "- The new key-value pair is then inserted into the first available empty slot.\n",
    "\n"
   ]
  },
  {
   "cell_type": "markdown",
   "metadata": {},
   "source": [
    "# Kmer index via hash table"
   ]
  },
  {
   "cell_type": "markdown",
   "metadata": {},
   "source": [
    "In this section you will build a hash table to store and retrieve the locations of kmers within a DNA sequence.\n",
    "\n",
    "Your \"hash table\" will be constructed as a Python dict with memory addresses (indices) as dictionary keys and kmer locations stored under these locations as tuples with the canonical kmer and a list of kmer locations.\n",
    "\n",
    "\n",
    "In our previous example 'ATG' had an index of 2. 'ATG' occurs twice in the seq 'ATGATG' at positions 1 and 4.\n",
    "\n",
    "It would be stored in our dict as:\n",
    "\n",
    "`HashTable[2] = ('ATG',[1,4])`\n",
    "\n",
    "\n",
    "Where collisions occur you should use linear probing to locate an alternative memory slot to store the kmer and its locations.\n",
    "\n"
   ]
  },
  {
   "cell_type": "markdown",
   "metadata": {},
   "source": [
    "## Task 1 - Get canonical kmers"
   ]
  },
  {
   "cell_type": "markdown",
   "metadata": {},
   "source": [
    "<div class=\"info\">\n",
    "\n",
    "<b>Task 1:</b> Write a function to return the lexicographically smaller of the two orientations of a DNA sequence.\n",
    "    \n",
    "- [ ] Take Biopython Seq object as input\n",
    "- [ ] Compare the kmer to its reverse complement \n",
    "- [ ] Return the lexicographically smaller of the two kmers\n",
    "</div>"
   ]
  },
  {
   "cell_type": "code",
   "execution_count": null,
   "metadata": {
    "nbgrader": {
     "grade": false,
     "grade_id": "T1",
     "locked": false,
     "schema_version": 3,
     "solution": true,
     "task": false
    }
   },
   "outputs": [],
   "source": [
    "def get_canon(kmer):\n",
    "    # Return the canonical kmer  \n",
    "    raise NotImplementedError"
   ]
  },
  {
   "cell_type": "markdown",
   "metadata": {},
   "source": [
    "## Task 2 - Extract kmers and their locations"
   ]
  },
  {
   "cell_type": "markdown",
   "metadata": {},
   "source": [
    "<div class=\"info\">\n",
    "\n",
    "<b>Task 2:</b> Write a function that takes as input a Seq object and returns a list of (kmer,position) pairs.\n",
    "\n",
    "- [ ] Input: Biopython Seq object; and kmer length 'k'.\n",
    "- [ ] Extract kmers  \n",
    "- [ ] Output: tuples of (kmer,position) pairs\n",
    "- [ ] Output may be a list or an iterator\n",
    "    \n",
    "<b>Bonus challange:</b> Modify your function to skip any kmer containing the character 'N' which signifies an unknown base.\n",
    "    \n",
    "    \n",
    "Notes: \n",
    "- Enumerate will not work inside a `yield` statement.\n",
    "- If you choose to write this function as an iterator remember it can only be consumed once.\n",
    "\n",
    "</div>"
   ]
  },
  {
   "cell_type": "code",
   "execution_count": null,
   "metadata": {
    "nbgrader": {
     "grade": false,
     "grade_id": "T2",
     "locked": false,
     "schema_version": 3,
     "solution": true,
     "task": false
    }
   },
   "outputs": [],
   "source": [
    "def kmer_locs(sequence, k=5):\n",
    "    # Get kmers from seq object\n",
    "    # Output kmers and their location as (kmer,location) tuples.\n",
    "    raise NotImplementedError"
   ]
  },
  {
   "cell_type": "code",
   "execution_count": null,
   "metadata": {},
   "outputs": [],
   "source": [
    "# Test it out\n",
    "[print(k,i) for k,i in kmer_locs(Seq('ATGGNGTCGGNTTTT'), k=4)]"
   ]
  },
  {
   "cell_type": "markdown",
   "metadata": {},
   "source": [
    "## Task 3 - Populate hashtable with kmer locations"
   ]
  },
  {
   "cell_type": "markdown",
   "metadata": {},
   "source": [
    "<div class=\"info\">\n",
    "\n",
    "<b>Task 3:</b> \n",
    "    \n",
    "Write a function that takes a list of (kmer, location) tuples as input and inserts them into a hash table using linear probing. \n",
    "    \n",
    "Return a hash table (as dict) with the structure:\n",
    "\n",
    "`hashtable[index] = (kmer, [locations])`\n",
    "\n",
    "Your function should: \n",
    "- [ ] Input: \n",
    "    - List of (kmer,location) tuples; \n",
    "    - Table size (int)\n",
    "- [ ] Treat the kmer as a Bio.Seq object\n",
    "- [ ] Convert each kmer to its canonical form \n",
    "- [ ] Hash each kmer using mumurhash \n",
    "- [ ] Select a memory address using the modulo method\n",
    "- [ ] Check if that location in the dict is empty or occupied by the same kmer\n",
    "- [ ] Add the new kmer location to the list at the memory location if empty or matching kmer\n",
    "- [ ] If the location is occupied by a different kmer use <b>linear probing</b> to select an availble memory slot\n",
    "- [ ] Raise an Error if your hashtable runs out of memory locations\n",
    "- [ ] Output: return your hashtable\n",
    "</div>"
   ]
  },
  {
   "cell_type": "code",
   "execution_count": null,
   "metadata": {
    "nbgrader": {
     "grade": false,
     "grade_id": "T3",
     "locked": false,
     "schema_version": 3,
     "solution": true,
     "task": false
    }
   },
   "outputs": [],
   "source": [
    "def build_hash_table(kmer_list, hash_table_size = 10):\n",
    "    # Builds and returns kmer index as hash table.\n",
    "    # Collisions resolved using linear probing. \n",
    "\n",
    "    # Hash canonical kmer and calc memory address\n",
    "    def hash_function(kmer):\n",
    "        ckmer = get_canon(kmer)\n",
    "        kloc = mmh3.hash64(str(ckmer), seed=42, signed=False)[0] % hash_table_size\n",
    "        return kloc\n",
    "\n",
    "    hash_table = dict()\n",
    "    raise NotImplementedError\n",
    "    \n",
    "    "
   ]
  },
  {
   "cell_type": "code",
   "execution_count": null,
   "metadata": {
    "scrolled": false
   },
   "outputs": [],
   "source": [
    "# Example usage:\n",
    "kmer_list = kmer_locs(Seq('ATGGNGTCGGNTTTTATATCTGTCTCGATATAGCCGAGCGCTCGCATCA'), k=3)\n",
    "test_hash_table = build_hash_table(kmer_list, hash_table_size= 100)\n",
    "test_hash_table\n"
   ]
  },
  {
   "cell_type": "markdown",
   "metadata": {},
   "source": [
    "## Task 4 - Extract kmer locations using linear probing"
   ]
  },
  {
   "cell_type": "markdown",
   "metadata": {},
   "source": [
    "<div class=\"info\">\n",
    "<b>Task 4:</b> Write a function that returns all locations of a given kmer in a given hashtable. Your solution should use linear probing to look up the kmer.\n",
    "\n",
    "- [ ]  Input: \n",
    "    - Key as Bio.Seq object\n",
    "    - A precomputed hash table\n",
    "    - The size of that hash table\n",
    "- [ ]  Find and hash the canonical kmer\n",
    "- [ ]  Find initial memory address using modulo method\n",
    "- [ ]  Check if location is occupied by the correct kmer\n",
    "- [ ]  If not matching kmer, use linear probing to locate the kmer\n",
    "- [ ]  Return list of locations for kmer\n",
    "- [ ]  If kmer not present in hashtable, return empty list\n",
    "\n",
    "</div>"
   ]
  },
  {
   "cell_type": "code",
   "execution_count": null,
   "metadata": {
    "nbgrader": {
     "grade": false,
     "grade_id": "T4",
     "locked": false,
     "schema_version": 3,
     "solution": true,
     "task": false
    }
   },
   "outputs": [],
   "source": [
    "def kmerLookup(key, hash_table={}, hash_table_size = 10):\n",
    "    # Returns genomic locations for a given kmer (hash table key) in a pre-build index.\n",
    "    # Collisions resolved using linear probing. \n",
    "    # If kmer key is not in index, returns empty list. \n",
    "\n",
    "    # Function to calculate the initial hash_index based on the provided key.\n",
    "    def hash_function(kmer):\n",
    "        ckmer = get_canon(kmer)\n",
    "        kloc = mmh3.hash64(str(ckmer), seed=42, signed=False)[0] % hash_table_size\n",
    "        return kloc\n",
    "\n",
    "    raise NotImplementedError\n"
   ]
  },
  {
   "cell_type": "code",
   "execution_count": null,
   "metadata": {},
   "outputs": [],
   "source": [
    "kmerLookup(Seq('TCG'), hash_table=test_hash_table, hash_table_size = 100)"
   ]
  },
  {
   "cell_type": "markdown",
   "metadata": {},
   "source": [
    "# [Extension] Map a long read to a genome\n",
    "\n",
    "We have a long read `phiX_read` that has been obtained by sequencing the PhiX bacteriophage genome `phiX_genome`.\n",
    "\n",
    "There are some sequencing errors in this read so it does not match the genome perfectly. \n",
    "\n",
    "Your challange is to figure out where the read maps to by:\n",
    "\n",
    "A) Building a hashtable index of the PhiX genome, and \n",
    "\n",
    "B) Extracting kmers from the sequencing read and looking up their location/s in the genome index.\n",
    "\n"
   ]
  },
  {
   "cell_type": "markdown",
   "metadata": {},
   "source": [
    "First, we will import these sequences using Biopython as SeqRecord objects. <br>\n",
    "Explore the attributes of this object.\n",
    "Where is the sequence stored?"
   ]
  },
  {
   "cell_type": "code",
   "execution_count": null,
   "metadata": {},
   "outputs": [],
   "source": [
    "from Bio import SeqIO\n",
    "\n",
    "# Import with biopython as seqrecord objects\n",
    "phiX_read = SeqIO.read('data/phi-X174-420bp.fa', \"fasta\")\n",
    "phiX_genome = SeqIO.read('data/phi-X174-genome.fa', \"fasta\")"
   ]
  },
  {
   "cell_type": "markdown",
   "metadata": {},
   "source": [
    "If you wanted to manually read in a single fasta record as a string, you could do this:"
   ]
  },
  {
   "cell_type": "code",
   "execution_count": null,
   "metadata": {},
   "outputs": [],
   "source": [
    "# Or read it ourselves, assuming a file with one FASTA record\n",
    "with open('data/phi-X174-genome.fa') as f:\n",
    "    _identifier_row = f.readline()\n",
    "    # Read the rest of the lines and join them into one string\n",
    "    phiX = ''.join([row.strip() for row in f.readlines()])"
   ]
  },
  {
   "cell_type": "markdown",
   "metadata": {},
   "source": [
    "Next, we will use functions that we wrote in the previous section to build an hash table index for the PhiX genome."
   ]
  },
  {
   "cell_type": "code",
   "execution_count": null,
   "metadata": {},
   "outputs": [],
   "source": [
    "# Extract kmers and their locations from the PhiX genome\n",
    "genome_kmers = kmer_locs(phiX_genome.seq, k=4) \n",
    "# Note: The phiX_genome is a SeqRecord we need to access the Seq attribute using '.seq'\n",
    "\n",
    "# Index the PhiX genome using your build_hash_table() function\n",
    "genome_hash_table = build_hash_table(genome_kmers, hash_table_size = 500)\n",
    "    "
   ]
  },
  {
   "cell_type": "markdown",
   "metadata": {},
   "source": [
    "<div class=\"info\">\n",
    "\n",
    "<b>Challange:</b> Write a <b>generator</b> function that extracts kmers from a query sequence and looks up their location/s from a precalculated hashtable.\n",
    "    \n",
    "- [ ] Inputs:\n",
    "    - A query read as Bio.Seq object,\n",
    "    - A genome index (hashtable),\n",
    "    - The length k used to build the index,\n",
    "    - The size of the hashtable.\n",
    "- [ ] Output: <i>yield</i> (x,y) tuples where x is a kmer location in the read and y is the location of that kmer in the genome.\n",
    "\n",
    "**Note:** If a kmer occurs many times in the genome you should return all locations i.e. `[(x1,y1), (x1,y2)...]`\n",
    "</div>"
   ]
  },
  {
   "cell_type": "code",
   "execution_count": null,
   "metadata": {
    "nbgrader": {
     "grade": false,
     "grade_id": "C1",
     "locked": false,
     "schema_version": 3,
     "solution": true,
     "task": false
    }
   },
   "outputs": [],
   "source": [
    "def mapKmers(read, hash_table={}, k=3, hash_table_size = 100):\n",
    "    # extracts kmers from a query sequence and looks up their genomic locations using kmerLookup() function. \n",
    "\n",
    "    read_kmers = kmer_locs(read, k=k) \n",
    "    raise NotImplementedError"
   ]
  },
  {
   "cell_type": "markdown",
   "metadata": {},
   "source": [
    "Finally use matplotlib to plot the list of (x,y) coords that were generated by the previous function as a scatterplot."
   ]
  },
  {
   "cell_type": "code",
   "execution_count": null,
   "metadata": {},
   "outputs": [],
   "source": [
    "%matplotlib inline\n",
    "import matplotlib.pyplot as plt\n",
    "\n",
    "# Let's assign the output of our mapping function to a variable\n",
    "xy_generator = mapKmers(read = phiX_read.seq, \n",
    "                        hash_table = genome_hash_table, \n",
    "                        k = 4, \n",
    "                        hash_table_size = 500)\n",
    "\n",
    "# Lists to store x and y values\n",
    "x_values = []\n",
    "y_values = []\n",
    "\n",
    "# Iterate over the generator and extract the x and y values\n",
    "for x, y in xy_generator:\n",
    "    x_values.append(x)\n",
    "    y_values.append(y)\n",
    "\n",
    "# Create the scatter plot\n",
    "plt.scatter(x_values, y_values, s=1)\n",
    "plt.xlim(0, len(phiX_read.seq))\n",
    "plt.ylim(0, len(phiX_genome.seq))\n",
    "plt.xlabel('PhiX read')  # Add X-axis label if needed\n",
    "plt.ylabel('PhiX Genome')  # Add Y-axis label if needed\n",
    "plt.title('PhiX read kmer matches in genome')\n",
    "plt.show()"
   ]
  },
  {
   "cell_type": "markdown",
   "metadata": {},
   "source": [
    "This should look like a right mess! We have used a very small kmer size to compare our read to the genome.\n",
    "\n"
   ]
  },
  {
   "cell_type": "markdown",
   "metadata": {},
   "source": [
    "Let's rebuild our genome index using a larger value of k to see if we can improve the specificity of our matches.\n",
    "\n",
    "Remember to increase the size of the hash table to accomodate the extra kmers!"
   ]
  },
  {
   "cell_type": "code",
   "execution_count": null,
   "metadata": {
    "scrolled": true
   },
   "outputs": [],
   "source": [
    "# Increase the size of k to improve the specificity of our read mapping\n",
    "# You may also need to increase the hash table size to accomodate all the new kmers!\n",
    "k = 20\n",
    "table_size = 10000\n",
    "\n",
    "\n",
    "# Extract kmers and their locations from the PhiX genome\n",
    "genome_kmers = kmer_locs(phiX_genome.seq, k=k) \n",
    "# Note: The phiX_genome is a SeqRecord we need to access the Seq attribute using '.seq'\n",
    "\n",
    "# Index the PhiX genome using your build_hash_table() function\n",
    "genome_hash_table = build_hash_table(genome_kmers, hash_table_size = table_size)\n",
    "\n",
    "# Let's assign the output of our mapping function to a variable\n",
    "xy_generator = mapKmers(read = phiX_read.seq, \n",
    "                        hash_table = genome_hash_table, \n",
    "                        k = k, \n",
    "                        hash_table_size = table_size )\n",
    "\n",
    "# Lists to store x and y values\n",
    "x_values = []\n",
    "y_values = []\n",
    "\n",
    "# Iterate over the generator and extract the x and y values\n",
    "for x, y in xy_generator:\n",
    "    x_values.append(x)\n",
    "    y_values.append(y)\n",
    "\n",
    "# Create the scatter plot\n",
    "plt.scatter(x_values, y_values, s=1)\n",
    "plt.xlim(0, len(phiX_read.seq))\n",
    "plt.ylim(0, len(phiX_genome.seq))\n",
    "plt.xlabel('PhiX read')  # Add X-axis label if needed\n",
    "plt.ylabel('PhiX Genome')  # Add Y-axis label if needed\n",
    "plt.title('PhiX read kmer matches in genome')\n",
    "plt.show()"
   ]
  },
  {
   "cell_type": "markdown",
   "metadata": {},
   "source": [
    "<br>\n",
    "\n",
    "Workshop developed by Adam Taranto and Grace Hall."
   ]
  }
 ],
 "metadata": {
  "celltoolbar": "Create Assignment",
  "kernelspec": {
   "display_name": "Python 3 (ipykernel)",
   "language": "python",
   "name": "python3"
  },
  "language_info": {
   "codemirror_mode": {
    "name": "ipython",
    "version": 3
   },
   "file_extension": ".py",
   "mimetype": "text/x-python",
   "name": "python",
   "nbconvert_exporter": "python",
   "pygments_lexer": "ipython3",
   "version": "3.11.5"
  }
 },
 "nbformat": 4,
 "nbformat_minor": 4
}
