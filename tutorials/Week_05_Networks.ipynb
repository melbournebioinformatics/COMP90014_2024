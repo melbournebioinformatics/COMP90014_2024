{
 "cells": [
  {
   "cell_type": "markdown",
   "metadata": {},
   "source": [
    "# Week 5 - Networks "
   ]
  },
  {
   "cell_type": "markdown",
   "metadata": {},
   "source": [
    "<div style=\"color: rgb(27,94,32); background: rgb(200,230,201); border: solid 1px rgb(129,199,132); padding: 10px;\">\n",
    "In this lab you'll do some exercises to familiarise yourself with network properties and concepts.\n",
    "</div>"
   ]
  },
  {
   "cell_type": "markdown",
   "metadata": {},
   "source": [
    "## Setup\n",
    "\n",
    "**imports**"
   ]
  },
  {
   "cell_type": "code",
   "execution_count": null,
   "metadata": {},
   "outputs": [],
   "source": [
    "import itertools\n",
    "import networkx as nx\n",
    "import matplotlib.pyplot as plt\n",
    "import pickle\n",
    "%matplotlib inline"
   ]
  },
  {
   "cell_type": "markdown",
   "metadata": {},
   "source": [
    "**Data**\n",
    "\n",
    "This week we need a Protein-Protein Interaction (PPI) network. <br>\n",
    "The data was loaded into a networkx graph then stored as binary. <br>\n",
    "This data is available at https://github.com/melbournebioinformatics/COMP90014_2024/blob/master/tutorials/data/week5/saccharomyces_cerevisiae_ppi.pickle. \n",
    "\n",
    "Create a ./data folder as usual, download the file above, then place in the ./data folder. \n",
    "Use the shell commands below or download manually using a browser. \n",
    "\n",
    "<div style=\"font-size: 16px\">\n",
    "\n",
    "(Bash Shell)\n",
    "> ```Bash\n",
    "> mkdir -p data\n",
    "> cd data\n",
    "> wget https://github.com/melbournebioinformatics/COMP90014_2024/blob/master/tutorials/data/week4/NC_000913.fasta.gz?raw=true\n",
    "> ```\n"
   ]
  },
  {
   "cell_type": "markdown",
   "metadata": {},
   "source": [
    "## **INTRODUCTION**\n",
    "\n",
    "_Please complete these exercises at your own pace at the start of the class to familiarise yourself with networks. NOTE: We will be using the networkx package in assignments!_\n"
   ]
  },
  {
   "cell_type": "markdown",
   "metadata": {},
   "source": [
    "## Exploring classes in python."
   ]
  },
  {
   "cell_type": "markdown",
   "metadata": {},
   "source": [
    "**Data in python**\n",
    "\n",
    "Python supports many types of data containers. These include ***variables***, ***collections*** (such as lists), and ***classes***. <br>\n",
    "In python, these are all internally stored as objects. \n",
    "\n",
    "Quoting from the [python reference docs](https://docs.python.org/3/reference/datamodel.html): <br>\n",
    "*\"Objects are Python’s abstraction for data. All data in a Python program is represented by objects or by relations between objects.\"*\n",
    "\n",
    "Even imported packages / external python files using the ***module system*** are stored as objects. \n",
    "\n",
    "These objects may have subobjects. For example:\n",
    "- The functions available in an imported package\n",
    "- Attributes/methods on classes"
   ]
  },
  {
   "cell_type": "markdown",
   "metadata": {},
   "source": [
    "\n",
    "**Investigating objects**\n",
    "\n",
    "To view the available properties of an object, we can use the <small>`dir(object)`</small> function. <br>\n",
    "This will display all methods (functions), attribues (variables) belonging to an object. \n",
    "\n",
    "> **Note** <br>\n",
    "> Aside from using the python <small>`dir(object)`</small> function, there are other ways to investigate objects:\n",
    "> - Read the docs / manual (eg the [python docs](https://www.python.org/doc/), or the [networkx docs](https://networkx.org/documentation/stable/reference/index.html))\n",
    "> - By right clicking -> \"Go to definition\" (F12) in VSC \n",
    "> - By investigating objects during runtime using the VSC debugger. <br><br>\n",
    "\n",
    "We can use <small>`dir(object)`</small> to investigate the contents of the ***networkx*** package. \n"
   ]
  },
  {
   "cell_type": "markdown",
   "metadata": {},
   "source": [
    "We will work with **Graph()** (undirected) and **DiGraph()** (directed) graph classes supplied by networkx today. <br>\n",
    "Let's see what attributes the Graph() class has:\n"
   ]
  },
  {
   "cell_type": "code",
   "execution_count": null,
   "metadata": {},
   "outputs": [],
   "source": [
    "dir(nx.Graph)"
   ]
  },
  {
   "cell_type": "markdown",
   "metadata": {},
   "source": [
    "We can try a few of these out to see how they work. Run the cell below."
   ]
  },
  {
   "cell_type": "code",
   "execution_count": null,
   "metadata": {},
   "outputs": [],
   "source": [
    "graphA = nx.Graph()\n",
    "print(graphA.is_directed())\n",
    "print(graphA.size())\n",
    "\n",
    "graphA.add_edge('A', 'B')\n",
    "print(graphA.size())"
   ]
  },
  {
   "cell_type": "markdown",
   "metadata": {},
   "source": [
    "Rather than printing out DiGraph's methods, the following cell will list the attributes which are **exclusive** to Graph or DiGraph."
   ]
  },
  {
   "cell_type": "code",
   "execution_count": null,
   "metadata": {},
   "outputs": [],
   "source": [
    "graphA_attributes = set(dir(nx.Graph))\n",
    "graphB_attributes = set(dir(nx.DiGraph))\n",
    "\n",
    "print('\\nGraphA (Graph) exclusive attributes:')\n",
    "print(list(graphA_attributes - graphB_attributes))\n",
    "\n",
    "print('\\nGraphB (DiGraph) exclusive attributes:')\n",
    "print(list(graphB_attributes - graphA_attributes))\n"
   ]
  },
  {
   "cell_type": "markdown",
   "metadata": {},
   "source": [
    "The directed graph class has a more methods than the undirected graph class.  <br>\n",
    "This is because directed graphs differentiate between incoming vs outgoing edges on a node. "
   ]
  },
  {
   "cell_type": "markdown",
   "metadata": {},
   "source": [
    "## Intro exercise 1 - Interpreting Graphs\n",
    "\n",
    "Given the <b>undirected</b> graph drawn below, write down the adjacency matrix.<br>\n",
    "Do this inside the markdown cell below. \n",
    "\n",
    "For example (different network): \n",
    "\n",
    "```\n",
    "  X Y Z\n",
    "X 0 1 1\n",
    "Y 1 0 0 \n",
    "Z 1 0 0 \n",
    "```  "
   ]
  },
  {
   "cell_type": "markdown",
   "metadata": {},
   "source": [
    "<img src=\"https://raw.githubusercontent.com/melbournebioinformatics/COMP90014_2024/master/tutorials/media/week5/small_graph_undirected.png\" width=\"400\">"
   ]
  },
  {
   "cell_type": "markdown",
   "metadata": {},
   "source": [
    "```\n",
    "# YOUR ANSWER HERE\n",
    "  A B C D\n",
    "A        \n",
    "B        \n",
    "C        \n",
    "D        \n",
    "```"
   ]
  },
  {
   "cell_type": "markdown",
   "metadata": {},
   "source": [
    "Given the <b>directed</b> graph drawn below, write down the adjacency matrix. <br>\n",
    "Think whether the matrix should still be symmetrical."
   ]
  },
  {
   "cell_type": "markdown",
   "metadata": {},
   "source": [
    "<img src=\"https://raw.githubusercontent.com/melbournebioinformatics/COMP90014_2024/master/tutorials/media/week5/small_graph_directed.png\" width=\"400\">\n",
    "\n"
   ]
  },
  {
   "cell_type": "markdown",
   "metadata": {},
   "source": [
    "```\n",
    "# YOUR ANSWER HERE   \n",
    "            (child)  \n",
    "           A B C D E \n",
    "         A           \n",
    "         B           \n",
    "(parent) C           \n",
    "         D           \n",
    "         E           \n",
    "```"
   ]
  },
  {
   "cell_type": "markdown",
   "metadata": {},
   "source": [
    "## Intro exercise 2 - Defining Graphs\n",
    "\n",
    "Create the above graphs in networkx. use the <b>graph_object.add_edge()</b> method to add edges. \n",
    "<br>An example showing how to draw GraphA, and show other representations of the data is given below."
   ]
  },
  {
   "cell_type": "markdown",
   "metadata": {},
   "source": [
    "Define an **undirected** networkx graph object and add nodes/edges:"
   ]
  },
  {
   "cell_type": "code",
   "execution_count": null,
   "metadata": {
    "nbgrader": {
     "grade": false,
     "grade_id": "E2a",
     "locked": false,
     "schema_version": 3,
     "solution": true,
     "task": false
    }
   },
   "outputs": [],
   "source": [
    "graphA = nx.Graph()\n",
    "\n",
    "# YOUR CODE HERE\n",
    "raise NotImplementedError"
   ]
  },
  {
   "cell_type": "markdown",
   "metadata": {},
   "source": [
    "Define a **directed** networkx graph object and add nodes/edges:"
   ]
  },
  {
   "cell_type": "code",
   "execution_count": null,
   "metadata": {
    "nbgrader": {
     "grade": false,
     "grade_id": "E2b",
     "locked": false,
     "schema_version": 3,
     "solution": true,
     "task": false
    }
   },
   "outputs": [],
   "source": [
    "graphB = nx.DiGraph()\n",
    "\n",
    "# YOUR CODE HERE\n",
    "raise NotImplementedError\n"
   ]
  },
  {
   "cell_type": "markdown",
   "metadata": {},
   "source": [
    "<br>The following 4 cells show different representations of our graph:<br>"
   ]
  },
  {
   "cell_type": "code",
   "execution_count": null,
   "metadata": {},
   "outputs": [],
   "source": [
    "nx.draw_spring(graphA, with_labels=True, node_size=1200, node_color='#eeeeff', edge_color='red')"
   ]
  },
  {
   "cell_type": "code",
   "execution_count": null,
   "metadata": {},
   "outputs": [],
   "source": [
    "nx.adjacency_matrix(graphA)"
   ]
  },
  {
   "cell_type": "code",
   "execution_count": null,
   "metadata": {},
   "outputs": [],
   "source": [
    "print(nx.adjacency_matrix(graphA))"
   ]
  },
  {
   "cell_type": "markdown",
   "metadata": {},
   "source": [
    "The output from the above cells only shows connections between nodes. It does not show where there are two nodes that are not connected as this is not useful information. Print the numpy array below to see how the coordinates only show where the connections occur. "
   ]
  },
  {
   "cell_type": "code",
   "execution_count": null,
   "metadata": {},
   "outputs": [],
   "source": [
    "print(graphA.nodes())\n",
    "nx.to_numpy_array(graphA)"
   ]
  },
  {
   "cell_type": "markdown",
   "metadata": {},
   "source": [
    "<br>networkx seems to be using 'numpy' - a popular python library, to store graph data. \n",
    "<br>numpy allows matrix and vector operations to be performed quickly and efficiently. This makes sense if our network gets very big! "
   ]
  },
  {
   "cell_type": "markdown",
   "metadata": {},
   "source": [
    "Lets also check graphB to see if we created it correctly. Print the adjacency matrix for `graphB` (as above) in the folowing cell:"
   ]
  },
  {
   "cell_type": "code",
   "execution_count": null,
   "metadata": {
    "nbgrader": {
     "grade": false,
     "grade_id": "E2c",
     "locked": false,
     "schema_version": 3,
     "solution": true,
     "task": false
    }
   },
   "outputs": [],
   "source": [
    "nx.draw_spring(graphB, with_labels=True, node_size=1200, node_color='#eeeeff', edge_color='red')\n",
    "print(nx.adjacency_matrix(graphB))\n",
    "nx.to_numpy_array(graphB)"
   ]
  },
  {
   "cell_type": "markdown",
   "metadata": {},
   "source": [
    "## **Exercises**\n",
    "\n",
    "</div>"
   ]
  },
  {
   "cell_type": "markdown",
   "metadata": {},
   "source": [
    "## Exercise 1 - Network Properties \n",
    "\n",
    "Complete the function below to find the degree distrbution for any given graph. You can use the networkx method `graph.degree()`, which returns the number of edges connecting to each node. You should return a tuple of two lists: the first list contains all observed vertex degree values in the graph, and the second contains the counts showing how often a vertex with that degree was observed.\n",
    "\n",
    "For instance, calling `degree_distribution()` on `graphA` above could return\n",
    "\n",
    "```([1, 2, 3], [1, 2, 1])```\n",
    "\n",
    "meaning that there is one vertex with degree 1 (D), two vertices with degree 2 (A and B), and one vertex with degree 3 (C).\n",
    "\n",
    "These two lists will give us a handy form for plotting the degree distribution."
   ]
  },
  {
   "cell_type": "code",
   "execution_count": null,
   "metadata": {},
   "outputs": [],
   "source": [
    "# Here's the networkx function `graph.degree()`:\n",
    "graphA.degree('C')"
   ]
  },
  {
   "cell_type": "code",
   "execution_count": null,
   "metadata": {
    "nbgrader": {
     "grade": false,
     "grade_id": "E3",
     "locked": false,
     "schema_version": 3,
     "solution": true,
     "task": false
    }
   },
   "outputs": [],
   "source": [
    "def degree_distribution(graph):\n",
    "    \"\"\"\n",
    "    For the networkx graph provided, return a tuple of lists, where\n",
    "    the first list gives all observed vertex degrees, and the second list gives\n",
    "    the corresponding vertex counts.\n",
    "    \"\"\"\n",
    "    # YOUR CODE HERE\n",
    "    raise NotImplementedError\n",
    "    return (degrees, counts)        "
   ]
  },
  {
   "cell_type": "markdown",
   "metadata": {},
   "source": [
    "Once you have this function, you can draw the degree distribution with a scatter plot:"
   ]
  },
  {
   "cell_type": "code",
   "execution_count": null,
   "metadata": {},
   "outputs": [],
   "source": [
    "# Graph A:\n",
    "degrees, counts = degree_distribution(graphA)\n",
    "fig, ax = plt.subplots()\n",
    "ax.scatter(degrees, counts)"
   ]
  },
  {
   "cell_type": "markdown",
   "metadata": {},
   "source": [
    "Here are some graphs of types described in lectures. You can generate other graph types with networkx functions described at https://networkx.github.io/documentation/stable/reference/generators.html\n",
    "\n",
    "A random (Erdos-Renyi) graph:"
   ]
  },
  {
   "cell_type": "code",
   "execution_count": null,
   "metadata": {},
   "outputs": [],
   "source": [
    "# 600 nodes, probability of each edge 0.4\n",
    "random_graph = nx.fast_gnp_random_graph(600, 0.4)"
   ]
  },
  {
   "cell_type": "markdown",
   "metadata": {},
   "source": [
    "A scale-free graph:"
   ]
  },
  {
   "cell_type": "code",
   "execution_count": null,
   "metadata": {},
   "outputs": [],
   "source": [
    "# 600 nodes\n",
    "scale_free_graph = nx.scale_free_graph(600)"
   ]
  },
  {
   "cell_type": "markdown",
   "metadata": {},
   "source": [
    "If you are finding the degree distribution correctly, you can plot the distributions for these different graph types:"
   ]
  },
  {
   "cell_type": "code",
   "execution_count": null,
   "metadata": {},
   "outputs": [],
   "source": [
    "degrees, counts = degree_distribution(random_graph)\n",
    "fig, ax = plt.subplots()\n",
    "ax.scatter(degrees, counts)"
   ]
  },
  {
   "cell_type": "code",
   "execution_count": null,
   "metadata": {},
   "outputs": [],
   "source": [
    "degrees, counts = degree_distribution(scale_free_graph)\n",
    "fig, ax = plt.subplots()\n",
    "ax.scatter(degrees, counts)"
   ]
  },
  {
   "cell_type": "markdown",
   "metadata": {},
   "source": [
    "The plot for the scale-free graph doesn't look very clear as the relationship shown in lectures is on a log-log scale. Try using `ax.set_xscale('log')` and `ax.set_yscale('log')` on your plot to see this relationship more clearly."
   ]
  },
  {
   "cell_type": "code",
   "execution_count": null,
   "metadata": {},
   "outputs": [],
   "source": [
    "nx.draw_spring(graphA, with_labels=True, node_size=1200, node_color='#eeeeff', edge_color='red')"
   ]
  },
  {
   "cell_type": "markdown",
   "metadata": {},
   "source": [
    "<div style= border: solid 1px rgb(129,199,132); padding: 10px;\">\n",
    "<h3>Exercise 2: Protein-protein interaction networks</h3>\n",
    "\n",
    "<h4> The Data:</h4>\n",
    "In this question we will look at part of the baker's yeast Protein-Protein-Interaction network, taken from the [STRING database](https://string-db.org/). \n",
    "\n",
    "Some information about the PPI network:\n",
    "- The graph is undirected\n",
    "- Nodes are proteins\n",
    "- Edges represent a protein-protein interaction\n",
    "- Edges are unlabelled.\n",
    "    \n",
    "<h4> The Challenge:</h4>\n",
    " Write a function to calculate the local clustering coefficient for a graph. The clustering coefficient of a node quantifies how close its neighbours are to being a complete graph where each neighbour is connected to each other neighbour. This function does exist in networkx, but don't use it - implement it yourself:\n",
    "    \n",
    "- [ ] Input: graph [networkx.Graph]\n",
    "- [ ] Ouput: clustering coefficient (float)\n",
    "    \n",
    "<b>Hints:</b>\n",
    "- Find all neighbours of a query node\n",
    "- Calculate the possible pairwise combinations of the neighbours (excluding query node)\n",
    "- Find the number of these pairwise connections that actually exist in the graph\n",
    "- Return the actual neighbour edges / possible neighbour edges\n",
    "\n",
    "</div>"
   ]
  },
  {
   "cell_type": "markdown",
   "metadata": {},
   "source": [
    "##### Explore the network"
   ]
  },
  {
   "cell_type": "code",
   "execution_count": null,
   "metadata": {},
   "outputs": [],
   "source": [
    "# Import the network\n",
    "ppi_network = pickle.load(open(r'data/saccharomyces_cerevisiae_ppi.pickle', 'rb'))\n",
    "#Print graph object\n",
    "print(ppi_network)"
   ]
  },
  {
   "cell_type": "code",
   "execution_count": null,
   "metadata": {},
   "outputs": [],
   "source": [
    "# Visualise Graph\n",
    "nx.draw_spring(ppi_network, with_labels=True, node_size=1200, node_color='#eeeeff', edge_color='red')"
   ]
  },
  {
   "cell_type": "code",
   "execution_count": null,
   "metadata": {},
   "outputs": [],
   "source": [
    "# Print the adjacency matrix\n",
    "print(nx.adjacency_matrix(ppi_network))"
   ]
  },
  {
   "cell_type": "code",
   "execution_count": null,
   "metadata": {},
   "outputs": [],
   "source": [
    "#Print the distribution\n",
    "degrees, counts = degree_distribution(ppi_network)\n",
    "fig, ax = plt.subplots()\n",
    "ax.scatter(degrees, counts)"
   ]
  },
  {
   "cell_type": "markdown",
   "metadata": {},
   "source": [
    "### Short answer question 1\n",
    "\n",
    "(1 marks, max 25 words)\n",
    "\n",
    "<div class=\"alert alert-info\">\n",
    "\n",
    "What distribution do you think this resembles? \n",
    "\n",
    "</div>"
   ]
  },
  {
   "cell_type": "markdown",
   "metadata": {},
   "source": [
    "<span style=\"color:rgb(17, 122, 121); font-family:Courier\"><i><b># -- GRADED CELL (1 marks) - complete this cell --</b></i></span>\n",
    "\n",
    "YOUR ANSWER HERE"
   ]
  },
  {
   "cell_type": "code",
   "execution_count": null,
   "metadata": {
    "nbgrader": {
     "grade": false,
     "grade_id": "E4",
     "locked": false,
     "schema_version": 3,
     "solution": true,
     "task": false
    }
   },
   "outputs": [],
   "source": [
    "def clustering_coefficient(graph, node_label):\n",
    "    \"\"\"\n",
    "    Calculate and return the clustering coefficient for a node in the protein-protein network.\n",
    "    The clustering coefficient is the number of edges between neighbors \n",
    "    divided by the possible number of edges between neighbors.\n",
    "    \"\"\"\n",
    "    # YOUR CODE HERE\n",
    "    raise NotImplementedError\n"
   ]
  },
  {
   "cell_type": "code",
   "execution_count": null,
   "metadata": {},
   "outputs": [],
   "source": [
    "# Should give 0.7421052631578947\n",
    "clustering_coefficient(ppi_network, 'Q0060')\n"
   ]
  },
  {
   "cell_type": "markdown",
   "metadata": {},
   "source": [
    "Now try testing for the node 'Q0010'. Does your function run efficiently?"
   ]
  },
  {
   "cell_type": "code",
   "execution_count": null,
   "metadata": {},
   "outputs": [],
   "source": [
    "clustering_coefficient(ppi_network, 'Q0010')"
   ]
  },
  {
   "cell_type": "markdown",
   "metadata": {},
   "source": [
    "Compare the performance to the Networkx implementation. If you would like to challenge yourself, have a look at the [source code](https://networkx.org/documentation/stable/_modules/networkx/algorithms/cluster.html#clustering) for the Networkx implementation and see if you can impprove your solution."
   ]
  },
  {
   "cell_type": "code",
   "execution_count": null,
   "metadata": {},
   "outputs": [],
   "source": [
    "# Should give 0.28018948751541606\n",
    "nx.clustering(ppi_network, \"Q0010\")"
   ]
  },
  {
   "cell_type": "markdown",
   "metadata": {},
   "source": [
    "# Extension activities"
   ]
  },
  {
   "cell_type": "markdown",
   "metadata": {},
   "source": [
    "### Extension 1 - Exam style question\n",
    "Using the Networkx package (or your function above if you managed to find an efficient implementation!) calculate the maximum clustering coefficients."
   ]
  },
  {
   "cell_type": "code",
   "execution_count": null,
   "metadata": {},
   "outputs": [],
   "source": [
    "def max_clustering_coefficients(graph, x):\n",
    "    \"\"\"\n",
    "    Write a function to collect the top 'x' nodes ranked by clustering_coefficient. \n",
    "    Return an ordered list of tuples in the format [(node, clustering_coefficient)]\n",
    "    \"\"\"\n",
    "    # YOUR CODE HERE\n",
    "    raise NotImplementedError"
   ]
  },
  {
   "cell_type": "code",
   "execution_count": null,
   "metadata": {},
   "outputs": [],
   "source": [
    "max_clustering_coefficients(ppi_network, 3)"
   ]
  },
  {
   "cell_type": "markdown",
   "metadata": {},
   "source": [
    "### Short answer question 2\n",
    "\n",
    "(3 marks, max 100 words)\n",
    "\n",
    "<div class=\"alert alert-info\">\n",
    "\n",
    "In the context of the protein-protein interaction graph, what can we infer about the nodes with the highest clustering coefficients? How might this be important in a disease context?\n",
    "    \n",
    "</div>\n",
    "=== BEGIN MARK SCHEME ===\n",
    "\n",
    "A high clustering coefficient indicates that the subgraph around that node is highly interconnected (dense).<br>\n",
    "We can infer that this protein is likely involved in a protein complex or a signalling pathway where it is interacting with many other proteins.<br>\n",
    "In the context of disease, mutations in these proteins are likely to have a greater impact than a protein with a low clustering coefficent and hence may be good drug targets.<br>\n",
    "=== END MARK SCHEME ==="
   ]
  },
  {
   "cell_type": "markdown",
   "metadata": {},
   "source": [
    "\n",
    "<span style=\"color:rgb(17, 122, 121); font-family:Courier\"><i><b># -- GRADED CELL (3 marks) - complete this cell --</b></i></span>\n",
    "\n",
    "YOUR ANSWER HERE"
   ]
  },
  {
   "cell_type": "markdown",
   "metadata": {},
   "source": [
    "### Extension 2 - Exploring the Graph\n",
    "\n",
    "\n",
    "Sometimes we want to know whether a particular node is reachable from another node. <br>\n",
    "For example: if we start at node A, is there a path in the graph to node B? \n",
    "\n",
    "For this kind of task we often use Breadth First Search (BFS). <br>\n",
    "BFS is a good choice because it branches out from the starting location in all directions when exploring the graph. \n",
    "For unweighted graphs, this will result in the shortest path from source node to destination node. \n",
    "\n",
    "In the cell below, implement BFS for networkx graphs. \n",
    "\n",
    "Your implementation should use the .neighbors() function to get the edges from a particular node. <br>\n",
    "For a directed graph, .neighbors() returns only the outward edges from a node. <br>\n",
    "For this reason, your implementation should be valid for either an undirected or directed graph.\n",
    "\n",
    "You can use the following pseudocode to help your implementation:\n",
    "```\n",
    "function bfs_reachable( source, dest, graph )\n",
    "    let Q be a queue\n",
    "    let V be a list\n",
    "    Q.enqueue( source )  # add node to queue\n",
    "    V.add( source )      # mark as visited\n",
    " \n",
    "    while ( Q is not empty)\n",
    "        v = Q.dequeue()\n",
    "        for all neighbors n of v in Graph g:\n",
    "            return true if n is dest\n",
    "            if n is not visited:\n",
    "              Q.enqueue( n )   # add node to queue\n",
    "              V.add( n )       # mark node as visited\n",
    "\n",
    "    return false\n",
    "```"
   ]
  },
  {
   "cell_type": "code",
   "execution_count": null,
   "metadata": {
    "nbgrader": {
     "grade": false,
     "grade_id": "E5",
     "locked": false,
     "schema_version": 3,
     "solution": true,
     "task": false
    }
   },
   "outputs": [],
   "source": [
    "def bfs_reachable(source_node, target_node, graph):\n",
    "    \"\"\"\n",
    "    For a given source node, destination node, and a graph, return True if \n",
    "    it is possible to reach the destination from the source, else False. \n",
    "    \"\"\"\n",
    "    # YOUR CODE HERE\n",
    "    raise NotImplementedError\n"
   ]
  },
  {
   "cell_type": "markdown",
   "metadata": {},
   "source": [
    "Let's check our bfs_reachable function using the cell below. "
   ]
  },
  {
   "cell_type": "code",
   "execution_count": null,
   "metadata": {},
   "outputs": [],
   "source": [
    "# defining test graph\n",
    "graph = nx.DiGraph()\n",
    "graph.add_edge('A','B')\n",
    "graph.add_edge('A','C')\n",
    "graph.add_edge('C','B')\n",
    "graph.add_edge('C','D')\n",
    "graph.add_edge('E','C')\n",
    "\n",
    "# running bfs_reachable\n",
    "print(bfs_reachable('A', 'D', graph))  # should return True\n",
    "print(bfs_reachable('E', 'B', graph))  # should return True\n",
    "print(bfs_reachable('E', 'A', graph))  # should return False\n",
    "print(bfs_reachable('A', 'A', graph))  # should return True"
   ]
  }
 ],
 "metadata": {
  "celltoolbar": "Create Assignment",
  "kernelspec": {
   "display_name": "Python 3 (ipykernel)",
   "language": "python",
   "name": "python3"
  },
  "language_info": {
   "codemirror_mode": {
    "name": "ipython",
    "version": 3
   },
   "file_extension": ".py",
   "mimetype": "text/x-python",
   "name": "python",
   "nbconvert_exporter": "python",
   "pygments_lexer": "ipython3",
   "version": "3.11.5"
  }
 },
 "nbformat": 4,
 "nbformat_minor": 4
}
