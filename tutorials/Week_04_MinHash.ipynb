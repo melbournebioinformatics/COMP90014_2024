{
 "cells": [
  {
   "cell_type": "markdown",
   "metadata": {},
   "source": [
    "# Week 4 - MinHash"
   ]
  },
  {
   "cell_type": "markdown",
   "metadata": {},
   "source": [
    "<div style=\"color: rgb(27,94,32); background: rgb(200,230,201); border: solid 1px rgb(129,199,132); padding: 10px;\">\n",
    "\n",
    "Working with sets, minhash, and comparing sequences.\n",
    "\n",
    "</div>"
   ]
  },
  {
   "cell_type": "markdown",
   "metadata": {},
   "source": [
    "## Setup"
   ]
  },
  {
   "cell_type": "markdown",
   "metadata": {},
   "source": [
    "**Week 4 packages**\n",
    "\n",
    "This week we will use: \n",
    "- biopython \n",
    "- mmh3"
   ]
  },
  {
   "cell_type": "markdown",
   "metadata": {},
   "source": [
    "\n",
    "**Week 4 data**\n",
    "\n",
    "This week we will be comparing entire bacterial genomes for similarity using MinHash. <br>\n",
    "These need to be downloaded before we can use them. \n",
    "\n",
    "Download and unzip the .fasta.gz files from the link below: <br>\n",
    "https://github.com/melbournebioinformatics/COMP90014_2024/tree/master/tutorials/data/week4 <br>\n",
    "Once downloaded, create a 'data' directory and place them in this folder. \n",
    "\n",
    "See below for a command line example. \n",
    "\n",
    "<div style=\"font-size: 16px\">\n",
    "\n",
    "(Bash Shell)\n",
    "> ```Bash\n",
    "> # create a 'data' directory for the data & change to that location \n",
    "> mkdir -p data\n",
    "> cd data\n",
    "> \n",
    "> # download the files (wget or curl)\n",
    "> wget https://github.com/melbournebioinformatics/COMP90014_2024/blob/master/tutorials/data/week4/NC_000913.fasta.gz?raw=true\n",
    "> wget https://github.com/melbournebioinformatics/COMP90014_2024/blob/master/tutorials/data/week4/NC_002695.fasta.gz?raw=true\n",
    "> wget https://github.com/melbournebioinformatics/COMP90014_2024/blob/master/tutorials/data/week4/NC_003197.fasta.gz?raw=true\n",
    "> wget https://github.com/melbournebioinformatics/COMP90014_2024/blob/master/tutorials/data/week4/NC_021870.fasta.gz?raw=true\n",
    ">\n",
    "> # decompress\n",
    "> gunzip *.fasta.gz\n",
    ">\n",
    "\n",
    "</div>\n",
    "\n"
   ]
  },
  {
   "cell_type": "markdown",
   "metadata": {},
   "source": [
    "## Working with Sets\n",
    "\n",
    "In Python sets are an unordered collection of unique elements. Sets are similar to lists and tuples, but unlike lists and tuples, sets cannot contain duplicate values. \n",
    "\n",
    "We can use sets for tasks that involve handling unique items, such as removing duplicates from a list or testing membership in a collection."
   ]
  },
  {
   "cell_type": "code",
   "execution_count": null,
   "metadata": {},
   "outputs": [],
   "source": [
    "# Create sets in Python\n",
    "empty_set = set()\n",
    "my_set = {1, 2, 3, 4, 5}"
   ]
  },
  {
   "cell_type": "code",
   "execution_count": null,
   "metadata": {},
   "outputs": [],
   "source": [
    "# Convert a list to a set\n",
    "set([1,1,2,3,4,4,])"
   ]
  },
  {
   "cell_type": "markdown",
   "metadata": {},
   "source": [
    "Adding and Removing Elements:\n",
    "\n",
    "You can add elements to a set using the add() method and remove elements using the remove() or discard() methods.\n",
    "\n",
    "Note: discard() does not raise an error if if the element is not found"
   ]
  },
  {
   "cell_type": "code",
   "execution_count": null,
   "metadata": {},
   "outputs": [],
   "source": [
    "my_set.add(6)\n",
    "my_set.remove(3)\n",
    "print(my_set)"
   ]
  },
  {
   "cell_type": "code",
   "execution_count": null,
   "metadata": {},
   "outputs": [],
   "source": [
    "# Membership Testing: You can test if an element is in a set using the in keyword.\n",
    "if 2 in my_set:\n",
    "    print(\"2 is in the set\")"
   ]
  },
  {
   "cell_type": "code",
   "execution_count": null,
   "metadata": {},
   "outputs": [],
   "source": [
    "# You can get the number of elements in a set using the len() function.\n",
    "len(my_set)"
   ]
  },
  {
   "cell_type": "markdown",
   "metadata": {},
   "source": [
    "### Set Operations:\n",
    "\n",
    "Sets support various operations such as union, intersection, difference, and symmetric difference.\n",
    "\n",
    "Union (|): Combines two sets and returns a new set with all unique elements."
   ]
  },
  {
   "cell_type": "code",
   "execution_count": null,
   "metadata": {},
   "outputs": [],
   "source": [
    "set1 = {1, 2, 3}\n",
    "set2 = {3, 4, 5}\n",
    "union_set = set1 | set2\n",
    "print(union_set)"
   ]
  },
  {
   "cell_type": "markdown",
   "metadata": {},
   "source": [
    "Intersection (&): Returns a new set containing elements that are in both sets."
   ]
  },
  {
   "cell_type": "code",
   "execution_count": null,
   "metadata": {},
   "outputs": [],
   "source": [
    "intersection_set = set1 & set2\n",
    "print(intersection_set)"
   ]
  },
  {
   "cell_type": "markdown",
   "metadata": {},
   "source": [
    "Difference (-): Returns a new set with elements from the first set that are not in the second set.\n",
    "\n",
    "Also called the \"exclusion\""
   ]
  },
  {
   "cell_type": "code",
   "execution_count": null,
   "metadata": {},
   "outputs": [],
   "source": [
    "# In set1 and not in set2\n",
    "difference_set = set1 - set2\n",
    "print(difference_set)"
   ]
  },
  {
   "cell_type": "markdown",
   "metadata": {},
   "source": [
    "Symmetric Difference (^): Returns a new set with elements that are in either of the sets but not in both."
   ]
  },
  {
   "cell_type": "code",
   "execution_count": null,
   "metadata": {},
   "outputs": [],
   "source": [
    "# Unique to either set, not shared\n",
    "symmetric_difference_set = set1 ^ set2\n",
    "print(symmetric_difference_set)"
   ]
  },
  {
   "cell_type": "markdown",
   "metadata": {},
   "source": [
    "## Exercise 1: True Jaccard Distance"
   ]
  },
  {
   "cell_type": "markdown",
   "metadata": {},
   "source": [
    "<div style=\"color: rgb(27,94,32); background: rgb(200,230,201); border: solid 1px rgb(129,199,132); padding: 10px;\">\n",
    "\n",
    "<b>Challange:</b> Write a function that returns a set of all unique kmers in a sequence. \n",
    "    \n",
    "- Input: \n",
    "    - A DNA string or Seq object\n",
    "    - kmer len `k`\n",
    "- Extract kmers from the input seq\n",
    "- Output: Return set of all kmers\n",
    "    \n",
    "</div>"
   ]
  },
  {
   "cell_type": "code",
   "execution_count": null,
   "metadata": {},
   "outputs": [],
   "source": [
    "def extract_kmers(seq: str, k: int) -> set:\n",
    "    \"\"\"\n",
    "    Extracts all kmers & returns as set.\n",
    "    \"\"\"\n",
    "    # YOUR CODE HERE \n",
    "    raise NotImplementedError\n"
   ]
  },
  {
   "cell_type": "code",
   "execution_count": null,
   "metadata": {},
   "outputs": [],
   "source": [
    "seq = 'AGTACGGT'\n",
    "print(extract_kmers(seq, 4)) # should equal {'CGGT', 'ACGG', 'TACG', 'GTAC', 'AGTA'}"
   ]
  },
  {
   "cell_type": "markdown",
   "metadata": {},
   "source": [
    "<div style=\"color: rgb(27,94,32); background: rgb(200,230,201); border: solid 1px rgb(129,199,132); padding: 10px;\">\n",
    "\n",
    "<b>Challange:</b> Calculate jaccard for kmer sets. The Jaccard distance is the `intersection / union`.\n",
    "    \n",
    "- Input: Two kmer sets\n",
    "- Output: Jaccard dist of the sets\n",
    "    \n",
    "</div>"
   ]
  },
  {
   "cell_type": "code",
   "execution_count": null,
   "metadata": {},
   "outputs": [],
   "source": [
    "def jaccard(a: set, b: set) -> float:\n",
    "    # YOUR CODE HERE \n",
    "    raise NotImplementedError\n"
   ]
  },
  {
   "cell_type": "code",
   "execution_count": null,
   "metadata": {},
   "outputs": [],
   "source": [
    "set1 = set([1, 2, 3, 4, 5])\n",
    "set2 = set([4, 5, 6, 7, 8])\n",
    "print(jaccard(set1, set2))    # should equal 0.25"
   ]
  },
  {
   "cell_type": "markdown",
   "metadata": {},
   "source": [
    "<div style=\"color: rgb(27,94,32); background: rgb(200,230,201); border: solid 1px rgb(129,199,132); padding: 10px;\">\n",
    "    \n",
    "<b>Challange:</b> Combine the above functions to return jaccard index for two sequences and a kmer size k\n",
    "    \n",
    "</div>\n"
   ]
  },
  {
   "cell_type": "code",
   "execution_count": null,
   "metadata": {},
   "outputs": [],
   "source": [
    "def true_jaccard_distance(seqA: str, seqB: str, k: int) -> float:\n",
    "    # YOUR CODE HERE \n",
    "    raise NotImplementedError\n"
   ]
  },
  {
   "cell_type": "code",
   "execution_count": null,
   "metadata": {},
   "outputs": [],
   "source": [
    "# identical\n",
    "seqA = 'AGTACGGTCAGTAGTCGC'\n",
    "seqB = 'AGTACGGTCAGTAGTCGC'\n",
    "j = true_jaccard_distance(seqA, seqB, 4)\n",
    "print(f'identical sequences true jaccard: {j:.2f}')   # should equal 1.0\n",
    "\n",
    "# single mismatch \n",
    "seqA = 'AGTACGGTAAGTAGTCGC'\n",
    "seqB = 'AGTACGGTTAGTAGTCGC'\n",
    "j = true_jaccard_distance(seqA, seqB, 4)\n",
    "print(f'single mismatch true jaccard: {j:.2f}')       # should equal 0.59\n",
    "\n",
    "# single indel\n",
    "seqA = 'AGTACGGTAAAGTAGTCGC'\n",
    "seqB = 'AGTACGGTAAGTAGTCGC'\n",
    "j = true_jaccard_distance(seqA, seqB, 4) \n",
    "print(f'single indel jaccard: {j:.2f}')               # should equal 0.81\n"
   ]
  },
  {
   "cell_type": "markdown",
   "metadata": {},
   "source": [
    "## Exercise 2: MinHash sketches\n",
    "\n",
    "In exercise 1 we compared kmer similarity between two sequences by calculating a ***true*** jaccard index.  <br>\n",
    "All kmers from each sequences were used. This can be time consuming if doing many comparisons.\n",
    "\n",
    "To reduce runtime, we can create a 'MinHash sketch', which acts as a kmer 'fingerprint' of a sequence. <br>\n",
    "By comparing these sketches (which are tiny in comparison), rather than the full kmer sets, we can ***estimate*** the jaccard index in a fraction of the time. \n",
    "\n",
    "We will consider that two sequences may be reverse complemented relative to one another, so will use canonical kmers. \n",
    "Remember that a canonical kmer is the lexicographically smaller of the two orientations of a kmer. "
   ]
  },
  {
   "cell_type": "markdown",
   "metadata": {},
   "source": [
    "\n",
    "<div style=\"color: rgb(27,94,32); background: rgb(200,230,201); border: solid 1px rgb(129,199,132); padding: 10px;\">\n",
    "\n",
    "<b>Challange:</b> Write a function that returns a Minhash Sketch of a DNA sequence. The sketch should be a set containing the bottom `s` hash values of kmers extracted from the input sequence`.\n",
    "\n",
    "- Input: \n",
    "    - A DNA string\n",
    "    - kmer len `k`\n",
    "    - the number of min. hash values `s` to store in the sketch \n",
    "- Output: Return a set of the smallest `s` hash values\n",
    "\n",
    "Process:\n",
    "- Extract canonical kmers from the input seq\n",
    "- Calculate hash values\n",
    "- Pick the smallest `s` values and return as a set. \n",
    "    \n",
    "</div>"
   ]
  },
  {
   "cell_type": "code",
   "execution_count": null,
   "metadata": {},
   "outputs": [],
   "source": [
    "# Some helper functions for calculating a hash value from a canonical kmer\n",
    "import mmh3 \n",
    "\n",
    "def get_canon(kmer: str) -> str:\n",
    "    complement_dict = {'A': 'T', 'T': 'A', 'C': 'G', 'G': 'C'}\n",
    "    rev = kmer[::-1]\n",
    "    revcomp = ''.join([complement_dict[base] for base in rev])\n",
    "    if kmer <= revcomp:\n",
    "        return kmer\n",
    "    else:\n",
    "        return revcomp\n",
    "\n",
    "# Hash canonical kmer \n",
    "def dna_hash(kmer: str) -> int:\n",
    "    hashval = mmh3.hash64(str(kmer), seed=42, signed=False)[0]\n",
    "    return hashval"
   ]
  },
  {
   "cell_type": "code",
   "execution_count": null,
   "metadata": {
    "nbgrader": {
     "grade": false,
     "grade_id": "E1",
     "locked": false,
     "schema_version": 3,
     "solution": true,
     "task": false
    }
   },
   "outputs": [],
   "source": [
    "def minhash_sketch(seq: str, k: int, s: int) -> set:\n",
    "    \"\"\"\n",
    "    Calulate minhash sketch from DNA sequence.\n",
    "    \"\"\"\n",
    "    # YOUR CODE HERE \n",
    "    raise NotImplementedError"
   ]
  },
  {
   "cell_type": "code",
   "execution_count": null,
   "metadata": {},
   "outputs": [],
   "source": [
    "# First 100 bases of our first SeqRecord\n",
    "seq = 'AGCTTTTCATTCTGACTGCAACGGGCAATATGTCTCTGTGTGGATTAAAAAAAGAGTGTCTGATAGCAGC'\n",
    "minhash_sketch(seq, k=5, s=10)"
   ]
  },
  {
   "cell_type": "markdown",
   "metadata": {},
   "source": [
    "## Exercise 3: MinHash Jaccard Distance"
   ]
  },
  {
   "cell_type": "markdown",
   "metadata": {},
   "source": [
    "Genomes that share kmers also share kmer hash values, and therefore may have similar MinHash sketches. <br>\n",
    "We can rapidly ***estimate*** the distance of two sequences by calculating the jaccard distance using MinHash sketches as input.\n",
    "\n",
    "Remember these distances are estimates only, as we've taken a kmer sample from both sequences.\n",
    "\n",
    "Using our minhash_sketch() function from earlier, let's test it on two identical sequences."
   ]
  },
  {
   "cell_type": "code",
   "execution_count": null,
   "metadata": {},
   "outputs": [],
   "source": [
    "# identical sequences: prove that minhash works & jaccard would be 1\n",
    "seqA = 'AGTACGGTAGATGCGTTGTGCATGACTGATGCTAGAGTCTGCTACGTAGCGACAGCTTGCAGTCATGC'\n",
    "seqB = 'AGTACGGTAGATGCGTTGTGCATGACTGATGCTAGAGTCTGCTACGTAGCGACAGCTTGCAGTCATGC'\n",
    "\n",
    "sketchA = minhash_sketch(seqA, 4, 8)\n",
    "print(f'sketchA: {sketchA}')\n",
    "\n",
    "sketchB = minhash_sketch(seqB, 4, 8)\n",
    "print(f'sketchB: {sketchB}')"
   ]
  },
  {
   "cell_type": "code",
   "execution_count": null,
   "metadata": {},
   "outputs": [],
   "source": [
    "# We can check these are the same using an assert statement\n",
    "assert sketchA == sketchB"
   ]
  },
  {
   "cell_type": "markdown",
   "metadata": {},
   "source": [
    "Now lets make the sequences slightly different"
   ]
  },
  {
   "cell_type": "code",
   "execution_count": null,
   "metadata": {},
   "outputs": [],
   "source": [
    "# Different sequences: show that most min 8 hash values match\n",
    "seqA = 'AGTACGGTACATCCGTTGGGC'\n",
    "seqB = 'AGTACGGTACATGCGTTGC'\n",
    "\n",
    "sketchA = minhash_sketch(seqA, 4, 8)\n",
    "sketchB = minhash_sketch(seqB, 4, 8)\n",
    "\n",
    "if sketchA != sketchB:\n",
    "    print('sketches not same!')\n",
    "    \n",
    "print(f'sketchA: {sketchA}')\n",
    "print(f'sketchB: {sketchB}')"
   ]
  },
  {
   "cell_type": "markdown",
   "metadata": {},
   "source": [
    "<div style=\"color: rgb(27,94,32); background: rgb(200,230,201); border: solid 1px rgb(129,199,132); padding: 10px;\">\n",
    "<b>Challange:</b> Calculate the Jaccard distance between two Minhash sketches (Minhash distance)\n",
    "    \n",
    "- Input: \n",
    "    - Two sets DNA seqs\n",
    "    - kmer len k\n",
    "    - Number of minimizers m\n",
    "- Calculate minhash sketch for each input seq\n",
    "- Return: Jaccard distance between the two minhash sketches\n",
    "</div>"
   ]
  },
  {
   "cell_type": "code",
   "execution_count": null,
   "metadata": {
    "nbgrader": {
     "grade": false,
     "grade_id": "3a",
     "locked": false,
     "schema_version": 3,
     "solution": true,
     "task": false
    }
   },
   "outputs": [],
   "source": [
    "def minhash_jaccard_distance(seqA: str, seqB: str, k: int, s: int) -> float:\n",
    "    # YOUR CODE HERE \n",
    "    raise NotImplementedError"
   ]
  },
  {
   "cell_type": "code",
   "execution_count": null,
   "metadata": {},
   "outputs": [],
   "source": [
    "# identical sequences \n",
    "print('IDENTICAL')\n",
    "seqA = 'AGTACGGTACATGCGTTGC'\n",
    "seqB = 'AGTACGGTACATGCGTTGC'\n",
    "jt = true_jaccard_distance(seqA, seqB, k=4)\n",
    "jm = minhash_jaccard_distance(seqA, seqB, k=4, s=10)\n",
    "print(f'True Jaccard for identical sequences: {jt:.2f}')       # should equal 1.00\n",
    "print(f'MinHash Jaccard for identical sequences: {jm:.2f}')    # should approximate 1.00\n",
    "print()\n",
    "\n",
    "# different sequences: \n",
    "# - prove minhash is approximation of jaccard\n",
    "# - students will all get different values for minhash jaccard based on hash seed\n",
    "# - compare with each other - jm should all be approximating 0.77\n",
    "# - run a few times to show different random samples due to hash seed\n",
    "print('DIFFERENT')\n",
    "seqA = 'AGTACGGTAGATGCGTTGTGCATGACTGATGCTAGAGTCTGCTACGTAGCGACAGCTTGCAGTCATGC'\n",
    "seqB = 'AGTACGGTACATGCGTTGTGCACGACTGATGCTAGAGTCTGCTACGTAGCGACAGCTTGCAAGTCATGC'\n",
    "jt = true_jaccard_distance(seqA, seqB, k=4)\n",
    "jm = minhash_jaccard_distance(seqA, seqB, k=4, s=10)\n",
    "print(f'True Jaccard for different sequences: {jt:.2f}')      # should equal 0.77\n",
    "print(f'MinHash Jaccard for different sequences: {jm:.2f}')   # should approximate 0.77"
   ]
  },
  {
   "cell_type": "markdown",
   "metadata": {},
   "source": [
    "## Speed and accuracy comparison\n",
    "\n",
    "Here we demonstrate the speed improvement and accuracy tradeoff when using MinHash. "
   ]
  },
  {
   "cell_type": "markdown",
   "metadata": {},
   "source": [
    "Load bacterial genomes from file"
   ]
  },
  {
   "cell_type": "code",
   "execution_count": null,
   "metadata": {},
   "outputs": [],
   "source": [
    "# load bacterial genomes\n",
    "from Bio import SeqIO\n",
    "\n",
    "genome_filepaths = [\n",
    "    'data/NC_000913.fasta',\n",
    "    'data/NC_002695.fasta',\n",
    "    'data/NC_003197.fasta',\n",
    "    'data/NC_021870.fasta',\n",
    "]\n",
    "\n",
    "genomes = []\n",
    "for filepath in genome_filepaths:\n",
    "    seq = next(SeqIO.parse(filepath, \"fasta\"))\n",
    "    genomes.append(seq)"
   ]
  },
  {
   "cell_type": "markdown",
   "metadata": {},
   "source": [
    "Calculate ***true*** jaccard distance (using all kmers). \n",
    "Only using the first 1Mb of a given genome. "
   ]
  },
  {
   "cell_type": "code",
   "execution_count": null,
   "metadata": {},
   "outputs": [],
   "source": [
    "seqA = genomes[0].seq[:1000000]\n",
    "seqB = genomes[1].seq[:1000000]\n",
    "print('true jaccard index: ', true_jaccard_distance(seqA, seqB, k=10))"
   ]
  },
  {
   "cell_type": "markdown",
   "metadata": {},
   "source": [
    "The cell above should take a few seconds - half a minute to run. \n",
    "\n",
    "This is pretty slow if we want to do many comparisons. <br>\n",
    "Let's instead extract MinHash sketches, then compare sketches instead. \n",
    "\n",
    "Extract sketches (a few seconds - half a minute to run)"
   ]
  },
  {
   "cell_type": "code",
   "execution_count": null,
   "metadata": {},
   "outputs": [],
   "source": [
    "sketch_A = minhash_sketch(genomes[0].seq[:1000000], 10, 100)\n",
    "sketch_B = minhash_sketch(genomes[1].seq[:1000000], 10, 100)"
   ]
  },
  {
   "cell_type": "markdown",
   "metadata": {},
   "source": [
    "After sketches have been created, comparisons will now take negligible time. <br>\n",
    "Below we will calculate the jaccard index 100 times to illustrate. It should still run almost instantly. \n",
    "\n",
    "Note that the ***estimated*** jaccard index is very similar to the true jaccard index. "
   ]
  },
  {
   "cell_type": "code",
   "execution_count": null,
   "metadata": {},
   "outputs": [],
   "source": [
    "for i in range(100):\n",
    "    jaccard(set(sketch_A), set(sketch_B))\n",
    "\n",
    "print('estimated jaccard index: ', jaccard(set(sketch_A), set(sketch_B)))"
   ]
  },
  {
   "cell_type": "markdown",
   "metadata": {},
   "source": [
    "From this example we see that the estimated jaccard index is close to the true value. <br> \n",
    "MinHash can provide an efficiency boost while maintaining decent accuracy. <br>\n",
    "MinHash (and other fingerprinting approaches) can be applied when doing one-to-many or many-to-many comparisons. "
   ]
  },
  {
   "cell_type": "markdown",
   "metadata": {},
   "source": [
    "## Extension challenges"
   ]
  },
  {
   "cell_type": "markdown",
   "metadata": {},
   "source": [
    "<div style=\"color: rgb(27,94,32); background: rgb(200,230,201); border: solid 1px rgb(129,199,132); padding: 10px;\">\n",
    "<b>Challange:</b> Calculate pairwise minhash distances for our 4 bacterial genomes. \n",
    "\n",
    "Visualise distances with an MDS plot.\n",
    "    \n",
    "Which samples are most similar?\n",
    "    \n",
    "Hint: Check the seqrecord descriptions for species names.\n",
    "</div>"
   ]
  },
  {
   "cell_type": "code",
   "execution_count": null,
   "metadata": {
    "nbgrader": {
     "grade": false,
     "grade_id": "E4",
     "locked": false,
     "schema_version": 3,
     "solution": true,
     "task": false
    }
   },
   "outputs": [],
   "source": [
    "# Get pairwise distances\n",
    "# Make MDS plot"
   ]
  },
  {
   "cell_type": "markdown",
   "metadata": {},
   "source": [
    "This workshop was developed by Grace Hall and Adam Taranto."
   ]
  }
 ],
 "metadata": {
  "celltoolbar": "Create Assignment",
  "kernelspec": {
   "display_name": "Python 3 (ipykernel)",
   "language": "python",
   "name": "python3"
  },
  "language_info": {
   "codemirror_mode": {
    "name": "ipython",
    "version": 3
   },
   "file_extension": ".py",
   "mimetype": "text/x-python",
   "name": "python",
   "nbconvert_exporter": "python",
   "pygments_lexer": "ipython3",
   "version": "3.11.5"
  }
 },
 "nbformat": 4,
 "nbformat_minor": 4
}
