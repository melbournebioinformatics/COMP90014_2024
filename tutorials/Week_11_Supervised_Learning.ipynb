{
 "cells": [
  {
   "cell_type": "markdown",
   "metadata": {},
   "source": [
    "# Week 11 - Supervised Learning "
   ]
  },
  {
   "cell_type": "markdown",
   "metadata": {},
   "source": [
    "<div style=\"color: rgb(27,94,32); background: rgb(200,230,201); border: solid 1px rgb(129,199,132); padding: 10px;\">\n",
    "\n",
    "This week we will be applying some common supervised learning methods to classify the Iris dataset.\n",
    "    \n",
    "I have provided links to online tutorials for you learn how to use some basic scikit-learn classifiers by yourself. \n",
    "    \n",
    "In the tutorial we will discuss how to assess the quality of models that you generate using the confusion matix and a number of metrics discussed in lectures.\n",
    "\n",
    "</div>"
   ]
  },
  {
   "cell_type": "markdown",
   "metadata": {},
   "source": [
    "## Classification Algorithms "
   ]
  },
  {
   "cell_type": "markdown",
   "metadata": {},
   "source": [
    "[Intro to Machine Learning](https://scikit-learn.org/stable/tutorial/basic/tutorial.html)\n",
    "\n",
    "In general, a learning problem considers a set of n samples of data and then tries to predict properties of unknown data. If each sample is more than a single number and, for instance, a multi-dimensional entry (aka multivariate data), it is said to have several attributes or features.\n",
    "\n",
    "Learning problems fall into a few categories:\n",
    "\n",
    "- **Supervised learning**, in which the data comes with additional attributes that we want to predict [Click here to go to the scikit-learn supervised learning page](https://scikit-learn.org/stable/supervised_learning.html#supervised-learning).This problem can be either:\n",
    "\n",
    " - **Classification**: samples belong to two or more classes and we want to learn from already labeled data how to predict the class of unlabeled data. An example of a classification problem would be handwritten digit recognition, in which the aim is to assign each input vector to one of a finite number of discrete categories. Another way to think of classification is as a discrete (as opposed to continuous) form of supervised learning where one has a limited number of categories and for each of the n samples provided, one is to try to label them with the correct category or class.\n",
    " - **Regression**: if the desired output consists of one or more continuous variables, then the task is called regression. An example of a regression problem would be the prediction of the length of a salmon as a function of its age and weight.\n",
    "\n",
    "- **Unsupervised learning**, in which the training data consists of a set of input vectors x without any corresponding target values. The goal in such problems may be to discover groups of similar examples within the data, where it is called clustering, or to determine the distribution of data within the input space, known as density estimation, or to project the data from a high-dimensional space down to two or three dimensions for the purpose of visualization [Click here to go to the Scikit-Learn unsupervised learning page](https://scikit-learn.org/stable/unsupervised_learning.html#unsupervised-learning).\n",
    "\n"
   ]
  },
  {
   "cell_type": "markdown",
   "metadata": {},
   "source": [
    "## Setup"
   ]
  },
  {
   "cell_type": "code",
   "execution_count": null,
   "metadata": {},
   "outputs": [],
   "source": [
    "%matplotlib inline\n",
    "import matplotlib.pyplot as plt\n",
    "from sklearn.decomposition import PCA\n",
    "from sklearn import neighbors\n",
    "from matplotlib.colors import ListedColormap\n",
    "import pandas as pd\n",
    "import numpy as np\n",
    "import os\n",
    "import requests\n",
    "from IPython.core.display import HTML"
   ]
  },
  {
   "cell_type": "markdown",
   "metadata": {},
   "source": []
  },
  {
   "cell_type": "code",
   "execution_count": null,
   "metadata": {},
   "outputs": [],
   "source": [
    "files = ['CM.png','CM2.png','errorTypes.png','irises.jpeg']\n",
    "\n",
    "for filename in files:\n",
    "    url = f'https://github.com/melbournebioinformatics/COMP90014/blob/main/data/2023/Workshop_11/media/{filename}?raw=true'\n",
    "    fetch_file(url,outpath='src/media')"
   ]
  },
  {
   "cell_type": "markdown",
   "metadata": {},
   "source": [
    "# Data"
   ]
  },
  {
   "cell_type": "markdown",
   "metadata": {},
   "source": [
    "## Import the dataset\n",
    "To learn about classifiers will will be making use of the **sklearn library**. This library has some awesome tutorials and example datasets. One such dataset is the **Iris dataset**. The Iris flower data set or Fisher's Iris data set is a multivariate data set introduced by the British statistician and biologist Ronald Fisher in his 1936 paper *The use of multiple measurements in taxonomic problems as an example of linear discriminant analysis*. \n",
    "\n",
    "The data set consists of 50 samples from each of **three species** of Iris (*Iris setosa, Iris virginica and Iris versicolor*). \n",
    "\n",
    "**Four features** were measured from each sample: the length and the width of the sepals and petals, in centimeters.\n",
    "\n",
    "<img src = \"src/media/irises.jpeg\"  width= \"500\"/>"
   ]
  },
  {
   "cell_type": "code",
   "execution_count": null,
   "metadata": {},
   "outputs": [],
   "source": [
    "# Load in the dataset\n",
    "from sklearn import datasets\n",
    "iris = datasets.load_iris()\n",
    "#print(iris.DESCR)"
   ]
  },
  {
   "cell_type": "markdown",
   "metadata": {},
   "source": [
    "## Explore the data"
   ]
  },
  {
   "cell_type": "code",
   "execution_count": null,
   "metadata": {
    "scrolled": false
   },
   "outputs": [],
   "source": [
    "# Let's unpack the data and associated labels\n",
    "petal_data = iris.data\n",
    "labels = iris.target\n",
    "target_names = iris.target_names\n",
    "print('target names:\\n', iris.target_names)\n",
    "print('\\nFirst 10 rows of data:\\n', petal_data[:10])\n",
    "print('\\ntarget labels:', labels)"
   ]
  },
  {
   "cell_type": "markdown",
   "metadata": {},
   "source": [
    "## Working with Numpy arrays\n",
    "\n",
    "Each record in our dataset comprises measurements of petal length and width, and sepel length and width. These values are stored in a numpy array.\n",
    "\n",
    "Arrays are an efficient way to work with large multidimentional datasets. Let's explore how we can interact with them.\n",
    "\n",
    "For more info on working with arrays and all the cool things they can do check out the Numpy docs or the [Python Data Science Handbook](https://jakevdp.github.io/PythonDataScienceHandbook/02.02-the-basics-of-numpy-arrays.html)."
   ]
  },
  {
   "cell_type": "code",
   "execution_count": null,
   "metadata": {},
   "outputs": [],
   "source": [
    "# Our array has 2 dimensions\n",
    "petal_data.ndim"
   ]
  },
  {
   "cell_type": "code",
   "execution_count": null,
   "metadata": {},
   "outputs": [],
   "source": [
    "# The attribute 'shape' tells us the size of the 2 dimensions of our array \n",
    "# There are 150 lists each with 4 items.\n",
    "petal_data.shape"
   ]
  },
  {
   "cell_type": "code",
   "execution_count": null,
   "metadata": {},
   "outputs": [],
   "source": [
    "# There a 600 values in our array (150 * 4)\n",
    "petal_data.size"
   ]
  },
  {
   "cell_type": "markdown",
   "metadata": {},
   "source": [
    "#### Array indexing - access single elements"
   ]
  },
  {
   "cell_type": "code",
   "execution_count": null,
   "metadata": {},
   "outputs": [],
   "source": [
    "# Array indexing - access single elements\n",
    "# Access the first record in our dataset\n",
    "petal_data[0]"
   ]
  },
  {
   "cell_type": "code",
   "execution_count": null,
   "metadata": {},
   "outputs": [],
   "source": [
    "# Lower dims in our array can be accessed by chaining index calls\n",
    "print( petal_data[0][0] )\n",
    "\n",
    "# Or by comma separated indexing of each dim\n",
    "print( petal_data[0,0] )"
   ]
  },
  {
   "cell_type": "markdown",
   "metadata": {},
   "source": [
    "#### Slicing multidimentional arrays"
   ]
  },
  {
   "cell_type": "code",
   "execution_count": null,
   "metadata": {},
   "outputs": [],
   "source": [
    "# Slicing works the same as for lists in python using [start:stop:step] notation\n",
    "# We can slice each dimension of the array simultaneously using commas to separate the slices\n",
    "\n",
    "# The first 5 records\n",
    "petal_data[:5]"
   ]
  },
  {
   "cell_type": "code",
   "execution_count": null,
   "metadata": {},
   "outputs": [],
   "source": [
    "# The first 2 values from each of the first 5 records as a sub-array\n",
    "petal_data[:5,:2]"
   ]
  },
  {
   "cell_type": "markdown",
   "metadata": {},
   "source": [
    "#### Accessing single rows or columns"
   ]
  },
  {
   "cell_type": "code",
   "execution_count": null,
   "metadata": {},
   "outputs": [],
   "source": [
    "# Combining slices and indexing \n",
    "# return first value from each of the first 5 records\n",
    "petal_data[:5,0]"
   ]
  },
  {
   "cell_type": "markdown",
   "metadata": {},
   "source": [
    "## Visualising the data"
   ]
  },
  {
   "cell_type": "code",
   "execution_count": null,
   "metadata": {},
   "outputs": [],
   "source": [
    "# We can perform a PCA to get a look at the data \n",
    "pca = PCA(n_components=2)\n",
    "X_pca = pca.fit_transform(petal_data)\n",
    "\n",
    "print(f'explained variance ratio (first two components): {str(pca.explained_variance_ratio_)}')"
   ]
  },
  {
   "cell_type": "code",
   "execution_count": null,
   "metadata": {},
   "outputs": [],
   "source": [
    "# Plotting the PCA\n",
    "plt.figure()\n",
    "colors = ['navy', 'turquoise', 'darkorange']\n",
    "lw = 2\n",
    "\n",
    "for color, i, target_name in zip(colors, [0, 1, 2], target_names):\n",
    "    plt.scatter(X_pca[labels == i, 0], X_pca[labels == i, 1], color=color, alpha=.8, lw=lw, label=target_name)\n",
    "    \n",
    "plt.legend(loc='best', shadow=False, scatterpoints=1)\n",
    "plt.title('PCA of IRIS dataset')"
   ]
  },
  {
   "cell_type": "markdown",
   "metadata": {},
   "source": [
    "### Training set and testing set\n",
    "\n",
    "Machine learning is about learning some properties of a data set and then testing those properties against another data set. A common practice in machine learning is to evaluate an algorithm by splitting a data set into two. We call one of those sets the **training set**, on which we learn some properties; we call the other set the **testing set**, on which we test the learned properties.\n"
   ]
  },
  {
   "cell_type": "markdown",
   "metadata": {},
   "source": [
    "### Split training and test data\n",
    "To properly evaluate our model, we need to split the data into training and test sets.\n",
    "The 'petal_data' is our data, and the 'labels' are each datapoint's class. \n",
    "Remember we want to guess (classify) a new iris flower to its correct label (iris flower type) given its petal data.\n",
    "\n",
    "train_test_split will need to be given the petal_data, and the labels so it can split the data and labels in the same manner.\n",
    "look up the [train_test_split documentation](https://scikit-learn.org/stable/modules/generated/sklearn.model_selection.train_test_split.html) to find how to do this."
   ]
  },
  {
   "cell_type": "code",
   "execution_count": null,
   "metadata": {},
   "outputs": [],
   "source": [
    "from sklearn.model_selection import train_test_split\n",
    "\n",
    "# Create training petal_data, training labels, test petal_data, test lables using train_test_split()\n",
    "\n",
    "data_train, data_test, label_train, label_test = train_test_split(petal_data, labels, test_size=0.6, random_state=10)\n",
    "\n",
    "print(data_train[:10], '\\n')\n",
    "print(data_test[:10], '\\n')\n",
    "\n",
    "print(label_train[:10], '\\n')\n",
    "print(label_test[:10], '\\n')"
   ]
  },
  {
   "cell_type": "markdown",
   "metadata": {},
   "source": [
    "# Classifying the data"
   ]
  },
  {
   "cell_type": "markdown",
   "metadata": {},
   "source": [
    "<div style=\"color: rgb(27,94,32); background: rgb(200,230,201); border: solid 1px rgb(129,199,132); padding: 10px;\">\n",
    "\n",
    "### Naive Bayes\n",
    "\n",
    "Follow this link to learn about the scikit learn implementation of [Gaussian Naive Bayes](https://scikit-learn.org/stable/modules/naive_bayes.html).\n",
    "    \n",
    "<b>Challange:</b> Copy the code from the sklearn tutorial and see if you can perform Gaussian Naive Bayes classification on the Iris dataset\n",
    "    \n",
    "</div>\n",
    "\n"
   ]
  },
  {
   "cell_type": "code",
   "execution_count": null,
   "metadata": {
    "nbgrader": {
     "grade": false,
     "grade_id": "cell-0907c02fbf6347a9",
     "locked": false,
     "schema_version": 3,
     "solution": true,
     "task": false
    }
   },
   "outputs": [],
   "source": [
    "# data_train, data_test, label_train, label_test\n",
    "\n",
    "from sklearn.naive_bayes import GaussianNB\n",
    "gnb = GaussianNB()\n",
    "\n",
    "# Assign the predicted labels to the variable pred_NB\n",
    "# pred_NB =\n",
    "### BEGIN SOLUTION\n",
    "pred_NB = gnb.fit(data_train, label_train).predict(data_test)\n",
    "\n",
    "print('true:', label_test)\n",
    "print('pred:', pred_NB )\n",
    "\n",
    "print(\"Number of mislabeled points out of a total %d points : %d\" % (data_test.shape[0], (label_test != pred_NB).sum()))\n",
    "### END SOLUTION"
   ]
  },
  {
   "cell_type": "markdown",
   "metadata": {},
   "source": [
    "\n",
    "<div style=\"color: rgb(27,94,32); background: rgb(200,230,201); border: solid 1px rgb(129,199,132); padding: 10px;\">\n",
    "\n",
    "\n",
    "### K Nearest Neighbours\n",
    "\n",
    "Sample usage of [Nearest Neighbors classification](https://scikit-learn.org/stable/auto_examples/neighbors/plot_classification.html#sphx-glr-auto-examples-neighbors-plot-classification-py). It will plot the decision boundaries for each class.\n",
    "    \n",
    "<b>Challange:</b> Copy the code from the tutorial and see if you can perform Nearest Neighbours classification on the Iris dataset.\n",
    "    \n",
    "</div>"
   ]
  },
  {
   "cell_type": "code",
   "execution_count": null,
   "metadata": {
    "nbgrader": {
     "grade": false,
     "grade_id": "cell-d435bdca2f9759b7",
     "locked": false,
     "schema_version": 3,
     "solution": true,
     "task": false
    }
   },
   "outputs": [],
   "source": [
    "# data_train, data_test, label_train, label_test\n",
    "\n",
    "from sklearn.neighbors import KNeighborsClassifier\n",
    "\n",
    "# Assign the predicted labels to the variable pred_KNN\n",
    "# pred_KNN =\n",
    "\n",
    "### BEGIN SOLUTION\n",
    "n = 15\n",
    "\n",
    "clf = KNeighborsClassifier(n_neighbors=n, weights='uniform')\n",
    "\n",
    "clf.fit(data_train, label_train)\n",
    "\n",
    "pred_KNN = clf.predict(data_test)\n",
    "\n",
    "print('true:', label_test)\n",
    "print('pred:', pred_KNN)\n",
    "\n",
    "print(\"Number of mislabeled points out of a total {} points : {}\".format(data_test.shape[0], (label_test != pred_KNN).sum()))\n",
    "### END SOLUTION \n",
    "\n"
   ]
  },
  {
   "cell_type": "markdown",
   "metadata": {},
   "source": [
    "\n",
    "<div style=\"color: rgb(27,94,32); background: rgb(200,230,201); border: solid 1px rgb(129,199,132); padding: 10px;\">\n",
    "\n",
    "### Support Vector Machine\n",
    "\n",
    "Comparison of different [linear SVM classifiers](https://scikit-learn.org/stable/auto_examples/svm/plot_iris_svc.html) on a 2D projection of the iris dataset. \n",
    "    \n",
    "We will only consider the first 2 features of this dataset:\n",
    "\n",
    "- Sepal length\n",
    "- Sepal width\n",
    "    \n",
    "<b>Challange:</b> Copy and paste the code from this tutorial and see if you can perform SVM classification on the Iris dataset.\n",
    "\n",
    "Note: See exercise in the link above for instructions on how to compare different flavours of SVM.\n",
    "    \n",
    "</div>\n"
   ]
  },
  {
   "cell_type": "code",
   "execution_count": null,
   "metadata": {
    "nbgrader": {
     "grade": false,
     "grade_id": "cell-17d7b7aa8f703bca",
     "locked": false,
     "schema_version": 3,
     "solution": true,
     "task": false
    }
   },
   "outputs": [],
   "source": [
    "from sklearn import svm\n",
    "\n",
    "\n",
    "# Assign the predicted labels to the variable pred_SVM\n",
    "# pred_SVM =\n",
    "\n",
    "### BEGIN SOLUTION\n",
    "clf = svm.SVC()\n",
    "clf.fit(data_train[:,[0,1]], label_train)\n",
    "pred_SVM = clf.predict(data_test[:,[0,1]])\n",
    "\n",
    "# get support vectors\n",
    "clf.support_vectors_\n",
    "\n",
    "# get indices of support vectors\n",
    "clf.support_\n",
    "\n",
    "# get number of support vectors for each class\n",
    "clf.n_support_\n",
    "\n",
    "print('true:', label_test)\n",
    "print('pred:', pred_SVM)\n",
    "\n",
    "print(\"Number of mislabeled points out of a total {} points : {}\".format(data_test.shape[0], (label_test != pred_SVM).sum()))\n",
    "### END SOLUTION"
   ]
  },
  {
   "cell_type": "markdown",
   "metadata": {},
   "source": [
    "# Assessing Models"
   ]
  },
  {
   "cell_type": "markdown",
   "metadata": {},
   "source": [
    "## Graph Confusion Matrix Generation \n",
    "\n",
    "By definition a confusion matrix $C$ is such that $C_ij$ is equal to the number of observations known to be in group $i$ but predicted to be in group $j$.\n",
    "\n",
    "Which is fancy jargon for this guy: \n",
    "\n",
    "<img src = \"src/media/CM.png\"  width= \"500\"/>\n",
    "\n",
    "Which we can use to derive information about how well our classifiers performed\n",
    "\n",
    "<img src = \"src/media/errorTypes.png\" width= \"400\"/>"
   ]
  },
  {
   "cell_type": "markdown",
   "metadata": {},
   "source": [
    "For example, lets say we have used one of the classifiers listed above on our training data and now we will asses how well it did by testing it on a separate dataset with 10 samples which results in the following confusion matrix: \n",
    "\n",
    "<img src = \"src/media/CM2.png\" width= \"400\"/>\n"
   ]
  },
  {
   "cell_type": "markdown",
   "metadata": {},
   "source": [
    "### Making the confusion matrix with Python\n",
    "\n",
    "In python, you can code this with the following: "
   ]
  },
  {
   "cell_type": "code",
   "execution_count": null,
   "metadata": {},
   "outputs": [],
   "source": [
    "from sklearn.metrics import confusion_matrix\n",
    "y_true = [\"T\", \"T\", \"T\", \"T\", \"F\", \"F\", \"F\", \"F\", \"F\", \"F\"]\n",
    "y_pred = [\"T\", \"T\", \"T\", \"F\", \"T\", \"T\", \"F\", \"F\", \"F\", \"F\"]\n",
    "tn, fp, fn, tp = confusion_matrix(y_true, y_pred).ravel() \n",
    "# Note: ravel just combines y_true and y_pred. Needed for confusion_matrix function.\n",
    "print(f'tn: {tn}\\nfp: {fp}\\nfn: {fn}\\ntp: {tp}')"
   ]
  },
  {
   "cell_type": "markdown",
   "metadata": {},
   "source": [
    "### Confusion matrix for multiple classes\n",
    "Okay cool. But for our example, there are 3 classes. How do we calculate these statistics?<br>\n",
    "\n",
    "We calculate each statistic for a single class. <br>\n",
    "\n",
    "For example, we would find TP, TN, FP, FP for iris setova. Then we would do the same for iris virginica etc."
   ]
  },
  {
   "cell_type": "code",
   "execution_count": null,
   "metadata": {
    "scrolled": true
   },
   "outputs": [],
   "source": [
    "import seaborn as sns\n",
    "\n",
    "y_true = [1, 0, 0, 0, 2, 2, 1, 0, 1, 0, 2, 0, 1, 2, 0, 0, 1, 0, 2, 0, 1]\n",
    "y_pred = [0, 0, 0, 1, 2, 1, 1, 0, 1, 0, 2, 1, 0, 2, 1, 0, 1, 1, 1, 0, 1]\n",
    "\n",
    "cmatrix = confusion_matrix(y_true, y_pred)\n",
    "labels = ['setosa', 'versicolor', 'virginica']\n",
    "df = pd.DataFrame(data=cmatrix, index=labels, columns=labels)\n",
    "\n",
    "fig, ax = plt.subplots(dpi=100)\n",
    "sns.heatmap(df, linewidth=3, cmap='Greys', robust=True, annot=True, vmin=-100, vmax=1000, fmt=\"d\", ax=ax, square=False, cbar=False)\n",
    "plt.xlabel('True Class', c='green', size=14)\n",
    "plt.ylabel('Predicted Class', c='red', size=14)\n",
    "plt.show()"
   ]
  },
  {
   "cell_type": "markdown",
   "metadata": {},
   "source": [
    "## Confusion Matrices for our models"
   ]
  },
  {
   "cell_type": "markdown",
   "metadata": {},
   "source": [
    "\n",
    "<div style=\"color: rgb(27,94,32); background: rgb(200,230,201); border: solid 1px rgb(129,199,132); padding: 10px;\">\n",
    "\n",
    "Get the confusion matrix values for each of our classifiers in the previous section:\n",
    "\n",
    "\n",
    "Use the variables for true and predicted labels that we set earlier: label_test, pred_NB, pred_KNN, pred_SVM\n",
    "\n",
    "\n",
    "The solution for Naive Bayes has been provided. Create matrices for KNN and SVM.\n",
    "</div>"
   ]
  },
  {
   "cell_type": "markdown",
   "metadata": {},
   "source": [
    "### Naive Bayes Confusion Matrix"
   ]
  },
  {
   "cell_type": "code",
   "execution_count": null,
   "metadata": {
    "scrolled": false
   },
   "outputs": [],
   "source": [
    "# Naive Bayes c-matrix\n",
    "nb_cm = confusion_matrix(label_test, pred_NB)\n",
    "labels = ['setosa', 'versicolor', 'virginica']\n",
    "df = pd.DataFrame(data=nb_cm, index=labels, columns=labels)\n",
    "\n",
    "fig, ax = plt.subplots(dpi=100)\n",
    "sns.heatmap(df, linewidth=3, cmap='Greys', robust=True, annot=True, vmin=-100, vmax=1000, fmt=\"d\", ax=ax, square=False, cbar=False)\n",
    "plt.xlabel('True Class', c='green', size=14)\n",
    "plt.ylabel('Predicted Class', c='red', size=14)\n",
    "plt.show()"
   ]
  },
  {
   "cell_type": "markdown",
   "metadata": {},
   "source": [
    "### KNN Confusion Matrix"
   ]
  },
  {
   "cell_type": "code",
   "execution_count": null,
   "metadata": {
    "nbgrader": {
     "grade": false,
     "grade_id": "cell-5b97da58b776775e",
     "locked": false,
     "schema_version": 3,
     "solution": true,
     "task": false
    }
   },
   "outputs": [],
   "source": [
    "# KNN c-matrix\n",
    "\n",
    "### BEGIN SOLUTION\n",
    "knn_cm = confusion_matrix(label_test, pred_KNN)\n",
    "labels = ['setosa', 'versicolor', 'virginica']\n",
    "df = pd.DataFrame(data=knn_cm, index=labels, columns=labels)\n",
    "\n",
    "fig, ax = plt.subplots(dpi=100)\n",
    "sns.heatmap(df, linewidth=3, cmap='Greys', robust=True, annot=True, vmin=-100, vmax=1000, fmt=\"d\", ax=ax, square=False, cbar=False)\n",
    "plt.xlabel('True Class', c='green', size=14)\n",
    "plt.ylabel('Predicted Class', c='red', size=14)\n",
    "plt.show()\n",
    "### END SOLUTION"
   ]
  },
  {
   "cell_type": "markdown",
   "metadata": {},
   "source": [
    "### SVM Confusion Matrix"
   ]
  },
  {
   "cell_type": "code",
   "execution_count": null,
   "metadata": {
    "nbgrader": {
     "grade": false,
     "grade_id": "cell-878ae7228c8fd515",
     "locked": false,
     "schema_version": 3,
     "solution": true,
     "task": false
    }
   },
   "outputs": [],
   "source": [
    "# SVM Bayes c-matrix\n",
    "\n",
    "### BEGIN SOLUTION\n",
    "\n",
    "svm_cm = confusion_matrix(label_test, pred_SVM)\n",
    "labels = ['setosa', 'versicolor', 'virginica']\n",
    "df = pd.DataFrame(data=svm_cm, index=labels, columns=labels)\n",
    "\n",
    "fig, ax = plt.subplots(dpi=100)\n",
    "sns.heatmap(df, linewidth=3, cmap='Greys', robust=True, annot=True, vmin=-100, vmax=1000, fmt=\"d\", ax=ax, square=False, cbar=False)\n",
    "plt.xlabel('True Class', c='green', size=14)\n",
    "plt.ylabel('Predicted Class', c='red', size=14)\n",
    "plt.show()\n",
    "\n",
    "### END SOLUTION"
   ]
  },
  {
   "cell_type": "markdown",
   "metadata": {},
   "source": [
    "## Model Metrics"
   ]
  },
  {
   "cell_type": "markdown",
   "metadata": {},
   "source": [
    "In our PCA projection of the Iris dataset we saw some overlap between *I. virginica* and *I. versicolor*. We might expect our classifiers to struggle with these samples. \n",
    "\n",
    "In this section we will be assessing how our models performed on classifying samples with the true label **versicolor**."
   ]
  },
  {
   "cell_type": "code",
   "execution_count": null,
   "metadata": {},
   "outputs": [],
   "source": [
    "# First lets print the array representing the Naive Bayes confusion matrix:\n",
    "print(nb_cm)\n",
    "\n",
    "# We can extract the values we will need for versicolor like so\n",
    "tp = nb_cm[1,1]\n",
    "fn = nb_cm[2,1] + nb_cm[0,1]\n",
    "fp = nb_cm[1,2] + nb_cm[1,0]\n",
    "tn = nb_cm[0,0] + nb_cm[0,2] + nb_cm[2,0] + nb_cm[2,2] \n",
    "\n",
    "# Repeat this for the KNN and SVM confusion matrices\n",
    "# Remember to use different variable names\n",
    "\n"
   ]
  },
  {
   "cell_type": "markdown",
   "metadata": {},
   "source": [
    "## Accuracy\n",
    "\n",
    "<div style=\"color: rgb(0,96,100); background: rgb(178,235,242); border: solid 1px rgb(77,208,225); padding: 10px;\">\n",
    "\n",
    "**How often is the classifier correct?**\n",
    "    \n",
    "Accuracy is the number of correct predictions made by the model over all predictions made. \n",
    "\n",
    "Accuracy is calculated as:<br><br>\n",
    "\n",
    "\n",
    "$$\n",
    "ACC = \\frac{TP + TN}{TP + TN + FP + FN}\n",
    "$$\n",
    "\n",
    "\n",
    "<br>\n",
    "\n",
    "Given the above equation, what is the **accuracy** of your classifiers? (Bayes, KNN, SVM)\n",
    "    \n",
    "</div>"
   ]
  },
  {
   "cell_type": "code",
   "execution_count": null,
   "metadata": {
    "nbgrader": {
     "grade": false,
     "grade_id": "cell-0859ef232bac6b24",
     "locked": false,
     "schema_version": 3,
     "solution": true,
     "task": false
    }
   },
   "outputs": [],
   "source": [
    "# Calculate and print Accuracy statistic using the formula above and pre-calculated tn, fp, fn, tp variables\n",
    "#tn, fp, fn, tp \n",
    "\n",
    "### BEGIN SOLUTION\n",
    "acc = (tp + tn) / (tp + tn + fp + fn)\n",
    "### END SOLUTION\n",
    "\n",
    "print(f'Accuracy: {acc}')"
   ]
  },
  {
   "cell_type": "markdown",
   "metadata": {},
   "source": [
    "## Precision \n",
    "\n",
    "<div style=\"color: rgb(0,96,100); background: rgb(178,235,242); border: solid 1px rgb(77,208,225); padding: 10px;\">\n",
    "\n",
    "**When it predicts the positive result, how often is it correct?**\n",
    "\n",
    "Precision is the proportion of predicted positives that truly are positives\n",
    "\n",
    "$$\n",
    "PPV = \\frac{TP}{TP + FP}\n",
    "$$\n",
    "\n",
    "Given the above equation, what is the precision of your classifier?\n",
    "</div>"
   ]
  },
  {
   "cell_type": "code",
   "execution_count": null,
   "metadata": {
    "nbgrader": {
     "grade": false,
     "grade_id": "cell-73e84c0797bc1e63",
     "locked": false,
     "schema_version": 3,
     "solution": true,
     "task": false
    }
   },
   "outputs": [],
   "source": [
    "# Calculate and print Precision statistic using the formula above and pre-calculated tn, fp, fn, tp variables\n",
    "\n",
    "### BEGIN SOLUTION\n",
    "precision = tp / (tp+fp)\n",
    "### END SOLUTION\n",
    "\n",
    "print(f'Precision: {precision}')"
   ]
  },
  {
   "cell_type": "markdown",
   "metadata": {},
   "source": [
    "## Recall (True Positive Rate)\n",
    "\n",
    "<div style=\"color: rgb(0,96,100); background: rgb(178,235,242); border: solid 1px rgb(77,208,225); padding: 10px;\">\n",
    "\n",
    "**When it is actually the positive result, how often does it predict correctly?**\n",
    "    \n",
    "Recall is the proportion of actual positives that are correctly classified<br>\n",
    "\n",
    "$$\n",
    "TPR = \\frac{TP}{TP + FN}\n",
    "$$\n",
    "\n",
    "Given the above equation, what is the recall of your classifier?\n",
    "</div>"
   ]
  },
  {
   "cell_type": "code",
   "execution_count": null,
   "metadata": {
    "nbgrader": {
     "grade": false,
     "grade_id": "cell-b0099b5897faa204",
     "locked": false,
     "schema_version": 3,
     "solution": true,
     "task": false
    }
   },
   "outputs": [],
   "source": [
    "# Calculate and print Recall statistic using the formula above and pre-calculated tn, fp, fn, tp variables\n",
    "\n",
    "### BEGIN SOLUTION\n",
    "recall = tp / (tp + fn)\n",
    "### END SOLUTION\n",
    "\n",
    "print(f'Recall: {recall}')"
   ]
  },
  {
   "cell_type": "markdown",
   "metadata": {},
   "source": [
    "## False Positive Rate\n",
    "<div style=\"color: rgb(0,96,100); background: rgb(178,235,242); border: solid 1px rgb(77,208,225); padding: 10px;\">\n",
    "\n",
    "**When it predicts a positive result, how often is it incorrect?**\n",
    "\n",
    "$FPR = \\frac{FP}{FP + TN}$\n",
    "\n",
    "Given the above equation, what is the FPR of your classifier?\n",
    "</div>"
   ]
  },
  {
   "cell_type": "code",
   "execution_count": null,
   "metadata": {
    "nbgrader": {
     "grade": false,
     "grade_id": "cell-6b3ef35b8daa1fbc",
     "locked": false,
     "schema_version": 3,
     "solution": true,
     "task": false
    }
   },
   "outputs": [],
   "source": [
    "# Calculate and print FPR using the formula above and pre-calculated tn, fp, fn, tp variables\n",
    "\n",
    "### BEGIN SOLUTION\n",
    "FPR = fp / (fp + tn)\n",
    "### END SOLUTION\n",
    "\n",
    "print(f'False positive rate: {FPR}')"
   ]
  },
  {
   "cell_type": "markdown",
   "metadata": {},
   "source": [
    "## F1 score\n",
    "<div style=\"color: rgb(0,96,100); background: rgb(178,235,242); border: solid 1px rgb(77,208,225); padding: 10px;\">\n",
    "\n",
    "**This is just the harmonic mean of precision and recall**\n",
    "    \n",
    "F1-score will penalise large discrepancies between precision and recall\n",
    "\n",
    "$$\n",
    "F_1 =  \\frac{2*TP}{2*TP + FP + FN}\n",
    "$$\n",
    "\n",
    "Given the above equation, what is the F1 score of your classifier? \n",
    "</div>"
   ]
  },
  {
   "cell_type": "code",
   "execution_count": null,
   "metadata": {
    "nbgrader": {
     "grade": false,
     "grade_id": "cell-4a66c7320ce6c630",
     "locked": false,
     "schema_version": 3,
     "solution": true,
     "task": false
    }
   },
   "outputs": [],
   "source": [
    "# Calculate and print F1 using the formula above and pre-calculated tn, fp, fn, tp variables\n",
    "\n",
    "### BEGIN SOLUTION\n",
    "\n",
    "f1 = 2 * tp / (2 * tp + fp + fn)\n",
    "\n",
    "### END SOLUTION\n",
    "print(f'F1 score: {f1}')"
   ]
  },
  {
   "cell_type": "code",
   "execution_count": null,
   "metadata": {},
   "outputs": [],
   "source": [
    "# Hint at some helpful functions \n",
    "from sklearn.metrics import classification_report"
   ]
  }
 ],
 "metadata": {
  "celltoolbar": "Create Assignment",
  "kernelspec": {
   "display_name": "Python 3 (ipykernel)",
   "language": "python",
   "name": "python3"
  },
  "language_info": {
   "codemirror_mode": {
    "name": "ipython",
    "version": 3
   },
   "file_extension": ".py",
   "mimetype": "text/x-python",
   "name": "python",
   "nbconvert_exporter": "python",
   "pygments_lexer": "ipython3",
   "version": "3.11.4"
  }
 },
 "nbformat": 4,
 "nbformat_minor": 4
}
