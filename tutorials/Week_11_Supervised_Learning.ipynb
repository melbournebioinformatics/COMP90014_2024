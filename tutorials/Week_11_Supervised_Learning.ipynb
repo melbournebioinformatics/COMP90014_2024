{
 "cells": [
  {
   "cell_type": "markdown",
   "metadata": {},
   "source": [
    "# Week 11 - Supervised Learning "
   ]
  },
  {
   "cell_type": "markdown",
   "metadata": {},
   "source": [
    "<div style=\"color: rgb(27,94,32); background: rgb(200,230,201); border: solid 1px rgb(129,199,132); padding: 10px;\">\n",
    "\n",
    "This week we will be applying some common supervised learning methods to classify the Iris dataset.\n",
    "    \n",
    "I have provided links to online tutorials for you learn how to use some basic scikit-learn classifiers by yourself. \n",
    "    \n",
    "In the tutorial we will discuss how to assess the quality of models that you generate using the confusion matix and a number of metrics discussed in lectures.\n",
    "\n",
    "</div>"
   ]
  },
  {
   "cell_type": "markdown",
   "metadata": {},
   "source": [
    "## Classification Algorithms \n",
    "\n",
    "[Intro to Machine Learning](https://scikit-learn.org/stable/tutorial/basic/tutorial.html)\n",
    "\n",
    "In general, a learning problem considers a set of n samples of data and then tries to predict properties of unknown data. If each sample is more than a single number and, for instance, a multi-dimensional entry (aka multivariate data), it is said to have several attributes or features.\n",
    "\n",
    "Learning problems fall into a few categories:\n",
    "\n",
    "- **Supervised learning**, in which the data comes with additional attributes that we want to predict [Click here to go to the scikit-learn supervised learning page](https://scikit-learn.org/stable/supervised_learning.html#supervised-learning).This problem can be either:\n",
    "\n",
    " - **Classification**: samples belong to two or more classes and we want to learn from already labeled data how to predict the class of unlabeled data. An example of a classification problem would be handwritten digit recognition, in which the aim is to assign each input vector to one of a finite number of discrete categories. Another way to think of classification is as a discrete (as opposed to continuous) form of supervised learning where one has a limited number of categories and for each of the n samples provided, one is to try to label them with the correct category or class.\n",
    " - **Regression**: if the desired output consists of one or more continuous variables, then the task is called regression. An example of a regression problem would be the prediction of the length of a salmon as a function of its age and weight.\n",
    "\n",
    "- **Unsupervised learning**, in which the training data consists of a set of input vectors x without any corresponding target values. The goal in such problems may be to discover groups of similar examples within the data, where it is called clustering, or to determine the distribution of data within the input space, known as density estimation, or to project the data from a high-dimensional space down to two or three dimensions for the purpose of visualization [Click here to go to the Scikit-Learn unsupervised learning page](https://scikit-learn.org/stable/unsupervised_learning.html#unsupervised-learning).\n",
    "\n"
   ]
  },
  {
   "cell_type": "markdown",
   "metadata": {},
   "source": [
    "## Packages"
   ]
  },
  {
   "cell_type": "code",
   "execution_count": 26,
   "metadata": {},
   "outputs": [],
   "source": [
    "%matplotlib inline\n",
    "import matplotlib.pyplot as plt\n",
    "from sklearn.decomposition import PCA\n",
    "import sklearn\n",
    "import pandas as pd\n",
    "import numpy as np\n",
    "import seaborn as sns"
   ]
  },
  {
   "cell_type": "markdown",
   "metadata": {},
   "source": [
    "## Import the dataset\n",
    "To learn about classifiers will will be making use of the **sklearn library**. This library has some awesome tutorials and example datasets. One such dataset is the **Iris dataset**. The Iris flower data set or Fisher's Iris data set is a multivariate data set introduced by the British statistician and biologist Ronald Fisher in his 1936 paper *The use of multiple measurements in taxonomic problems as an example of linear discriminant analysis*. \n",
    "\n",
    "The data set consists of 50 samples from each of **three species** of Iris (*Iris setosa, Iris virginica and Iris versicolor*). \n",
    "\n",
    "**Four features** were measured from each sample: the length and the width of the sepals and petals, in centimeters.\n",
    "\n",
    "<img src=\"https://raw.githubusercontent.com/melbournebioinformatics/COMP90014_2024/master/tutorials/media/week11/irises.jpeg\" width=\"500\">"
   ]
  },
  {
   "cell_type": "code",
   "execution_count": 27,
   "metadata": {},
   "outputs": [],
   "source": [
    "# Load in the dataset\n",
    "from sklearn import datasets\n",
    "iris = datasets.load_iris()\n",
    "# print(iris.DESCR)"
   ]
  },
  {
   "cell_type": "markdown",
   "metadata": {},
   "source": [
    "## Explore the data"
   ]
  },
  {
   "cell_type": "code",
   "execution_count": null,
   "metadata": {
    "scrolled": false
   },
   "outputs": [],
   "source": [
    "# Let's unpack the data and associated labels\n",
    "features = iris.feature_names\n",
    "target_names = iris.target_names\n",
    "petal_data = iris.data\n",
    "labels = iris.target\n",
    "\n",
    "print('feature names:\\n', features)\n",
    "print('\\ntarget names:\\n', target_names)\n",
    "print('\\nFirst 10 rows of data:\\n', petal_data[:10])\n",
    "print('\\ntarget labels:', labels)"
   ]
  },
  {
   "cell_type": "markdown",
   "metadata": {},
   "source": [
    "## Working with Numpy arrays\n",
    "\n",
    "For this tutorial our petal data is stored as a 2 dimensional Numpy array.<br>\n",
    "Each record in our dataset comprises measurements of petal length and width, and sepel length and width. These values are stored in a numpy array.\n",
    "\n",
    "Unlike pandas DataFrames, Numpy ndarrays are *not necessarily* tabular data (ie possessing rows and columns).<br>\n",
    "They can have an arbitrary number of dimensions, defined by the user. \n",
    "\n",
    "Some examples of data we can store using Numpy ndarrays:\n",
    "- 1 dimensional array: A vector of length 10; shape=(10,)\n",
    "- 2 dimensional array: Tabular data with 10 observations of 4 features; shape=(10,4)\n",
    "- 3 dimensional array: An RGB color image of 256x256 pixels; shape=(3,256,256) (as we need a separate matrix for each color channel).\n",
    "\n",
    "Numpy ndarrays are an efficient way to work with large multidimentional datasets. Let's explore how we can interact with them.\n",
    "\n",
    "> Note <br>\n",
    "> For more info on working with arrays and all the cool things they can do check out the Numpy docs or the [Python Data Science Handbook](https://jakevdp.github.io/PythonDataScienceHandbook/02.02-the-basics-of-numpy-arrays.html).\n",
    "\n",
    "**Data format**\n"
   ]
  },
  {
   "cell_type": "code",
   "execution_count": null,
   "metadata": {},
   "outputs": [],
   "source": [
    "# Run this cell to view how our data is stored. \n",
    "print(f'Dimensions: {petal_data.ndim}')\n",
    "print(f'Shape: {petal_data.shape}')\n",
    "print(f'Size: {petal_data.size}')"
   ]
  },
  {
   "cell_type": "markdown",
   "metadata": {},
   "source": [
    "**Array indexing - access single elements**"
   ]
  },
  {
   "cell_type": "code",
   "execution_count": null,
   "metadata": {},
   "outputs": [],
   "source": [
    "# Accessing the first observation in our dataset (ie a row)\n",
    "print(petal_data[0])\n",
    "\n",
    "# Lower dims in our array can be accessed by chaining index calls\n",
    "print(petal_data[0][1])\n",
    "\n",
    "# Or by comma separated indexing of each dim\n",
    "print(petal_data[0, 2])"
   ]
  },
  {
   "cell_type": "markdown",
   "metadata": {},
   "source": [
    "**Slicing multidimentional arrays**\n",
    "\n",
    "Numpy ndarray slicing syntax follows the conventions seen in base python. i.e. uses [start:stop:step] notation.<br>\n",
    "We can slice each dimension of the array simultaneously using commas to separate the slices"
   ]
  },
  {
   "cell_type": "code",
   "execution_count": null,
   "metadata": {},
   "outputs": [],
   "source": [
    "# The first 5 observations\n",
    "petal_data[:5]"
   ]
  },
  {
   "cell_type": "code",
   "execution_count": null,
   "metadata": {},
   "outputs": [],
   "source": [
    "# The first 2 values from each of the first 5 observations as a sub-array\n",
    "petal_data[:5,:2]"
   ]
  },
  {
   "cell_type": "code",
   "execution_count": null,
   "metadata": {},
   "outputs": [],
   "source": [
    "# The second column for the first five observations.\n",
    "# This should be identical to the second column in the output of the cell above. \n",
    "# Note that the output is a 1D array (vector) this time rather than a 2D array! \n",
    "petal_data[:5, 1]"
   ]
  },
  {
   "cell_type": "markdown",
   "metadata": {},
   "source": [
    "## Visualising the data"
   ]
  },
  {
   "cell_type": "code",
   "execution_count": null,
   "metadata": {},
   "outputs": [],
   "source": [
    "# We can perform a PCA to get a look at the data \n",
    "# perform PCA\n",
    "pca = PCA(n_components=2)\n",
    "X_pca = pca.fit_transform(petal_data)\n",
    "print(f'explained variance ratio (first two components): {str(pca.explained_variance_ratio_)}')\n",
    "\n",
    "# plotting\n",
    "plt.figure()\n",
    "colors = ['navy', 'turquoise', 'darkorange']\n",
    "lw = 2\n",
    "for color, i, target_name in zip(colors, [0, 1, 2], target_names):\n",
    "    plt.scatter(X_pca[labels == i, 0], X_pca[labels == i, 1], color=color, alpha=.8, lw=lw, label=target_name)\n",
    "plt.legend(loc='best', shadow=False, scatterpoints=1)\n",
    "plt.title('PCA of IRIS dataset')\n",
    "plt.show()"
   ]
  },
  {
   "cell_type": "markdown",
   "metadata": {},
   "source": [
    "# Classifying the data\n",
    "\n",
    "**Using scikit-learn classifiers**\n",
    "\n",
    "In this tutorial we will use Naive Bayes, KNN, SVM, and Decision Trees to build predictive models. <br>\n",
    "We will use classifiers provided by scikit-learn (sklearn). <br>\n",
    "\n",
    "\n",
    "> Note <br>\n",
    "> If interested, a comparison of the sklearn models on the iris dataset can be seen [at this link.](https://scikit-learn.org/stable/auto_examples/classification/plot_classifier_comparison.html#sphx-glr-auto-examples-classification-plot-classifier-comparison-py) \n",
    "\n",
    "Each classifier is a python class. To use a classifier we need to do the following:\n",
    "- initialise the class, supplying any parameters the underlying model may need. \n",
    "- train the model using the .fit() function (supplying training data)\n",
    "- predict new observations using the .predict() function (supplying test data)\n",
    "\n",
    "The basic syntax is below. \n",
    "\n",
    "<div style='font-size: 13pt'>\n",
    "\n",
    "```python\n",
    "clf = Classifier(parameters)\n",
    "clf.fit(trainingData, trainingLabels)\n",
    "pred = clf.predict(testData)\n",
    "```\n",
    "</div>\n"
   ]
  },
  {
   "cell_type": "markdown",
   "metadata": {},
   "source": [
    "**Training data and testing data**\n",
    "\n",
    "Machine learning is about learning some properties of a data set and then testing those properties against another data set. A common practice in machine learning is to evaluate an algorithm by splitting a data set into two. We call one of those sets the **training set**, on which we learn some properties; we call the other set the **testing set**, on which we test the learned properties.\n"
   ]
  },
  {
   "cell_type": "markdown",
   "metadata": {},
   "source": [
    "**Splitting the data**\n",
    "\n",
    "To properly evaluate our model, we need to split the data into training and test sets.\n",
    "The 'petal_data' is our data, and the 'labels' are each datapoint's class. \n",
    "Remember we want to guess (classify) a new iris flower to its correct label (iris flower type) given its petal data.\n",
    "\n",
    "train_test_split will need to be given the petal_data, and the labels so it can split the data and labels in the same manner.\n",
    "look up the [train_test_split documentation](https://scikit-learn.org/stable/modules/generated/sklearn.model_selection.train_test_split.html) to find how to do this."
   ]
  },
  {
   "cell_type": "code",
   "execution_count": null,
   "metadata": {},
   "outputs": [],
   "source": [
    "from sklearn.model_selection import train_test_split\n",
    "\n",
    "# Create training petal_data, training labels, test petal_data, test lables using train_test_split()\n",
    "data_train, data_test, label_train, label_test = train_test_split(petal_data, labels, test_size=0.6, random_state=10)\n",
    "\n",
    "print('\\nPreview of training data:')\n",
    "print(data_train[:10])\n",
    "print('\\nPreview of training labels:')\n",
    "print(label_train[:10])\n",
    "print('\\nPreview of test data:')\n",
    "print(data_test[:10])\n",
    "print('\\nPreview of test labels:')\n",
    "print(label_test[:10])"
   ]
  },
  {
   "cell_type": "markdown",
   "metadata": {},
   "source": [
    "<div style=\"color: rgb(27,94,32); background: rgb(200,230,201); border: solid 1px rgb(129,199,132); padding: 10px;\">\n",
    "\n",
    "### Naive Bayes\n",
    "\n",
    "<b>Material:</b> Scikit-learn implementation of [Gaussian Naive Bayes](https://scikit-learn.org/stable/modules/naive_bayes.html).\n",
    "    \n",
    "<b>Challenge:</b> Use the .fit() and .predict() functions on the initialised classifier to train the model and predict new observations. \n",
    "    \n",
    "</div>\n",
    "\n"
   ]
  },
  {
   "cell_type": "code",
   "execution_count": null,
   "metadata": {
    "nbgrader": {
     "grade": false,
     "grade_id": "cell-0907c02fbf6347a9",
     "locked": false,
     "schema_version": 3,
     "solution": true,
     "task": false
    }
   },
   "outputs": [],
   "source": [
    "# our classifier class\n",
    "from sklearn.naive_bayes import GaussianNB\n",
    "clf = GaussianNB()\n",
    "\n",
    "# fitting the model & predicting test data.\n",
    "# assign the predicted labels to a variable named pred_NB.\n",
    "### YOUR CODE HERE\n",
    "raise NotImplementedError\n",
    "\n",
    "print('\\ntrue:', label_test)\n",
    "print('\\npred:', pred_NB )\n",
    "print(\"\\nNumber of mislabeled points out of a total %d points : %d\" % (data_test.shape[0], (label_test != pred_NB).sum()))\n"
   ]
  },
  {
   "cell_type": "markdown",
   "metadata": {},
   "source": [
    "\n",
    "<div style=\"color: rgb(27,94,32); background: rgb(200,230,201); border: solid 1px rgb(129,199,132); padding: 10px;\">\n",
    "\n",
    "### K Nearest Neighbours\n",
    "\n",
    "<b>Material:</b> Sample usage of [Nearest Neighbors classification](https://scikit-learn.org/stable/auto_examples/neighbors/plot_classification.html#sphx-glr-auto-examples-neighbors-plot-classification-py) plotting decision boundaries\n",
    "    \n",
    "<b>Challenge:</b> Use the .fit() and .predict() functions on the initialised classifier to train the model and predict new observations. \n",
    "    \n",
    "</div>"
   ]
  },
  {
   "cell_type": "code",
   "execution_count": null,
   "metadata": {
    "nbgrader": {
     "grade": false,
     "grade_id": "cell-d435bdca2f9759b7",
     "locked": false,
     "schema_version": 3,
     "solution": true,
     "task": false
    }
   },
   "outputs": [],
   "source": [
    "# our classifier class\n",
    "from sklearn.neighbors import KNeighborsClassifier\n",
    "clf = KNeighborsClassifier(n_neighbors=15, weights='uniform')\n",
    "\n",
    "# fitting the model & predicting test data.\n",
    "# assign the predicted labels to a variable named pred_KNN.\n",
    "### YOUR CODE HERE\n",
    "raise NotImplementedError\n",
    "\n",
    "print('\\ntrue:', label_test)\n",
    "print('\\npred:', pred_KNN )\n",
    "print(\"\\nNumber of mislabeled points out of a total %d points : %d\" % (data_test.shape[0], (label_test != pred_KNN).sum()))\n"
   ]
  },
  {
   "cell_type": "markdown",
   "metadata": {},
   "source": [
    "\n",
    "<div style=\"color: rgb(27,94,32); background: rgb(200,230,201); border: solid 1px rgb(129,199,132); padding: 10px;\">\n",
    "\n",
    "### Support Vector Machine\n",
    "\n",
    "<b>Material:</b> Comparison of different [linear SVM classifiers](https://scikit-learn.org/stable/auto_examples/svm/plot_iris_svc.html) on a 2D projection of the iris dataset. \n",
    "\n",
    "<b>Challenge:</b> Use the .fit() and .predict() functions on the initialised classifier to train the model and predict new observations. \n",
    "\n",
    "NOTE: The classifier below is set up to use basic linear SVM. <br>\n",
    "Scikit-learn additionally provides the SVC() class which can accept a kernel function.<br>\n",
    "Provided kernels include 'poly', 'rbf', and 'sigmoid' which can be handy when the data is not linearly seperable.\n",
    "\n",
    "</div>\n"
   ]
  },
  {
   "cell_type": "code",
   "execution_count": null,
   "metadata": {
    "nbgrader": {
     "grade": false,
     "grade_id": "cell-17d7b7aa8f703bca",
     "locked": false,
     "schema_version": 3,
     "solution": true,
     "task": false
    }
   },
   "outputs": [],
   "source": [
    "# our classifier class\n",
    "from sklearn.svm import LinearSVC\n",
    "clf = LinearSVC()\n",
    "\n",
    "# fitting the model & predicting test data.\n",
    "# assign the predicted labels to a variable named pred_SVM.\n",
    "### YOUR CODE HERE\n",
    "raise NotImplementedError\n",
    "\n",
    "print('\\ntrue:', label_test)\n",
    "print('\\npred:', pred_SVM )\n",
    "print(\"\\nNumber of mislabeled points out of a total %d points : %d\" % (data_test.shape[0], (label_test != pred_SVM).sum()))\n"
   ]
  },
  {
   "cell_type": "markdown",
   "metadata": {},
   "source": [
    "\n",
    "<div style=\"color: rgb(27,94,32); background: rgb(200,230,201); border: solid 1px rgb(129,199,132); padding: 10px;\">\n",
    "\n",
    "### Decision Trees\n",
    "\n",
    "<b>Material:</b> Usage of the scikit-learn [Decision Tree Classifier](https://scikit-learn.org/dev/modules/generated/sklearn.tree.DecisionTreeClassifier.html)\n",
    "\n",
    "<b>Challenge:</b> Use the .fit() and .predict() functions on the initialised classifier to train the model and predict new observations. \n",
    "\n",
    "</div>\n"
   ]
  },
  {
   "cell_type": "code",
   "execution_count": null,
   "metadata": {},
   "outputs": [],
   "source": [
    "# our classifier class\n",
    "from sklearn.tree import DecisionTreeClassifier \n",
    "clf = DecisionTreeClassifier()\n",
    "\n",
    "# fitting the model & predicting test data.\n",
    "# assign the predicted labels to a variable named pred_DT.\n",
    "### YOUR CODE HERE\n",
    "raise NotImplementedError\n",
    "\n",
    "print('\\ntrue:', label_test)\n",
    "print('\\npred:', pred_DT )\n",
    "print(\"\\nNumber of mislabeled points out of a total {} points : {}\".format(data_test.shape[0], (label_test != pred_DT).sum()))\n",
    "\n",
    "# visualising our trained decision tree\n",
    "print('\\nFeature names ---')\n",
    "for i, field in enumerate(features):\n",
    "    print(f'x[{i}]: {field}')\n",
    "print('\\nLabel names ---')\n",
    "print(target_names)\n",
    "\n",
    "from sklearn.tree import plot_tree \n",
    "fig, ax = plt.subplots(figsize=(8, 8))\n",
    "plot_tree(clf, ax=ax, fontsize=10)\n",
    "plt.show()\n"
   ]
  },
  {
   "cell_type": "markdown",
   "metadata": {},
   "source": [
    "# Assessing Models"
   ]
  },
  {
   "cell_type": "markdown",
   "metadata": {},
   "source": [
    "**Graph Confusion Matrix Generation**\n",
    "\n",
    "By definition a confusion matrix $C$ is such that $C_ij$ is equal to the number of observations known to be in group $i$ but predicted to be in group $j$.\n",
    "\n",
    "Which is fancy jargon for this guy: \n",
    "\n",
    "<img src=\"https://raw.githubusercontent.com/melbournebioinformatics/COMP90014_2024/master/tutorials/media/week11/CM.png\" width=\"400\">\n",
    "\n",
    "Which we can use to derive information about how well our classifiers performed\n",
    "\n",
    "<img src=\"https://raw.githubusercontent.com/melbournebioinformatics/COMP90014_2024/master/tutorials/media/week11/errorTypes.png\" width=\"400\">"
   ]
  },
  {
   "cell_type": "markdown",
   "metadata": {},
   "source": [
    "For example, lets say we have used one of the classifiers listed above on our training data and now we will asses how well it did by testing it on a separate dataset with 10 samples which results in the following confusion matrix: \n",
    "\n",
    "<img src=\"https://raw.githubusercontent.com/melbournebioinformatics/COMP90014_2024/master/tutorials/media/week11/CM2.png\" width=\"400\">\n"
   ]
  },
  {
   "cell_type": "markdown",
   "metadata": {},
   "source": [
    "**Making the confusion matrix with Python**\n",
    "\n",
    "In python, you can code this with the following: "
   ]
  },
  {
   "cell_type": "code",
   "execution_count": null,
   "metadata": {},
   "outputs": [],
   "source": [
    "from sklearn.metrics import confusion_matrix\n",
    "y_true = [\"T\", \"T\", \"T\", \"T\", \"F\", \"F\", \"F\", \"F\", \"F\", \"F\"]\n",
    "y_pred = [\"T\", \"T\", \"T\", \"F\", \"T\", \"T\", \"F\", \"F\", \"F\", \"F\"]\n",
    "tn, fp, fn, tp = confusion_matrix(y_true, y_pred).ravel() \n",
    "# Note: the ravel() function flattens a multidimensional array into a single flat array. \n",
    "print(f'tn: {tn}\\nfp: {fp}\\nfn: {fn}\\ntp: {tp}')"
   ]
  },
  {
   "cell_type": "markdown",
   "metadata": {},
   "source": [
    "**Confusion matrix for multiple classes**\n",
    "\n",
    "For our data, there are 3 classes. How do we calculate these statistics?<br>\n",
    "We calculate each statistic for a single class. <br>\n",
    "For example, we would find TP, TN, FP, FP for iris setova. Then we would do the same for iris virginica etc."
   ]
  },
  {
   "cell_type": "code",
   "execution_count": null,
   "metadata": {
    "scrolled": true
   },
   "outputs": [],
   "source": [
    "y_true = [1, 0, 0, 0, 2, 2, 1, 0, 1, 0, 2, 0, 1, 2, 0, 0, 1, 0, 2, 0, 1]\n",
    "y_pred = [0, 0, 0, 1, 2, 1, 1, 0, 1, 0, 2, 1, 0, 2, 1, 0, 1, 1, 1, 0, 1]\n",
    "\n",
    "cmatrix = confusion_matrix(y_true, y_pred)\n",
    "labels = ['setosa', 'versicolor', 'virginica']\n",
    "df = pd.DataFrame(data=cmatrix, index=labels, columns=labels)\n",
    "\n",
    "fig, ax = plt.subplots(dpi=90, figsize=(4,4))\n",
    "sns.heatmap(df, linewidth=3, cmap='Greys', annot=True, annot_kws={'size': 18}, robust=True, vmin=-100, vmax=1000, fmt=\"d\", ax=ax, square=False, cbar=False)\n",
    "plt.xlabel('True Class', c='green', size=14)\n",
    "plt.ylabel('Predicted Class', c='red', size=14)\n",
    "plt.show()"
   ]
  },
  {
   "cell_type": "markdown",
   "metadata": {},
   "source": [
    "**Confusion Matrices for our models**\n",
    "\n",
    "Run the following cell to compare the confusion matrices for our 4 classifiers.\n",
    "\n",
    "Which type of iris flower is the hardest to predict? <br>\n",
    "Which other type of iris flower is this most commonly misclassified as? "
   ]
  },
  {
   "cell_type": "code",
   "execution_count": null,
   "metadata": {},
   "outputs": [],
   "source": [
    "labels = ['setosa', 'versicolor', 'virginica']\n",
    "fig, axes = plt.subplots(nrows=2, ncols=2, dpi=100)\n",
    "\n",
    "i = 0\n",
    "for name, pred in zip(['naive bayes', 'KNN', 'SVM', 'Decision Tree'], [pred_NB, pred_KNN, pred_SVM, pred_DT]):\n",
    "    nb_cm = confusion_matrix(label_test, pred)\n",
    "    df = pd.DataFrame(data=nb_cm, index=labels, columns=labels)\n",
    "    ax = axes[i//2, i%2]\n",
    "    sns.heatmap(df, linewidth=3, cmap='Greys', robust=True, annot=True, annot_kws={'size': 12}, vmin=-100, vmax=1000, fmt=\"d\", ax=ax, square=False, cbar=False)\n",
    "    ax.set_title(name)\n",
    "    if i == 0:\n",
    "        ax.set_xlabel('True Class', c='green', size=10)\n",
    "        ax.set_ylabel('Predicted Class', c='red', size=10)\n",
    "    i += 1\n",
    "plt.tight_layout()\n",
    "plt.show()"
   ]
  },
  {
   "cell_type": "markdown",
   "metadata": {},
   "source": [
    "## Model Metrics"
   ]
  },
  {
   "cell_type": "markdown",
   "metadata": {},
   "source": [
    "In our PCA projection of the Iris dataset we saw some overlap between *I. virginica* and *I. versicolor*. We might expect our classifiers to struggle with these samples. \n",
    "\n",
    "In this section we will be assessing how the Naive Bayes model performed on classifying samples with the true label **versicolor**."
   ]
  },
  {
   "cell_type": "code",
   "execution_count": null,
   "metadata": {},
   "outputs": [],
   "source": [
    "# First lets generate and print the array representing the Naive Bayes confusion matrix:\n",
    "nb_cm = confusion_matrix(label_test, pred_NB)\n",
    "print(nb_cm)\n",
    "\n",
    "# We can extract the values we will need for versicolor like so\n",
    "tp = nb_cm[1,1]\n",
    "fn = nb_cm[2,1] + nb_cm[0,1]\n",
    "fp = nb_cm[1,2] + nb_cm[1,0]\n",
    "tn = nb_cm[0,0] + nb_cm[0,2] + nb_cm[2,0] + nb_cm[2,2] \n"
   ]
  },
  {
   "cell_type": "markdown",
   "metadata": {},
   "source": [
    "**Accuracy**\n",
    "\n",
    "<div style=\"color: rgb(0,96,100); background: rgb(178,235,242); border: solid 1px rgb(77,208,225); padding: 10px;\">\n",
    "\n",
    "**How often is the classifier correct?**\n",
    "    \n",
    "Accuracy is the number of correct predictions made by the model over all predictions made. \n",
    "\n",
    "Accuracy is calculated as:<br><br>\n",
    "\n",
    "\n",
    "$$\n",
    "ACC = \\frac{TP + TN}{TP + TN + FP + FN}\n",
    "$$\n",
    "\n",
    "\n",
    "<br>\n",
    "\n",
    "Given the above equation, what is the **accuracy** of our classifier?\n",
    "    \n",
    "</div>"
   ]
  },
  {
   "cell_type": "code",
   "execution_count": null,
   "metadata": {
    "nbgrader": {
     "grade": false,
     "grade_id": "cell-0859ef232bac6b24",
     "locked": false,
     "schema_version": 3,
     "solution": true,
     "task": false
    }
   },
   "outputs": [],
   "source": [
    "# Calculate and print Accuracy statistic using the formula above and pre-calculated tn, fp, fn, tp variables\n",
    "#tn, fp, fn, tp \n",
    "\n",
    "### YOUR CODE HERE\n",
    "raise NotImplementedError\n",
    "\n",
    "print(f'Accuracy: {acc}')"
   ]
  },
  {
   "cell_type": "markdown",
   "metadata": {},
   "source": [
    "**Precision**\n",
    "\n",
    "<div style=\"color: rgb(0,96,100); background: rgb(178,235,242); border: solid 1px rgb(77,208,225); padding: 10px;\">\n",
    "\n",
    "**When it predicts the positive result, how often is it correct?**\n",
    "\n",
    "Precision is the proportion of predicted positives that truly are positives\n",
    "\n",
    "$$\n",
    "PPV = \\frac{TP}{TP + FP}\n",
    "$$\n",
    "\n",
    "Given the above equation, what is the precision of our classifier?\n",
    "</div>"
   ]
  },
  {
   "cell_type": "code",
   "execution_count": null,
   "metadata": {
    "nbgrader": {
     "grade": false,
     "grade_id": "cell-73e84c0797bc1e63",
     "locked": false,
     "schema_version": 3,
     "solution": true,
     "task": false
    }
   },
   "outputs": [],
   "source": [
    "# Calculate and print Precision statistic using the formula above and pre-calculated tn, fp, fn, tp variables\n",
    "\n",
    "### YOUR CODE HERE\n",
    "raise NotImplementedError\n",
    "\n",
    "print(f'Precision: {precision}')"
   ]
  },
  {
   "cell_type": "markdown",
   "metadata": {},
   "source": [
    "**Recall (True Positive Rate)**\n",
    "\n",
    "<div style=\"color: rgb(0,96,100); background: rgb(178,235,242); border: solid 1px rgb(77,208,225); padding: 10px;\">\n",
    "\n",
    "**When it is actually the positive result, how often does it predict correctly?**\n",
    "    \n",
    "Recall is the proportion of actual positives that are correctly classified<br>\n",
    "\n",
    "$$\n",
    "TPR = \\frac{TP}{TP + FN}\n",
    "$$\n",
    "\n",
    "Given the above equation, what is the recall of our classifier?\n",
    "</div>"
   ]
  },
  {
   "cell_type": "code",
   "execution_count": null,
   "metadata": {
    "nbgrader": {
     "grade": false,
     "grade_id": "cell-b0099b5897faa204",
     "locked": false,
     "schema_version": 3,
     "solution": true,
     "task": false
    }
   },
   "outputs": [],
   "source": [
    "# Calculate and print Recall statistic using the formula above and pre-calculated tn, fp, fn, tp variables\n",
    "\n",
    "### YOUR CODE HERE\n",
    "raise NotImplementedError\n",
    "\n",
    "print(f'Recall: {recall}')"
   ]
  },
  {
   "cell_type": "markdown",
   "metadata": {},
   "source": [
    "**False Positive Rate**\n",
    "<div style=\"color: rgb(0,96,100); background: rgb(178,235,242); border: solid 1px rgb(77,208,225); padding: 10px;\">\n",
    "\n",
    "**When it predicts a positive result, how often is it incorrect?**\n",
    "\n",
    "$FPR = \\frac{FP}{FP + TN}$\n",
    "\n",
    "Given the above equation, what is the FPR of our classifier?\n",
    "</div>"
   ]
  },
  {
   "cell_type": "code",
   "execution_count": null,
   "metadata": {
    "nbgrader": {
     "grade": false,
     "grade_id": "cell-6b3ef35b8daa1fbc",
     "locked": false,
     "schema_version": 3,
     "solution": true,
     "task": false
    }
   },
   "outputs": [],
   "source": [
    "# Calculate and print FPR using the formula above and pre-calculated tn, fp, fn, tp variables\n",
    "\n",
    "### YOUR CODE HERE\n",
    "raise NotImplementedError\n",
    "\n",
    "print(f'False positive rate: {FPR}')"
   ]
  },
  {
   "cell_type": "markdown",
   "metadata": {},
   "source": [
    "**F1 score**\n",
    "<div style=\"color: rgb(0,96,100); background: rgb(178,235,242); border: solid 1px rgb(77,208,225); padding: 10px;\">\n",
    "\n",
    "**This is just the harmonic mean of precision and recall**\n",
    "    \n",
    "F1-score will penalise large discrepancies between precision and recall\n",
    "\n",
    "$$\n",
    "F_1 =  \\frac{2*TP}{2*TP + FP + FN}\n",
    "$$\n",
    "\n",
    "Given the above equation, what is the F1 score of our classifier? \n",
    "</div>"
   ]
  },
  {
   "cell_type": "code",
   "execution_count": null,
   "metadata": {
    "nbgrader": {
     "grade": false,
     "grade_id": "cell-4a66c7320ce6c630",
     "locked": false,
     "schema_version": 3,
     "solution": true,
     "task": false
    }
   },
   "outputs": [],
   "source": [
    "# Calculate and print F1 using the formula above and pre-calculated tn, fp, fn, tp variables\n",
    "\n",
    "### YOUR CODE HERE\n",
    "raise NotImplementedError\n",
    "\n",
    "print(f'F1 score: {f1}')"
   ]
  },
  {
   "cell_type": "code",
   "execution_count": 24,
   "metadata": {},
   "outputs": [],
   "source": [
    "# Hint at some helpful functions \n",
    "from sklearn.metrics import classification_report"
   ]
  }
 ],
 "metadata": {
  "celltoolbar": "Create Assignment",
  "kernelspec": {
   "display_name": "Python 3 (ipykernel)",
   "language": "python",
   "name": "python3"
  },
  "language_info": {
   "codemirror_mode": {
    "name": "ipython",
    "version": 3
   },
   "file_extension": ".py",
   "mimetype": "text/x-python",
   "name": "python",
   "nbconvert_exporter": "python",
   "pygments_lexer": "ipython3",
   "version": "3.11.5"
  }
 },
 "nbformat": 4,
 "nbformat_minor": 4
}
