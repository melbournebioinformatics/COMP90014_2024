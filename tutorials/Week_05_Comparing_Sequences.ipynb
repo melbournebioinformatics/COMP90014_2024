{
 "cells": [
  {
   "cell_type": "markdown",
   "metadata": {},
   "source": [
    "# Week 5 - Comparing Sequences"
   ]
  },
  {
   "cell_type": "markdown",
   "metadata": {},
   "source": [
    "<div style=\"color: rgb(27,94,32); background: rgb(200,230,201); border: solid 1px rgb(129,199,132); padding: 10px;\">\n",
    "\n",
    "Minimizers, working with sets, minhash, comparing sequences.\n",
    "\n",
    "</div>"
   ]
  },
  {
   "cell_type": "markdown",
   "metadata": {},
   "source": [
    "## Jupyter Shortcuts"
   ]
  },
  {
   "cell_type": "markdown",
   "metadata": {},
   "source": [
    "You can find a User Guide with a description of features at http://jupyterlab.readthedocs.io\n",
    "\n",
    "The main interface we'll be using is the Jupyter Notebook interface. If you prefer to run just Jupyter Notebook itself instead of Jupyter Lab, that is fine. \n",
    "\n",
    "Some useful hotkeys are:\n",
    "\n",
    "* Shift-Enter : execute the code in the current cell\n",
    "* Enter : edit the current cell\n",
    "* ESC : stop editing a cell and return to \"command mode\" to use other hotkeys\n",
    "* m : Turn the current cell into a Markdown cell\n",
    "* y : Turn the current cell into a code cell\n",
    "* a : add a new cell above\n",
    "* b : add a new cell below\n",
    "* dd : delete the current cell\n",
    "* c : copy the current cell\n",
    "* v : paste the copied cell(s)\n",
    "\n",
    "You can also execute the command `?` or `help()` to get help on any function. For instance, `sorted?` or `help(sorted)`."
   ]
  },
  {
   "cell_type": "markdown",
   "metadata": {},
   "source": [
    "## Setup"
   ]
  },
  {
   "cell_type": "markdown",
   "metadata": {},
   "source": [
    "We will use numpy to create arrays and Biopython to handle DNA sequences."
   ]
  },
  {
   "cell_type": "code",
   "execution_count": null,
   "metadata": {},
   "outputs": [],
   "source": [
    "import numpy as np\n",
    "import gzip\n",
    "from Bio import SeqIO\n",
    "from Bio.Seq import Seq\n",
    "import mmh3"
   ]
  },
  {
   "cell_type": "code",
   "execution_count": null,
   "metadata": {},
   "outputs": [],
   "source": [
    "import os\n",
    "import requests\n",
    "from IPython.core.display import HTML\n",
    "\n",
    "# Handy function to fetch our data files\n",
    "def fetch_file(url, outpath='.'):\n",
    "    response = requests.get(url)\n",
    "    if response.status_code == 200:\n",
    "        print('File found!')\n",
    "        # Get the filename from the URL\n",
    "        filename = os.path.basename(url).split('?', 1)[0]\n",
    "        # Construct the filepath using the specified directory and filename\n",
    "        filepath = os.path.join(outpath, filename)\n",
    "        # Create the directory if it doesn't exist\n",
    "        if not os.path.exists(outpath):\n",
    "            print(f'Creating output dir: {outpath}')\n",
    "            os.makedirs(outpath)\n",
    "        # Check if the file already exists in the specified directory\n",
    "        if os.path.exists(filepath):\n",
    "            print(f'{filename} already exists in {outpath}. Skip download.')\n",
    "        else:\n",
    "            with open(filepath, 'wb') as f:\n",
    "                f.write(response.content)\n",
    "                f.close()\n",
    "            print(f'Saved to: {filepath}')\n",
    "    else:\n",
    "        print(f'File not found: Code {response.status_code}')"
   ]
  },
  {
   "cell_type": "code",
   "execution_count": null,
   "metadata": {},
   "outputs": [],
   "source": [
    "# Load stylesheet\n",
    "HTML(requests.get('https://raw.githubusercontent.com/melbournebioinformatics/COMP90014/main/data/2023/style/custom.css').text)"
   ]
  },
  {
   "cell_type": "markdown",
   "metadata": {},
   "source": [
    "## Sequence data "
   ]
  },
  {
   "cell_type": "markdown",
   "metadata": {},
   "source": [
    "We'll read in four bacterial genomes to play with."
   ]
  },
  {
   "cell_type": "code",
   "execution_count": null,
   "metadata": {
    "tags": []
   },
   "outputs": [],
   "source": [
    "# Fetch test data\n",
    "data = ['NC_000913.fasta.gz','NC_002695.fasta.gz','NC_003197.fasta.gz','NC_021870.fasta.gz']\n",
    "\n",
    "for filename in data:\n",
    "    url = f'https://github.com/melbournebioinformatics/COMP90014/blob/main/data/2023/Workshop_05/data/{filename}?raw=true'\n",
    "    fetch_file(url,outpath='data')\n"
   ]
  },
  {
   "cell_type": "markdown",
   "metadata": {},
   "source": [
    "To work with these sequences in Python we will import the contents of the fasta files using the Biopython library:"
   ]
  },
  {
   "cell_type": "code",
   "execution_count": null,
   "metadata": {},
   "outputs": [],
   "source": [
    "# Import with biopython as SeqRecord objects\n",
    "\n",
    "# List of file paths to your FASTA.gz files\n",
    "fasta_gz_files = ['data/NC_000913.fasta.gz','data/NC_002695.fasta.gz','data/NC_003197.fasta.gz','data/NC_021870.fasta.gz']\n",
    "\n",
    "# Create an empty list to store SeqRecord objects\n",
    "seq_records = []\n",
    "\n",
    "# Iterate through the list of file paths\n",
    "for file_path in fasta_gz_files:\n",
    "    with gzip.open(file_path, \"rt\") as handle:\n",
    "        # Use SeqIO to parse the sequences\n",
    "        for record in SeqIO.parse(handle, \"fasta\"):\n",
    "            # Append each SeqRecord to the list\n",
    "            seq_records.append(record)\n",
    "\n",
    "# Now you have a list of SeqRecord objects, one for each sequence in all files\n",
    "# You can access them by index, e.g., seq_records[0] for the first sequence\n",
    "# Remember we only need the sequences today so will will extract the 'seq' attribute from each SeqRecord.\n"
   ]
  },
  {
   "cell_type": "code",
   "execution_count": null,
   "metadata": {
    "scrolled": true
   },
   "outputs": [],
   "source": [
    "# The SeqRecord contains metadata from the fasta file\n",
    "for record in seq_records:\n",
    "    print(record + '\\n\\n')"
   ]
  },
  {
   "cell_type": "markdown",
   "metadata": {},
   "source": [
    "We only need the sequences today so will will extract the 'seq' attribute from the SeqRecord."
   ]
  },
  {
   "cell_type": "code",
   "execution_count": null,
   "metadata": {},
   "outputs": [],
   "source": [
    "# View first 100 bases of sequence\n",
    "\n",
    "for record in seq_records:\n",
    "    print(record.id)\n",
    "    print(record.seq[:100] + '\\n')"
   ]
  },
  {
   "cell_type": "markdown",
   "metadata": {},
   "source": [
    "## Working with Sets\n",
    "\n",
    "In Python sets are an unordered collection of unique elements. Sets are similar to lists and tuples, but unlike lists and tuples, sets cannot contain duplicate values. \n",
    "\n",
    "We can use sets for tasks that involve handling unique items, such as removing duplicates from a list or testing membership in a collection."
   ]
  },
  {
   "cell_type": "code",
   "execution_count": null,
   "metadata": {},
   "outputs": [],
   "source": [
    "# Create sets in Python\n",
    "\n",
    "empty_set = set()\n",
    "\n",
    "my_set = {1, 2, 3, 4, 5}"
   ]
  },
  {
   "cell_type": "code",
   "execution_count": null,
   "metadata": {},
   "outputs": [],
   "source": [
    "# Convert a list to a set\n",
    "set([1,1,2,3,4,4,])"
   ]
  },
  {
   "cell_type": "markdown",
   "metadata": {},
   "source": [
    "Adding and Removing Elements:\n",
    "\n",
    "You can add elements to a set using the add() method and remove elements using the remove() or discard() methods.\n",
    "\n",
    "Note: discard() does not raise an error if if the element is not found"
   ]
  },
  {
   "cell_type": "code",
   "execution_count": null,
   "metadata": {},
   "outputs": [],
   "source": [
    "my_set.add(6)\n",
    "my_set.remove(3)\n",
    "\n",
    "print(my_set)"
   ]
  },
  {
   "cell_type": "code",
   "execution_count": null,
   "metadata": {},
   "outputs": [],
   "source": [
    "# Membership Testing: You can test if an element is in a set using the in keyword.\n",
    "\n",
    "if 2 in my_set:\n",
    "    print(\"2 is in the set\")"
   ]
  },
  {
   "cell_type": "code",
   "execution_count": null,
   "metadata": {},
   "outputs": [],
   "source": [
    "# You can get the number of elements in a set using the len() function.\n",
    "\n",
    "len(my_set)"
   ]
  },
  {
   "cell_type": "markdown",
   "metadata": {},
   "source": [
    "### Set Operations:\n",
    "\n",
    "Sets support various operations such as union, intersection, difference, and symmetric difference.\n",
    "\n",
    "Union (|): Combines two sets and returns a new set with all unique elements."
   ]
  },
  {
   "cell_type": "code",
   "execution_count": null,
   "metadata": {},
   "outputs": [],
   "source": [
    "set1 = {1, 2, 3}\n",
    "set2 = {3, 4, 5}\n",
    "\n",
    "union_set = set1 | set2\n",
    "\n",
    "print(union_set)"
   ]
  },
  {
   "cell_type": "markdown",
   "metadata": {},
   "source": [
    "Intersection (&): Returns a new set containing elements that are in both sets."
   ]
  },
  {
   "cell_type": "code",
   "execution_count": null,
   "metadata": {},
   "outputs": [],
   "source": [
    "intersection_set = set1 & set2\n",
    "\n",
    "print(intersection_set)"
   ]
  },
  {
   "cell_type": "markdown",
   "metadata": {},
   "source": [
    "Difference (-): Returns a new set with elements from the first set that are not in the second set.\n",
    "\n",
    "Also called the \"exclusion\""
   ]
  },
  {
   "cell_type": "code",
   "execution_count": null,
   "metadata": {},
   "outputs": [],
   "source": [
    "difference_set = set1 - set2\n",
    "\n",
    "# In set1 and not in set2\n",
    "print(difference_set)\n"
   ]
  },
  {
   "cell_type": "markdown",
   "metadata": {},
   "source": [
    "Symmetric Difference (^): Returns a new set with elements that are in either of the sets but not in both."
   ]
  },
  {
   "cell_type": "code",
   "execution_count": null,
   "metadata": {},
   "outputs": [],
   "source": [
    "symmetric_difference_set = set1 ^ set2\n",
    "\n",
    "# Unique to either set, not shared\n",
    "print(symmetric_difference_set)"
   ]
  },
  {
   "cell_type": "markdown",
   "metadata": {},
   "source": [
    "# Minimizers\n",
    "\n",
    "Minimizers are a subset of representative kmers that are selected by some reproducible method - generally be selecting the bottom 's' hash values of all unique kmers in a sequence. \n",
    "\n",
    "Minimizers help in reducing the computational complexity of comparing sequences and identifying common elements.\n"
   ]
  },
  {
   "cell_type": "markdown",
   "metadata": {},
   "source": [
    "## Exercise 1: Extract minimizers"
   ]
  },
  {
   "cell_type": "markdown",
   "metadata": {},
   "source": [
    "\n",
    "<div style=\"color: rgb(27,94,32); background: rgb(200,230,201); border: solid 1px rgb(129,199,132); padding: 10px;\">\n",
    "\n",
    "<b>Challange:</b> Write a function that returns a Minhash Sketch of a DNA sequence. The sketch should be a set containing the bottom `s` hash values of kmers extracted from the input sequence`.\n",
    "    \n",
    "- Input: \n",
    "    - A DNA string or Seq object\n",
    "    - kmer len `k`\n",
    "    - Number of minimizers to store in the sketch\n",
    "- Extract canonical kmers from the input seq\n",
    "- Calculate hash values\n",
    "- Output: Return set of the 's' smallest hash values\n",
    "    \n",
    "</div>"
   ]
  },
  {
   "cell_type": "code",
   "execution_count": null,
   "metadata": {},
   "outputs": [],
   "source": [
    "# Some helper functions for calculating a hash value from a canonical kmer\n",
    "\n",
    "def get_canon(kmer):\n",
    "    complement_dict = {'A': 'T', 'T': 'A', 'C': 'G', 'G': 'C'}\n",
    "    rev = kmer[::-1]\n",
    "    revcomp = ''.join([complement_dict[base] for base in rev])\n",
    "    if kmer <= revcomp:\n",
    "        return kmer\n",
    "    else:\n",
    "        return revcomp\n",
    "\n",
    "\n",
    "# Hash canonical kmer \n",
    "def dna_hash(kmer):\n",
    "    ckmer = get_canon(kmer)\n",
    "    hashval = mmh3.hash64(str(ckmer), seed=42, signed=False)[0]\n",
    "    return hashval"
   ]
  },
  {
   "cell_type": "code",
   "execution_count": null,
   "metadata": {},
   "outputs": [],
   "source": [
    "# Implement minimiser extraction\n",
    "dna_hash('TTTA')"
   ]
  },
  {
   "cell_type": "code",
   "execution_count": null,
   "metadata": {
    "nbgrader": {
     "grade": false,
     "grade_id": "E1",
     "locked": false,
     "schema_version": 3,
     "solution": true,
     "task": false
    }
   },
   "outputs": [],
   "source": [
    "def minhash_sketch(dna_sequence, k, num_minimizers):\n",
    "    \"\"\"\n",
    "    Calulate minhash sketch from DNA sequence.\n",
    "    \"\"\"\n",
    "    ### BEGIN SOLUTION\n",
    "    minimizers = [float('inf')] * num_minimizers  # Initialize with +∞\n",
    "    \n",
    "    for i in range(len(dna_sequence) - k + 1):\n",
    "        kmer = dna_sequence[i:i + k]\n",
    "        hash_value = dna_hash(kmer)\n",
    "        #print(f'{get_canon(kmer)}: {hash_value}')\n",
    "        \n",
    "        if hash_value < max(minimizers):\n",
    "            minimizers.remove(max(minimizers))\n",
    "            minimizers.append(hash_value)\n",
    "    \n",
    "    return sorted(minimizers)\n",
    "\n",
    "    # Alt solution:\n",
    "    #hashes = set()\n",
    "    #\n",
    "    #for i in range(len(seq) - k + 1):\n",
    "    #    kmer = seq[i:i+k]\n",
    "    #    khash = dna_hash(kmer)\n",
    "    #    # print(f'{get_canon(kmer)}: {hash_value}')  # can uncomment to show kmers & hash values\n",
    "    #    hashes.add(khash)\n",
    "    #\n",
    "    #hash_l = list(hashes)\n",
    "    #hash_l.sort()\n",
    "    #sketch = hash_l[:m]\n",
    "\n",
    "    ### END SOLUTION"
   ]
  },
  {
   "cell_type": "code",
   "execution_count": null,
   "metadata": {},
   "outputs": [],
   "source": [
    "# First 100 bases of our first SeqRecord\n",
    "minhash_sketch(seq_records[0].seq[:100], 5, 10)\n"
   ]
  },
  {
   "cell_type": "markdown",
   "metadata": {},
   "source": [
    "# Estimating distance with Minhash\n",
    "\n",
    "Genomes that share kmers should share a similar proportion of minimizers\n",
    "We can rapidly estimate the distance of two sequences by calculating the number of kmers they share\n",
    "This is called the Minhash distance and is an approimation for the true jaccard distance (if we examined all the kmers)\n",
    "\n",
    "Remember these distances are probabalistic."
   ]
  },
  {
   "cell_type": "markdown",
   "metadata": {},
   "source": [
    "## Exercise 2: True Jaccard Distance"
   ]
  },
  {
   "cell_type": "markdown",
   "metadata": {},
   "source": [
    "<div style=\"color: rgb(27,94,32); background: rgb(200,230,201); border: solid 1px rgb(129,199,132); padding: 10px;\">\n",
    "\n",
    "<b>Challange:</b> Write a function that returns a set of all unique kmers in a sequence. \n",
    "    \n",
    "- Input: \n",
    "    - A DNA string or Seq object\n",
    "    - kmer len `k`\n",
    "- Extract kmers from the input seq\n",
    "- Output: Return set of all kmers\n",
    "    \n",
    "</div>"
   ]
  },
  {
   "cell_type": "code",
   "execution_count": null,
   "metadata": {
    "nbgrader": {
     "grade": false,
     "grade_id": "E2a",
     "locked": false,
     "schema_version": 3,
     "solution": true,
     "task": false
    }
   },
   "outputs": [],
   "source": [
    "def extract_kmers(seq, k):\n",
    "    '''\n",
    "    Extract all kmers. Return Set of kmers.\n",
    "    '''\n",
    "    ### BEGIN SOLUTION\n",
    "    kmers = set()\n",
    "    for i in range(len(seq) - k + 1):\n",
    "        kmer = seq[i:i+k]\n",
    "        kmers.add(kmer)\n",
    "    ### END SOLUTION\n",
    "    \n",
    "    return kmers\n"
   ]
  },
  {
   "cell_type": "code",
   "execution_count": null,
   "metadata": {},
   "outputs": [],
   "source": [
    "seq = 'AGTACGGT'\n",
    "print(extract_kmers(seq, 4)) # should equal {'CGGT', 'ACGG', 'TACG', 'GTAC', 'AGTA'}"
   ]
  },
  {
   "cell_type": "markdown",
   "metadata": {},
   "source": [
    "<div style=\"color: rgb(27,94,32); background: rgb(200,230,201); border: solid 1px rgb(129,199,132); padding: 10px;\">\n",
    "\n",
    "<b>Challange:</b> Calculate jaccard for kmer sets. The Jaccard distance is the `intersection / union`.\n",
    "    \n",
    "- Input: Two kmer sets\n",
    "- Output: Jaccard dist of the sets\n",
    "    \n",
    "</div>"
   ]
  },
  {
   "cell_type": "code",
   "execution_count": null,
   "metadata": {
    "nbgrader": {
     "grade": false,
     "grade_id": "E2b",
     "locked": false,
     "schema_version": 3,
     "solution": true,
     "task": false
    }
   },
   "outputs": [],
   "source": [
    "def jaccard(a, b):\n",
    "    ### BEGIN SOLUTION\n",
    "    intersection = len(a.intersection(b))\n",
    "    union = len(a.union(b))\n",
    "    j = intersection / union\n",
    "    ### END SOLUTION\n",
    "    return j\n"
   ]
  },
  {
   "cell_type": "code",
   "execution_count": null,
   "metadata": {},
   "outputs": [],
   "source": [
    "set1 = set([1, 2, 3, 4, 5])\n",
    "set2 = set([4, 5, 6, 7, 8])\n",
    "print(jaccard(set1, set2))    # should equal 0.25"
   ]
  },
  {
   "cell_type": "markdown",
   "metadata": {},
   "source": [
    "<div style=\"color: rgb(27,94,32); background: rgb(200,230,201); border: solid 1px rgb(129,199,132); padding: 10px;\">\n",
    "    \n",
    "<b>Challange:</b> Combine the above functions to return jaccard index for two sequences and a kmer size k\n",
    "    \n",
    "</div>\n"
   ]
  },
  {
   "cell_type": "code",
   "execution_count": null,
   "metadata": {
    "nbgrader": {
     "grade": false,
     "grade_id": "E2c",
     "locked": false,
     "schema_version": 3,
     "solution": true,
     "task": false
    }
   },
   "outputs": [],
   "source": [
    "def true_jaccard_distance(seqA, seqB, k):\n",
    "    ### BEGIN SOLUTION\n",
    "    kmersA = extract_kmers(seqA, k)\n",
    "    kmersB = extract_kmers(seqB, k)\n",
    "    j = jaccard(kmersA, kmersB)\n",
    "    ### END SOLUTION\n",
    "    return j\n"
   ]
  },
  {
   "cell_type": "code",
   "execution_count": null,
   "metadata": {},
   "outputs": [],
   "source": [
    "# identical\n",
    "seqA = 'AGTACGGTCAGTAGTCGC'\n",
    "seqB = 'AGTACGGTCAGTAGTCGC'\n",
    "j = true_jaccard_distance(seqA, seqB, 4)\n",
    "print(f'identical sequences true jaccard: {j:.2f}')   # should equal 1.0\n",
    "\n",
    "# single mismatch \n",
    "seqA = 'AGTACGGTAAGTAGTCGC'\n",
    "seqB = 'AGTACGGTTAGTAGTCGC'\n",
    "j = true_jaccard_distance(seqA, seqB, 4)\n",
    "print(f'single mismatch true jaccard: {j:.2f}')       # should equal 0.59\n",
    "\n",
    "# single indel\n",
    "seqA = 'AGTACGGTAAAGTAGTCGC'\n",
    "seqB = 'AGTACGGTAAGTAGTCGC'\n",
    "j = true_jaccard_distance(seqA, seqB, 4) \n",
    "print(f'single indel jaccard: {j:.2f}')               # should equal 0.81\n"
   ]
  },
  {
   "cell_type": "markdown",
   "metadata": {},
   "source": [
    "## Exercise 3: MinHash Jaccard Distance"
   ]
  },
  {
   "cell_type": "markdown",
   "metadata": {},
   "source": [
    "Using our minhash_sketch() function from earlier, let's test it on two identical sequences."
   ]
  },
  {
   "cell_type": "code",
   "execution_count": null,
   "metadata": {},
   "outputs": [],
   "source": [
    "# identical sequences: prove that minhash works & jaccard would be 1\n",
    "seqA = 'AGTACGGTACATGCGTTGC'\n",
    "seqB = 'AGTACGGTACATGCGTTGC'\n",
    "\n",
    "print('\\nseqA')\n",
    "sketchA = minhash_sketch(seqA, 4, 8)\n",
    "print(f'\\nsketchA: {sketchA}')\n",
    "\n",
    "print('\\nseqB')\n",
    "sketchB = minhash_sketch(seqB, 4, 8)\n",
    "print(f'\\nsketchB: {sketchB}')"
   ]
  },
  {
   "cell_type": "code",
   "execution_count": null,
   "metadata": {},
   "outputs": [],
   "source": [
    "# We can check these are the same using an assert statement\n",
    "assert sketchA == sketchB"
   ]
  },
  {
   "cell_type": "markdown",
   "metadata": {},
   "source": [
    "Now lets make the sequences slightly different"
   ]
  },
  {
   "cell_type": "code",
   "execution_count": null,
   "metadata": {},
   "outputs": [],
   "source": [
    "# Different sequences: show that most min 8 hash values match\n",
    "seqA = 'AGTACGGTACATCCGTTGGGC'\n",
    "seqB = 'AGTACGGTACATGCGTTGC'\n",
    "\n",
    "sketchA = minhash_sketch(seqA, 4, 8)\n",
    "sketchB = minhash_sketch(seqB, 4, 8)\n",
    "\n",
    "if sketchA != sketchB:\n",
    "    print('sketches not same!')\n",
    "    \n",
    "    \n",
    "print(f'\\nsketchA: {sketchA}')\n",
    "print(f'\\nsketchB: {sketchB}')\n",
    "\n"
   ]
  },
  {
   "cell_type": "markdown",
   "metadata": {},
   "source": [
    "<div style=\"color: rgb(27,94,32); background: rgb(200,230,201); border: solid 1px rgb(129,199,132); padding: 10px;\">\n",
    "<b>Challange:</b> Calculate the Jaccard distance between two Minhash sketches (Minhash distance)\n",
    "    \n",
    "- Input: \n",
    "    - Two sets DNA seqs\n",
    "    - kmer len k\n",
    "    - Number of minimizers m\n",
    "- Calculate minhash sketch for each input seq\n",
    "- Return: Jaccard distance between the two minhash sketches\n",
    "</div>"
   ]
  },
  {
   "cell_type": "code",
   "execution_count": null,
   "metadata": {
    "nbgrader": {
     "grade": false,
     "grade_id": "3a",
     "locked": false,
     "schema_version": 3,
     "solution": true,
     "task": false
    }
   },
   "outputs": [],
   "source": [
    "def minhash_jaccard_distance(seqA, seqB, k, m):\n",
    "    \n",
    "    ### BEGIN SOLUTION\n",
    "    sketchA = minhash_sketch(seqA, k, m)\n",
    "    sketchB = minhash_sketch(seqB, k, m)\n",
    "    j = jaccard(set(sketchA), set(sketchB))\n",
    "    ### END SOLUTION\n",
    "    return j "
   ]
  },
  {
   "cell_type": "code",
   "execution_count": null,
   "metadata": {},
   "outputs": [],
   "source": [
    "# identical sequences \n",
    "print('IDENTICAL')\n",
    "seqA = 'AGTACGGTACATGCGTTGC'\n",
    "seqB = 'AGTACGGTACATGCGTTGC'\n",
    "jt = true_jaccard_distance(seqA, seqB, 4)\n",
    "jm = minhash_jaccard_distance(seqA, seqB, 4, 8)\n",
    "print(f'True Jaccard for identical sequences: {jt:.2f}')       # should equal 1.00\n",
    "print(f'MinHash Jaccard for identical sequences: {jm:.2f}')    # should approximate 1.00\n",
    "print()\n",
    "\n",
    "# different sequences: \n",
    "# - prove minhash is approximation of jaccard\n",
    "# - students will all get different values for minhash jaccard based on hash seed\n",
    "# - compare with each other - jm should all be approximating 0.77\n",
    "# - run a few times to show different random samples due to hash seed\n",
    "print('DIFFERENT')\n",
    "seqA = 'AGTACGGTAGATGCGTTGTGCATGACTGATGCTAGAGTCTGCTACGTAGCGACAGCTTGCAGTCATGC'\n",
    "seqB = 'AGTACGGTACATGCGTTGTGCACGACTGATGCTAGAGTCTGCTACGTAGCGACAGCTTGCAAGTCATGC'\n",
    "jt = true_jaccard_distance(seqA, seqB, 4)\n",
    "jm = minhash_jaccard_distance(seqA, seqB, 4, 8)\n",
    "print(f'True Jaccard for different sequences: {jt:.2f}')      # should equal 0.77\n",
    "print(f'MinHash Jaccard for different sequences: {jm:.2f}')   # should approximate 0.77"
   ]
  },
  {
   "cell_type": "markdown",
   "metadata": {},
   "source": [
    "## Extension challenges"
   ]
  },
  {
   "cell_type": "markdown",
   "metadata": {},
   "source": [
    "<div style=\"color: rgb(27,94,32); background: rgb(200,230,201); border: solid 1px rgb(129,199,132); padding: 10px;\">\n",
    "<b>Challange:</b> Calculate pairwise minhash distances for our 4 bacterial genomes. \n",
    "\n",
    "Visualise distances with an MDS plot.\n",
    "    \n",
    "Which samples are most similar?\n",
    "    \n",
    "Hint: Check the seqrecord descriptions for species names.\n",
    "</div>"
   ]
  },
  {
   "cell_type": "code",
   "execution_count": null,
   "metadata": {},
   "outputs": [],
   "source": [
    "# Calculate the minhash for each of our bacterial genomes\n",
    "# If this takes too long to run just consider the first 10,000 bases of the genome\n",
    "sketch_A = minhash_sketch(seq_records[0].seq[:10000], 5, 100)\n",
    "sketch_B = minhash_sketch(seq_records[1].seq[:10000], 5, 100)\n",
    "sketch_C = minhash_sketch(seq_records[2].seq[:10000], 5, 100)\n",
    "sketch_D = minhash_sketch(seq_records[3].seq[:10000], 5, 100)"
   ]
  },
  {
   "cell_type": "code",
   "execution_count": null,
   "metadata": {
    "nbgrader": {
     "grade": false,
     "grade_id": "E4",
     "locked": false,
     "schema_version": 3,
     "solution": true,
     "task": false
    }
   },
   "outputs": [],
   "source": [
    "# Get pairwise distances\n",
    "# Make MDS plot"
   ]
  },
  {
   "cell_type": "markdown",
   "metadata": {},
   "source": [
    "This workshop was developed by Grace Hall and Adam Taranto."
   ]
  }
 ],
 "metadata": {
  "celltoolbar": "Create Assignment",
  "kernelspec": {
   "display_name": "Python 3 (ipykernel)",
   "language": "python",
   "name": "python3"
  },
  "language_info": {
   "codemirror_mode": {
    "name": "ipython",
    "version": 3
   },
   "file_extension": ".py",
   "mimetype": "text/x-python",
   "name": "python",
   "nbconvert_exporter": "python",
   "pygments_lexer": "ipython3",
   "version": "3.11.4"
  }
 },
 "nbformat": 4,
 "nbformat_minor": 4
}
