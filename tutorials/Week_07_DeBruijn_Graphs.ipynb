{
 "cells": [
  {
   "cell_type": "markdown",
   "metadata": {},
   "source": [
    "# Week 7 - de novo assembly with De Bruijn graphs"
   ]
  },
  {
   "cell_type": "markdown",
   "metadata": {},
   "source": [
    "\n",
    "<div style=\"color: rgb(27,94,32); background: rgb(200,230,201); border: solid 1px rgb(129,199,132); padding: 10px;\">\n",
    "\n",
    "For this week's lab you'll be writing functions to count k-mers and to find the edges of a de Bruijn graph.\n",
    "\n",
    "\n",
    "As a reminder, we have a relevant tutorial document intended for those new to programming or learning Python: [kmer-counting tutorial](kmer_counting.ipynb). The first couple of challenges below are covered (more gently) in this tutorial. \n",
    "    \n",
    "By now you have probably already learned the programming concepts in the tutorial, but you might still find it worth looking at the _Dictionaries: algorithmic considerations_ section. \n",
    "</div>"
   ]
  },
  {
   "cell_type": "markdown",
   "metadata": {},
   "source": [
    "## Setup"
   ]
  },
  {
   "cell_type": "code",
   "execution_count": null,
   "metadata": {
    "tags": []
   },
   "outputs": [],
   "source": [
    "import os\n",
    "import requests\n",
    "from IPython.core.display import HTML\n",
    "import matplotlib.pylab as plt\n",
    "import networkx as nx"
   ]
  },
  {
   "cell_type": "code",
   "execution_count": null,
   "metadata": {
    "tags": []
   },
   "outputs": [],
   "source": [
    "# Load stylesheet\n",
    "HTML(requests.get('https://raw.githubusercontent.com/melbournebioinformatics/COMP90014/main/data/2023/style/custom.css').text)"
   ]
  },
  {
   "cell_type": "markdown",
   "metadata": {},
   "source": [
    "## Data "
   ]
  },
  {
   "cell_type": "markdown",
   "metadata": {},
   "source": [
    "### Kmer Size\n",
    "Kmer size has a large impact on overall assembly quality.  <br>\n",
    "The effect of this can be seen here: \n",
    "https://github.com/rrwick/Bandage/wiki/Effect-of-kmer-size\n",
    "<br>\n",
    "Today we will just work with small strings and small k, but keep this in mind for the future. "
   ]
  },
  {
   "cell_type": "markdown",
   "metadata": {},
   "source": [
    "We'll define some toy \"reads\" from English strings, which you can use to see your functions in action.\n",
    "\n",
    "The first two examples contain reads with some typos or \"sequencing errors\". \n",
    "\n",
    "What do you think these might do to our graphs?"
   ]
  },
  {
   "cell_type": "code",
   "execution_count": null,
   "metadata": {
    "tags": []
   },
   "outputs": [],
   "source": [
    "yoda_reads = '''\n",
    "ters_no\n",
    "ers_not\n",
    "matners\n",
    "size_ma\n",
    "tters_\n",
    "atters_n\n",
    "size_m\n",
    "e_matter'''.strip().split(\"\\n\")\n",
    "yoda_reads"
   ]
  },
  {
   "cell_type": "code",
   "execution_count": null,
   "metadata": {
    "tags": []
   },
   "outputs": [],
   "source": [
    "caesar_reads = '''\n",
    "_your_e\n",
    "l,nd_me\n",
    "nd_me_y\n",
    "d_me_y\n",
    "omans,_\n",
    "s,_coun\n",
    "me_you\n",
    "eids,_\n",
    "mans,_c\n",
    "our_ea\n",
    "'''.strip().split(\"\\n\")"
   ]
  },
  {
   "cell_type": "code",
   "execution_count": null,
   "metadata": {
    "tags": []
   },
   "outputs": [],
   "source": [
    "# a version with no read errors\n",
    "caesar_reads_perfect = '''\n",
    "me_your_e\n",
    "ymen,_len\n",
    "_your_e\n",
    "ds,_Roma\n",
    "nds,_Roma\n",
    "trymen,_\n",
    "lend_me_\n",
    "omans,_co\n",
    "n,_lend_\n",
    "riends,_R\n",
    "ntrymen\n",
    ",_country\n",
    "e_your_ears\n",
    "untryme\n",
    "riends,_\n",
    "'''.strip().split(\"\\n\")"
   ]
  },
  {
   "cell_type": "markdown",
   "metadata": {},
   "source": [
    "And some error-free \"reads\" from a very small tRNA gene:"
   ]
  },
  {
   "cell_type": "code",
   "execution_count": null,
   "metadata": {
    "tags": []
   },
   "outputs": [],
   "source": [
    "# Error free reads\n",
    "# Range in length from 18-22\n",
    "mt_te_reads = '''TGTAGTTGAAATACAACGAT\n",
    "GGTCGTGGTTGTAGTCCGTGC\n",
    "TGGTCGTGGTTGTAGTCCG\n",
    "TATCATTGGTCGTGGTTGTAG\n",
    "TTGTAGTTGAAATACAACGAT\n",
    "ATCATTGGTCGTGGTTGTAG\n",
    "ATGGTTTTTCATATCATTGG\n",
    "GGTTTTTCATATCATTGGTCGT\n",
    "GGTCGTGGTTGTAGTCCGT\n",
    "TCATTGGTCGTGGTTGTAGTCC\n",
    "GGTCGTGGTTGTAGTCCGTGCG\n",
    "GATGGTTTTTCATATCATT\n",
    "TGGTCGTGGTTGTAGTCC\n",
    "AACGATGGTTTTTCATATCA\n",
    "GGTTTTTCATATCATTGGTCG\n",
    "GTTTTTCATATCATTGGTCGTG\n",
    "ATTGGTCGTGGTTGTAGTCCGT\n",
    "AACGATGGTTTTTCATAT\n",
    "GTTTTTCATATCATTGGT\n",
    "AACGATGGTTTTTCATAT'''.strip().split()"
   ]
  },
  {
   "cell_type": "markdown",
   "metadata": {},
   "source": [
    "# Section 1: Counting k-mers "
   ]
  },
  {
   "cell_type": "markdown",
   "metadata": {},
   "source": [
    "## Exercise 1: Extract Kmers From a String\n"
   ]
  },
  {
   "cell_type": "markdown",
   "metadata": {},
   "source": [
    "<div style=\"color: rgb(27,94,32); background: rgb(200,230,201); border: solid 1px rgb(129,199,132); padding: 10px;\">\n",
    "\n",
    "<b>Challenge:</b> Complete the function below to return all <b>unique</b> k-mers from a given string.\n",
    "\n",
    "- [ ] Input: One read (str), kmer len k (int)\n",
    "- [ ] Extract all kmers from read\n",
    "- [ ] Return: All unique kmers as a Set\n",
    "    \n",
    "</div>"
   ]
  },
  {
   "cell_type": "code",
   "execution_count": null,
   "metadata": {
    "nbgrader": {
     "grade": false,
     "grade_id": "E1",
     "locked": false,
     "schema_version": 3,
     "solution": true,
     "task": false
    },
    "tags": []
   },
   "outputs": [],
   "source": [
    "def get_string_kmers(read, k):\n",
    "    '''\n",
    "    Return a set of all k-mers of length k from string read.\n",
    "    '''\n",
    "    ### BEGIN SOLUTION\n",
    "    kmers = set()\n",
    "    for i in range(len(read) - k + 1):\n",
    "        kmer = read[i:i+k]\n",
    "        kmers.add(kmer)\n",
    "    return kmers\n",
    "    ### END SOLUTION"
   ]
  },
  {
   "cell_type": "code",
   "execution_count": null,
   "metadata": {
    "tags": []
   },
   "outputs": [],
   "source": [
    "# Get unique kmers from the first read in \"caesar_reads\"\n",
    "# Should return {'_yo', 'our', 'r_e', 'ur_', 'you'}\n",
    "get_string_kmers(caesar_reads[0], 3)"
   ]
  },
  {
   "cell_type": "code",
   "execution_count": null,
   "metadata": {},
   "outputs": [],
   "source": [
    "# Get kmers from read \"TGTAGTTGAAATACAACGAT\"\n",
    "get_string_kmers(mt_te_reads[0],15)"
   ]
  },
  {
   "cell_type": "markdown",
   "metadata": {},
   "source": [
    "## Exercise 2: Get Kmers From Many Strings\n"
   ]
  },
  {
   "cell_type": "markdown",
   "metadata": {},
   "source": [
    "<div style=\"color: rgb(27,94,32); background: rgb(200,230,201); border: solid 1px rgb(129,199,132); padding: 10px;\">\n",
    "\n",
    "<b>Challenge:</b> Write a function which applies `get_string_kmers()` to a list of reads and returns all **unique** kmers.\n",
    "\n",
    "- [ ] Input: List of reads\n",
    "- [ ] Extract set of kmers for each read\n",
    "- [ ] Merge kmers from all reads into single set\n",
    "- [ ] Return: Set of all unique kmers from all reads\n",
    "\n",
    "</div>"
   ]
  },
  {
   "cell_type": "code",
   "execution_count": null,
   "metadata": {
    "nbgrader": {
     "grade": false,
     "grade_id": "E2",
     "locked": false,
     "schema_version": 3,
     "solution": true,
     "task": false
    },
    "tags": []
   },
   "outputs": [],
   "source": [
    "def get_kmers(reads, k):\n",
    "    '''\n",
    "    Given a list of strings representing reads, and a value k, \n",
    "    return a set of all k-mers of length k.\n",
    "    '''    \n",
    "    ### BEGIN SOLUTION\n",
    "    kmers = set()\n",
    "    for read in reads:\n",
    "        read_kmers = get_string_kmers(read, k)\n",
    "        kmers.update(read_kmers)\n",
    "        #kmers = kmers | read_kmers\n",
    "    return kmers\n",
    "    ### END SOLUTION"
   ]
  },
  {
   "cell_type": "code",
   "execution_count": null,
   "metadata": {
    "tags": []
   },
   "outputs": [],
   "source": [
    "# Should return {'tters_','ize_ma','atners','ers_no','matner','rs_not','size_m',\n",
    "#                '_matte','e_matt','atters','ters_n','matter'}\n",
    "# (i.e. 12 unique kmers)\n",
    "\n",
    "the_kmers = get_kmers(yoda_reads, 6)\n",
    "\n",
    "[print(x) for x in the_kmers]\n",
    "print(f'Total kmer count: {len(the_kmers)}')"
   ]
  },
  {
   "cell_type": "markdown",
   "metadata": {},
   "source": [
    "# Section 2:  Building de Bruijn Graph"
   ]
  },
  {
   "cell_type": "markdown",
   "metadata": {},
   "source": [
    "## Building a Networkx graph 101"
   ]
  },
  {
   "cell_type": "markdown",
   "metadata": {},
   "source": [
    "We could represent a graph using Python data structures. For instance, here is one way to represent a graph where nodes B and C are linked from A:\n",
    "    \n",
    "    B <- A -> C\n"
   ]
  },
  {
   "cell_type": "code",
   "execution_count": null,
   "metadata": {
    "tags": []
   },
   "outputs": [],
   "source": [
    "nodes = ['A','B','C']\n",
    "edges = [('A','B'), ('A','C')]"
   ]
  },
  {
   "cell_type": "markdown",
   "metadata": {},
   "source": [
    "Notice that a tree is a kind of graph, and we have already built trees using data structures in past labs.\n",
    "\n",
    "This time we'll use a library `networkx` intended specifically for graph manipulation."
   ]
  },
  {
   "cell_type": "markdown",
   "metadata": {},
   "source": [
    "Here's how to build that same graph in networkx. Note that we use `DiGraph` instead of `Graph`, which gives a directed graph."
   ]
  },
  {
   "cell_type": "code",
   "execution_count": null,
   "metadata": {
    "tags": []
   },
   "outputs": [],
   "source": [
    "g = nx.DiGraph()\n",
    "g.add_edge('A','B')\n",
    "g.add_edge('A','C')"
   ]
  },
  {
   "cell_type": "markdown",
   "metadata": {},
   "source": [
    "We could have explicitly added nodes with code like `g.add_node('A')`, but since every node is connected to at least one edge in this case, networkx automatically adds the nodes for us when the edges are added. \n",
    "\n",
    "Remember you can look at networkx method documentation with `?` or `help()`. Have a look at the documentation for the `add_edge` method."
   ]
  },
  {
   "cell_type": "code",
   "execution_count": null,
   "metadata": {
    "tags": []
   },
   "outputs": [],
   "source": [
    "g.nodes()"
   ]
  },
  {
   "cell_type": "code",
   "execution_count": null,
   "metadata": {
    "tags": []
   },
   "outputs": [],
   "source": [
    "g.edges()"
   ]
  },
  {
   "cell_type": "markdown",
   "metadata": {},
   "source": [
    "Here's a way to draw the graph with a spring layout, where networkx will try to place nodes so they are not too close together. This is a simple layout algorithm - it's easy to see the result for this tiny graph, but may be difficult see for graphs of any size. The layout is somewhat random and for larger graphs, will be different every time you draw it."
   ]
  },
  {
   "cell_type": "code",
   "execution_count": null,
   "metadata": {
    "tags": []
   },
   "outputs": [],
   "source": [
    "nx.draw_spring(g, with_labels=True)"
   ]
  },
  {
   "cell_type": "code",
   "execution_count": null,
   "metadata": {
    "tags": []
   },
   "outputs": [],
   "source": [
    "nx.draw_spring(g, with_labels=True, node_size=1200, node_color='#eeeeff', edge_color='red')"
   ]
  },
  {
   "cell_type": "markdown",
   "metadata": {},
   "source": [
    "## Exercise 3: Get Suffixes and Prefixes from kmers"
   ]
  },
  {
   "cell_type": "markdown",
   "metadata": {},
   "source": [
    "<div style=\"color: rgb(27,94,32); background: rgb(200,230,201); border: solid 1px rgb(129,199,132); padding: 10px;\">\n",
    "<b>Challenge:</b> Write functions `get_suffix()` and `get_prefix()` which just return the `k-1`-length strings which are, respectively the suffix and prefix of the supplied k-mer.\n",
    "    \n",
    "- [ ] Input: kmer (str)\n",
    "- [ ] Prefix = first k-1 characters\n",
    "- [ ] Suffix = last k-1 characters\n",
    "- [ ] Return: substring corresponding to prefix or suffix\n",
    "</div>"
   ]
  },
  {
   "cell_type": "code",
   "execution_count": null,
   "metadata": {
    "nbgrader": {
     "grade": false,
     "grade_id": "E3a",
     "locked": false,
     "schema_version": 3,
     "solution": true,
     "task": false
    },
    "tags": []
   },
   "outputs": [],
   "source": [
    "def get_prefix(kmer):\n",
    "    ### BEGIN SOLUTION   \n",
    "    return kmer[:-1]\n",
    "    ### END SOLUTION\n"
   ]
  },
  {
   "cell_type": "code",
   "execution_count": null,
   "metadata": {
    "nbgrader": {
     "grade": false,
     "grade_id": "E3b",
     "locked": false,
     "schema_version": 3,
     "solution": true,
     "task": false
    },
    "tags": []
   },
   "outputs": [],
   "source": [
    "def get_suffix(kmer):\n",
    "    ### BEGIN SOLUTION\n",
    "    return kmer[1:]\n",
    "    ### END SOLUTION"
   ]
  },
  {
   "cell_type": "markdown",
   "metadata": {},
   "source": [
    "Let's test out those functions. \n",
    "\n",
    "We'll use the string AGGTA and try to extract the suffix A**GGTA** and the prefix **AGGT**A"
   ]
  },
  {
   "cell_type": "code",
   "execution_count": null,
   "metadata": {
    "tags": []
   },
   "outputs": [],
   "source": [
    "# Should return 'GGTA'\n",
    "get_suffix('AGGTA')"
   ]
  },
  {
   "cell_type": "code",
   "execution_count": null,
   "metadata": {
    "tags": []
   },
   "outputs": [],
   "source": [
    "# Should return 'AGGT'\n",
    "get_prefix('AGGTA')"
   ]
  },
  {
   "cell_type": "markdown",
   "metadata": {},
   "source": [
    "## Exercise 4: Build a Directed Graph"
   ]
  },
  {
   "cell_type": "markdown",
   "metadata": {},
   "source": [
    "<div style=\"color: rgb(27,94,32); background: rgb(200,230,201); border: solid 1px rgb(129,199,132); padding: 10px;\">\n",
    "  \n",
    "<b>Challenge:</b> Given a set of reads and a value k, build a directed graph, using networkx, where nodes are the prefixes/suffixes of kmers and an edge exists for every kmer.\n",
    "\n",
    "When adding an edge between a prefix and suffix node we will also add the full kmer as an edge label.\n",
    "\n",
    "- [ ] Input: Reads (list of str), k (int)\n",
    "- [ ] Init diGraph\n",
    "- [ ] Extract all kmers\n",
    "- [ ] For each kmer add edge from prefix to suffix\n",
    "- [ ] Label edge with kmer name\n",
    "- [ ] Return: populated graph\n",
    "\n",
    "Hint: To label an edge: `graph.add_edge(from_node, to_node, label=\"the_label\")`\n",
    "</div>\n"
   ]
  },
  {
   "cell_type": "code",
   "execution_count": null,
   "metadata": {
    "nbgrader": {
     "grade": false,
     "grade_id": "cell-bde817fecdf6b350",
     "locked": false,
     "schema_version": 3,
     "solution": true,
     "task": false
    },
    "tags": []
   },
   "outputs": [],
   "source": [
    "def build_graph(reads, k):\n",
    "    '''\n",
    "    Given a set of reads and a value k, return the networkx de Bruijn graph object.\n",
    "    '''\n",
    "    \n",
    "    kmers = get_kmers(reads, k)\n",
    "    graph = nx.DiGraph()\n",
    "    \n",
    "    # Complete this function\n",
    "\n",
    "    ### BEGIN SOLUTION    \n",
    "    for kmer in kmers:\n",
    "        prefix = get_prefix(kmer)\n",
    "        suffix = get_suffix(kmer)\n",
    "        graph.add_edge(prefix, suffix, label=kmer)\n",
    "\n",
    "    return graph\n",
    "    ### END SOLUTION\n"
   ]
  },
  {
   "cell_type": "markdown",
   "metadata": {},
   "source": [
    "Let's build graphs for our test data and inspect them with the plotting function below."
   ]
  },
  {
   "cell_type": "code",
   "execution_count": null,
   "metadata": {
    "tags": []
   },
   "outputs": [],
   "source": [
    "# helper func to render\n",
    "def draw_debruijn(graph):\n",
    "    fig = plt.figure(1, figsize=(16, 8), dpi=60)\n",
    "    pos = nx.spring_layout(graph, seed=2, k=0.1, iterations=50)\n",
    "    nx.draw_networkx_nodes(graph, pos, node_color='white', node_size=1000, edgecolors='black', linewidths=1)\n",
    "    nx.draw_networkx_edges(graph, pos, width=1, arrows=True, arrowstyle='-|>', arrowsize=12, min_target_margin=22)\n",
    "    nx.draw_networkx_labels(graph, pos, font_size=12, font_family=\"sans-serif\")\n",
    "    nx.draw_networkx_edge_labels(\n",
    "        graph, pos, font_color='red', font_size=12, label_pos=0.6,\n",
    "        edge_labels={e: graph.edges[e]['label'] for e in graph.edges}\n",
    "    )\n",
    "    plt.tight_layout()\n",
    "    plt.show()"
   ]
  },
  {
   "cell_type": "code",
   "execution_count": null,
   "metadata": {
    "scrolled": true
   },
   "outputs": [],
   "source": [
    "# Testing your build_graph() function\n",
    "\n",
    "# build it\n",
    "yoda_graph = build_graph(yoda_reads, 4)\n",
    "\n",
    "# render it\n",
    "draw_debruijn(yoda_graph)"
   ]
  },
  {
   "cell_type": "markdown",
   "metadata": {
    "nbgrader": {
     "grade": false,
     "grade_id": "Q1",
     "locked": true,
     "points": 1,
     "schema_version": 3,
     "solution": false,
     "task": true
    }
   },
   "source": [
    "<div class=\"alert alert-info\">\n",
    "<b>Question 1:</b> What has caused the bubble in this graph?\n",
    "</div>\n",
    "\n",
    "=== BEGIN MARK SCHEME ===\n",
    "\n",
    "There is a typo in the word \"matters\" as \"matners\". \n",
    "\n",
    "For 4=4 this affects kmer matn/matt to ters/ners. \n",
    "\n",
    "The prefix \"mat\" can now be followed by \"atn\" or \"att\".\n",
    "\n",
    "=== END MARK SCHEME ==="
   ]
  },
  {
   "cell_type": "markdown",
   "metadata": {},
   "source": [
    "<span style=\"color:rgb(17, 122, 121); font-family:Courier\"><i><b># -- GRADED CELL (1 marks) - complete this cell --</b></i></span>\n",
    "\n",
    "YOUR ANSWER HERE"
   ]
  },
  {
   "cell_type": "markdown",
   "metadata": {
    "nbgrader": {
     "grade": false,
     "grade_id": "Q2",
     "locked": true,
     "points": 1,
     "schema_version": 3,
     "solution": false,
     "task": true
    }
   },
   "source": [
    "<div class=\"alert alert-info\">\n",
    "<b>Question 2:</b> How many kmers will be affected by a single error in a sequencing read?\n",
    "</div>\n",
    "\n",
    "=== BEGIN MARK SCHEME ===\n",
    "K kmers will contain the error\n",
    "=== END MARK SCHEME ==="
   ]
  },
  {
   "cell_type": "markdown",
   "metadata": {},
   "source": [
    "<span style=\"color:rgb(17, 122, 121); font-family:Courier\"><i><b># -- GRADED CELL (1 marks) - complete this cell --</b></i></span>\n",
    "\n",
    "YOUR ANSWER HERE"
   ]
  },
  {
   "cell_type": "markdown",
   "metadata": {},
   "source": [
    "# Section 2 : Extract Contigs From de Bruijn Graph"
   ]
  },
  {
   "cell_type": "markdown",
   "metadata": {},
   "source": [
    "<div style=\"color: rgb(27,94,32); background: rgb(200,230,201); border: solid 1px rgb(129,199,132); padding: 10px;\">\n",
    "\n",
    "<b>Challenge:</b> Try to extract contigs from your graph as described in lectures. To extract a contig, we need to find an unbalanced node (or breakpoint), then walk along the directed graph only so long as our path is unambiguous.<br>\n",
    "    \n",
    "We will do this in 3 steps:\n",
    "- Identify nodes that correspond to break points in the graph (ambiguous path, start, or end).\n",
    "- Identify all the potential contig start points.\n",
    "- Extending contigs from start points to break points.\n",
    "\n",
    "</div>\n",
    "\n"
   ]
  },
  {
   "cell_type": "markdown",
   "metadata": {},
   "source": [
    "**Finding Unbalanced nodes** \n",
    "\n",
    "You can find the in-degree and out-degree of nodes (number of edges leading in and out), and the edges themselves, with networkx methods like so:"
   ]
  },
  {
   "cell_type": "code",
   "execution_count": null,
   "metadata": {},
   "outputs": [],
   "source": [
    "# Build a sample graph\n",
    "g = nx.DiGraph()\n",
    "g.add_edge('A','B')\n",
    "g.add_edge('A','C')\n",
    "g.add_edge('Z','A')"
   ]
  },
  {
   "cell_type": "code",
   "execution_count": null,
   "metadata": {},
   "outputs": [],
   "source": [
    "# Count inbound edges of node A\n",
    "g.in_degree('A')"
   ]
  },
  {
   "cell_type": "code",
   "execution_count": null,
   "metadata": {},
   "outputs": [],
   "source": [
    "# Count outbound edges of node A\n",
    "g.out_degree('A')"
   ]
  },
  {
   "cell_type": "code",
   "execution_count": null,
   "metadata": {},
   "outputs": [],
   "source": [
    "# List outgoing edges of node A\n",
    "g.out_edges('A')"
   ]
  },
  {
   "cell_type": "code",
   "execution_count": null,
   "metadata": {},
   "outputs": [],
   "source": [
    "# Get a list of children of A\n",
    "# Here we extract the 2nd item from each outgoing edge tuple \n",
    "[x[1] for x in g.out_edges('A')]"
   ]
  },
  {
   "cell_type": "code",
   "execution_count": null,
   "metadata": {},
   "outputs": [],
   "source": [
    "# Alternative method to find the downstream neighbours of node A\n",
    "g.neighbors('A')"
   ]
  },
  {
   "cell_type": "markdown",
   "metadata": {},
   "source": [
    "To get a list of all nodes in the graph we can use the `.nodes()` method."
   ]
  },
  {
   "cell_type": "code",
   "execution_count": null,
   "metadata": {
    "scrolled": true
   },
   "outputs": [],
   "source": [
    "# Get all nodes \n",
    "list(g.nodes())"
   ]
  },
  {
   "cell_type": "markdown",
   "metadata": {},
   "source": [
    "## Exercise 5: Find break points"
   ]
  },
  {
   "cell_type": "markdown",
   "metadata": {},
   "source": [
    "\n",
    "<div style=\"color: rgb(27,94,32); background: rgb(200,230,201); border: solid 1px rgb(129,199,132); padding: 10px;\">\n",
    "   \n",
    "To extract contigs from the graph we must first identify branch points or termini in the graph.\n",
    "    \n",
    "To do this we will check for unbalanced nodes (in_degree ≠ out_degree) and for balanced nodes where the in/out degrees are > 1.\n",
    "\n",
    "**Challange:** Write a function that returns a list of nodes corresponding to a breakpoint in the graph\n",
    "    \n",
    "- [ ] Input: diGraph object\n",
    "- [ ] Get list of all nodes\n",
    "- [ ] Check if node is unbalanced\n",
    "- [ ] Check if balanced but degree > 1\n",
    "- [ ] Return: List of break points\n",
    "</div>\n"
   ]
  },
  {
   "cell_type": "code",
   "execution_count": null,
   "metadata": {
    "nbgrader": {
     "grade": false,
     "grade_id": "E5",
     "locked": false,
     "schema_version": 3,
     "solution": true,
     "task": false
    }
   },
   "outputs": [],
   "source": [
    "def get_breaks(graph):\n",
    "    \n",
    "    # Get a list of all nodes in graph\n",
    "    nodes = list(graph.nodes())\n",
    "    # Create empty list to store unbalanced nodes\n",
    "    break_nodes = []  \n",
    "    \n",
    "    ### BEGIN SOLUTION\n",
    "     \n",
    "    for node in nodes:\n",
    "        # Check the in and out degrees for the current node\n",
    "        ins = graph.in_degree(node)\n",
    "        outs = graph.out_degree(node)\n",
    "        # If unbalanced add to list\n",
    "        if ins != outs:\n",
    "            break_nodes.append(node)\n",
    "        # If balanced BUT in/out degree > 1, add to list.\n",
    "        elif ins > 1:\n",
    "            break_nodes.append(node)\n",
    "    ### END SOLUTION\n",
    "    \n",
    "    return break_nodes\n"
   ]
  },
  {
   "cell_type": "code",
   "execution_count": null,
   "metadata": {},
   "outputs": [],
   "source": [
    "# Test your function\n",
    "# Where are these nodes in the graph?\n",
    "get_breaks(yoda_graph)"
   ]
  },
  {
   "cell_type": "markdown",
   "metadata": {},
   "source": [
    "## Exercise 6: Get contig start nodes"
   ]
  },
  {
   "cell_type": "markdown",
   "metadata": {},
   "source": [
    "<div style=\"color: rgb(27,94,32); background: rgb(200,230,201); border: solid 1px rgb(129,199,132); padding: 10px;\">\n",
    "\n",
    "Now we will identify unbalanced and branch-point nodes which correspond to contig starts. <br>\n",
    "    \n",
    "<b>Challenge:</b> Write a function that takes as input a graph and a list of unbalanced nodes, and returns a list of nodes that correspond to contig starts.\n",
    "\n",
    "    \n",
    "<b>Hint:</b> Consider the first and last nodes in a graph, are these both unbalanced? Should these both be contig starts? \n",
    "    \n",
    "- [ ] Input: graph, list of break-point nodes\n",
    "- [ ] For each break-point node assess whether is should be a contig start\n",
    "- [ ] Return: List of start nodes\n",
    "</div>"
   ]
  },
  {
   "cell_type": "code",
   "execution_count": null,
   "metadata": {
    "nbgrader": {
     "grade": false,
     "grade_id": "E6",
     "locked": false,
     "schema_version": 3,
     "solution": true,
     "task": false
    }
   },
   "outputs": [],
   "source": [
    "def get_contig_starts(graph, break_nodes):\n",
    "    \n",
    "    contig_starts = []\n",
    "    \n",
    "    ### BEGIN SOLUTION\n",
    "    for node in break_nodes:\n",
    "        in_degree = graph.in_degree(node)\n",
    "        out_degree = graph.out_degree(node)\n",
    "        \n",
    "        # If unbalanced node only has outbound node\n",
    "        # Then it is a start node\n",
    "        if in_degree == 0:\n",
    "            contig_starts.append(node)\n",
    "        \n",
    "        # If internal node has > 1 child, \n",
    "        # Each child becomes a start node\n",
    "        elif out_degree > 1:\n",
    "            children = list(graph.neighbors(node))\n",
    "            contig_starts += children\n",
    "        \n",
    "        # If node has multiple parents but only one child\n",
    "        # node becomes a start node\n",
    "        # This excludes nodes with 0 children at graph termini\n",
    "        elif in_degree > out_degree and out_degree > 0:\n",
    "            contig_starts.append(node)\n",
    "    ### END SOLUTION\n",
    "    \n",
    "    return contig_starts"
   ]
  },
  {
   "cell_type": "code",
   "execution_count": null,
   "metadata": {},
   "outputs": [],
   "source": [
    "yoda_breaks = get_breaks(yoda_graph)\n",
    "\n",
    "yoda_starts = get_contig_starts(yoda_graph, yoda_breaks)\n",
    "\n",
    "print(yoda_starts)"
   ]
  },
  {
   "cell_type": "markdown",
   "metadata": {},
   "source": [
    "## Exercise 7: Extract a contig"
   ]
  },
  {
   "cell_type": "markdown",
   "metadata": {},
   "source": [
    "<div style=\"color: rgb(27,94,32); background: rgb(200,230,201); border: solid 1px rgb(129,199,132); padding: 10px;\">\n",
    "Get the full contig seqences from starting nodes to end nodes.\n",
    "\n",
    "**Challange:** Return extended contig sequence, given a starting node.\n",
    "\n",
    "<b>Challenge:</b> \n",
    "- [ ] Input: graph, start node, list of all start nodes\n",
    "- [ ] Init contig with prefix from start node\n",
    "- [ ] Move to next node\n",
    "- [ ] Append final character from the new node to the contig\n",
    "- [ ] End if node had no children OR next node is in contig starts list\n",
    "- [ ] Return: Contig (str)\n",
    "</div>\n"
   ]
  },
  {
   "cell_type": "code",
   "execution_count": null,
   "metadata": {
    "nbgrader": {
     "grade": false,
     "grade_id": "E7",
     "locked": false,
     "schema_version": 3,
     "solution": true,
     "task": false
    }
   },
   "outputs": [],
   "source": [
    "def get_contig(graph, starting_node, contig_starts):\n",
    "    \n",
    "    ### BEGIN SOLUTION\n",
    "    \n",
    "    contig = ''\n",
    "    contig += starting_node\n",
    "    node = starting_node\n",
    "    \n",
    "    # List of children of current node\n",
    "    next_nodes = [x for x in graph.neighbors(node)]\n",
    "    \n",
    "    # While only one child node and that node is not a contig start\n",
    "    while len(next_nodes) == 1 and next_nodes[0] not in contig_starts:\n",
    "        # update current node\n",
    "        node = next_nodes[0]\n",
    "        # Add last character of current node to contig string\n",
    "        contig += node[-1]\n",
    "        # Get children of current node\n",
    "        next_nodes = [x for x in graph.neighbors(node)]\n",
    "    \n",
    "    ### END SOLUTION\n",
    "    \n",
    "    return contig"
   ]
  },
  {
   "cell_type": "code",
   "execution_count": null,
   "metadata": {},
   "outputs": [],
   "source": [
    "# Get contig starting with 'atn'\n",
    "get_contig(yoda_graph, 'atn', yoda_starts)"
   ]
  },
  {
   "cell_type": "code",
   "execution_count": null,
   "metadata": {
    "scrolled": true
   },
   "outputs": [],
   "source": [
    "# Get contig starting with 'siz'\n",
    "get_contig(yoda_graph, 'siz', yoda_starts)"
   ]
  },
  {
   "cell_type": "markdown",
   "metadata": {},
   "source": [
    "## Exercise 8 : Bring it all together!"
   ]
  },
  {
   "cell_type": "markdown",
   "metadata": {},
   "source": [
    "Now let's tie it all together!"
   ]
  },
  {
   "cell_type": "code",
   "execution_count": null,
   "metadata": {},
   "outputs": [],
   "source": [
    "def print_contigs(contigs):\n",
    "    for contig in contigs:\n",
    "        print(contig)"
   ]
  },
  {
   "cell_type": "code",
   "execution_count": null,
   "metadata": {},
   "outputs": [],
   "source": [
    "def extract_contigs(graph):\n",
    "    breakpoint_nodes = get_breaks(graph)\n",
    "    contig_starts = get_contig_starts(graph, breakpoint_nodes)\n",
    "    \n",
    "    contigs = []\n",
    "    for starting_node in contig_starts:\n",
    "        contig = get_contig(graph, starting_node, contig_starts)\n",
    "        contigs.append(contig)\n",
    "    \n",
    "    print_contigs(contigs)\n",
    "    return contigs"
   ]
  },
  {
   "cell_type": "code",
   "execution_count": null,
   "metadata": {},
   "outputs": [],
   "source": [
    "contigs = extract_contigs(yoda_graph)"
   ]
  },
  {
   "cell_type": "code",
   "execution_count": null,
   "metadata": {},
   "outputs": [],
   "source": [
    "# Let's look at the graph again to see if our contigs match expected break-points in the graph.\n",
    "nx.draw_spring(yoda_graph, with_labels=True, node_size=1200, node_color='#eeeeff', edge_color='red')"
   ]
  }
 ],
 "metadata": {
  "celltoolbar": "Create Assignment",
  "kernelspec": {
   "display_name": "Python 3 (ipykernel)",
   "language": "python",
   "name": "python3"
  },
  "language_info": {
   "codemirror_mode": {
    "name": "ipython",
    "version": 3
   },
   "file_extension": ".py",
   "mimetype": "text/x-python",
   "name": "python",
   "nbconvert_exporter": "python",
   "pygments_lexer": "ipython3",
   "version": "3.11.4"
  }
 },
 "nbformat": 4,
 "nbformat_minor": 4
}
