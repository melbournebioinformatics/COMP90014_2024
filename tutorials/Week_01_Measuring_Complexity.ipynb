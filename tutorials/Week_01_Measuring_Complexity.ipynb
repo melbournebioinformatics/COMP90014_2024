{
 "cells": [
  {
   "cell_type": "markdown",
   "metadata": {
    "nbgrader": {
     "grade": false,
     "grade_id": "cell-14272392f0f2605b",
     "locked": true,
     "schema_version": 3,
     "solution": false,
     "task": false
    }
   },
   "source": [
    "# Week 1 - Measuring Complexity"
   ]
  },
  {
   "cell_type": "markdown",
   "metadata": {},
   "source": [
    "**Aims**\n",
    "\n",
    "The aims of this workshop are to\n",
    "- Ensure everyone is using a consistent OS, python environment, and IDE.\n",
    "- Get comfortable with writing & running cells in Jupyter notebooks \n",
    "- Explore sorting algorithms and measure their runtime complexity. \n",
    "\n",
    "**Important Checklist for Today**\n",
    "\n",
    "<input type=\"checkbox\" checked> I can open this .ipynb file. <br>\n",
    "<input type=\"checkbox\"> I have installed WSL (if my operating system is Windows). <br>\n",
    "<input type=\"checkbox\"> I have installed VSC & added recommended extensions (optional). <br>\n",
    "<input type=\"checkbox\"> I have installed Jupyter Lab. <br>\n",
    "<input type=\"checkbox\"> I have installed python3. <br>\n",
    "<input type=\"checkbox\"> I understand how to manage python packages using venv + pip. <br>\n"
   ]
  },
  {
   "cell_type": "markdown",
   "metadata": {},
   "source": [
    "## Introduction\n",
    "\n",
    "**Jupyter**\n",
    "\n",
    "We will be using <span style=\"color:lightseagreen\">Jupyter notebooks</span> (.ipynb files) for programming tasks in workshops and assignments.<br>\n",
    "We recommend [Jupyter Lab](https://jupyter.org/install) and [Visual Studio Code (VSC)](https://code.visualstudio.com/) for working with Jupyter notebooks in this subject.  <br>\n",
    "These are both known as 'Integrated Development Environments (IDEs)'.\n",
    "\n",
    "If you <u>*really*</u> can't run notebooks locally you can use [Google Colab](https://colab.research.google.com) or [Jupyter Online](https://jupyter.org/try). <br>\n",
    "If using Jupyter Online, your work will not be autosaved online, so you must periodically download your updated .ipynb file.\n",
    "\n",
    "\n",
    "**Jupyter Notebooks**\n",
    "\n",
    "Jupyter notebooks provide an interactive experience. <br>\n",
    "Formerly known as IPython notebooks, these have the .ipynb extension (\"<u>I</u>nteractive <u>PY</u>thon <u>N</u>ote<u>B</u>ooks\"). <br>\n",
    "Jupyter notebooks allow you to merge code with text in the form of markdown. <br>\n",
    "This means that documents don't need to be static. Users can interact with notebooks, change code, play with interactive figures, and lots more.\n",
    "\n",
    "Many different tools provide support Jupyter notebooks. \n",
    "- Popular IDEs (VSC, JetBrains etc)\n",
    "- Google Colab\n",
    "- The web-based [JupyterLab](https://jupyterlab.readthedocs.io/en/latest/) and [Jupyter Notebook](https://jupyter-notebook.readthedocs.io/en/latest/) software\n",
    "\n",
    "> \n",
    "> **Note**\n",
    "> \n",
    "> 'Jupyter notebook' can refer to two different things: \n",
    "> 1. The <u>actual .ipynb files</u> like those used in this subject. \n",
    "> 2. The <u>web application</u> for creating and sharing .ipynb documents.  \n",
    "> <br>\n",
    "\n",
    "**Completing Tutorials**\n",
    "\n",
    "During tutorials you may use any IDE which supports .ipynb files. \n",
    "\n",
    "In COMP90014 we recommend the following.\n",
    "- [Visual Studio Code (VSC)](https://code.visualstudio.com/)\n",
    "- [JupyterLab](https://jupyter.org/)\n",
    "\n",
    "Only use an alternative if you really know what you're doing. <br>\n",
    "We will only provide instructions / assistance for JupyterLab and VSC. \n",
    "\n",
    "**Completing Assignments**\n",
    "\n",
    "For assignment <span style=\"color:lightseagreen\">*submission*</span> you <u>***must use***</u> Jupyter Lab. <br>\n",
    "You may use the Jupyter Notebook software as an alternative, but will have to troubleshoot problems yourself.  <br>\n",
    "JupyterLab/Jupyter Notebook is required because our autograding software is built on jupyter, and other software (Colab, VSC etc) may corrupt the expected format. \n",
    "\n",
    "\n",
    "For assignment <span style=\"color:lightseagreen\">*development*</span> you <u>***may use***</u> anything you like. <br>\n",
    "In fact, an IDE such as VSC is recommended as provides useful features, such as debugging tools. "
   ]
  },
  {
   "cell_type": "markdown",
   "metadata": {},
   "source": [
    "## Operating System Setup\n",
    "\n",
    "***Linux or Mac*** must be used as operating system in this subject. <br>If you already have either of these, <span style=\"color:lightseagreen\">skip this section.</span> \n",
    "\n",
    "If you have a windows PC, fear not! <br>\n",
    "Linux can be run on windows via the *Windows Subsystem for Linux (WSL)* utility.\n",
    "\n",
    "**Installing Linux via WSL (Windows only)**\n",
    "\n",
    "*Install WSL*\n",
    "1. Open PowerShell or Windows Command Prompt in administrator mode by right-clicking and selecting \"Run as administrator\"\n",
    "2. Enter the <small>`wsl --install`</small> command\n",
    "3. Restart your machine\n",
    "4. Open PowerShell or Windows Command Prompt and enter <small>`wsl -l -v`</small> to check that the Ubuntu VERSION == 2.\n",
    "\n",
    "*Configure your Linux Distribution*\n",
    "1. Open 'Ubuntu' using the start menu\n",
    "    - WSL installs the Ubuntu Linux Distribution by default. \n",
    "    - On first open, Ubuntu will install & configure itself.\n",
    "2. Create a username and password\n",
    "    - This serves the same purpose as user/password on your windows OS. \n",
    "    - Details can be different from windows login. \n",
    "3. Update the Ubuntu package manager\n",
    "    - Ubuntu uses the <small>`apt`</small> package manager. \n",
    "    - Package managers allow you to install software on your Ubuntu machine.\n",
    "    - Think of <small>`apt`</small> as the Linux equivalent of the Microsoft Store.\n",
    "    - The <small>`apt`</small> package manager needs to be periodically updated so it's aware of currently available software & versions. \n",
    "    - Run the <small>`sudo apt update && sudo apt upgrade`</small> command to update <small>`apt`</small>. \n",
    "\n",
    "*Having Issues?*\n",
    "- See the guide at https://learn.microsoft.com/en-us/windows/wsl/troubleshooting\n",
    "- Talk with one of the teaching team. \n",
    "\n",
    "<br>"
   ]
  },
  {
   "cell_type": "markdown",
   "metadata": {},
   "source": [
    "\n",
    "## Installing Visual Studio Code (and adding extensions)\n",
    "\n",
    "**Installing VSC**\n",
    "\n",
    "We recommend Visual Studio Code (VSC) in this subject as it is lightweight and has rich support for extensions to add functionality. <br>\n",
    "Download Visual Studio Code for your system from [here](https://code.visualstudio.com/download) and follow the instructions for:\n",
    "- [macOS](https://code.visualstudio.com/docs/setup/mac)\n",
    "- [Linux](https://code.visualstudio.com/docs/setup/linux)\n",
    "- [Windows](https://code.visualstudio.com/docs/setup/windows)\n",
    "\n",
    "Once installed:\n",
    "1. Open VS Code\n",
    "2. Open a workspace by clicking 'Open Folder' in the 'Explorer' tab (top item of left navbar).\n",
    "3. Copy this .ipynb document to your workspace and open it. \n",
    "\n",
    "**Starting VSC on Windows PCs**\n",
    "\n",
    "If running Linux via WSL, connect VSC to your Linux distribution each time it is opened. \n",
    "1. Click the 'Open a remote window' button (bottom left corner)\n",
    "2. Select 'Connect to WSL' \n",
    "\n",
    "<br>\n",
    "\n",
    "<img src=\"https://raw.githubusercontent.com/melbournebioinformatics/COMP90014_2024/master/tutorials/media/vsc_wsl.gif\" width=\"800\">\n",
    "\n",
    "\n",
    "**Adding Extensions**\n",
    "\n",
    "Out of the box, VSC doesn't have much functionality. It's intended to be configured by the user to tailor VSC based on their needs.  \n",
    "\n",
    "In our case, we will use VSC to:\n",
    "- Develop python code\n",
    "- Author and run .ipynb files \n",
    "\n",
    "To add this functionality to VSC we will install some *extensions.*<br>\n",
    "Extensions add features & support to your VSC. \n",
    "\n",
    "Add the following extensions (or confirm they are already installed):\n",
    "- Python\n",
    "- Jupyter\n",
    "- Jupyter Keymap\n",
    "- Jupyter Notebook Renderers\n",
    "\n",
    "<br>\n",
    "\n",
    "<img src=\"https://raw.githubusercontent.com/melbournebioinformatics/COMP90014_2024/master/tutorials/media/vsc_extensions.gif\" width=\"200\">\n"
   ]
  },
  {
   "cell_type": "markdown",
   "metadata": {},
   "source": [
    "## Installing Python\n",
    "\n",
    "Python v3.10 or above is required for this subject. "
   ]
  },
  {
   "cell_type": "markdown",
   "metadata": {},
   "source": [
    "\n",
    "**Which python are you using?**\n",
    "\n",
    "> **Note**<br>\n",
    "> Any command line code in COMP90014 assumes the Bash shell is being used on Ubuntu. <br>\n",
    "> If using other shell programs and/or other operating systems your commands may be different. <br>\n",
    "> For example, if using zsh on macOS, <small>`whence -p python`</small> should be used rather than <small>`which python`</small>. \n",
    "\n",
    "Follow the instructions below to check your python installation. \n",
    "\n",
    "<div style=\"font-size: 16px\">\n",
    "\n",
    "(Bash Shell)\n",
    "> ```Bash\n",
    "> # check python binary path \n",
    "> which python \n",
    "> > /usr/bin/python\n",
    ">\n",
    "> # check python version \n",
    "> python -V \n",
    "> > Python 3.11.5\n",
    "> ```\n",
    "\n",
    "</div>\n",
    "\n",
    "The code above assumes that python is installed and your system knows where 'python' is. <br>\n",
    "If the expected output did not appear, check whether your system knows about 'python3' instead. \n",
    "\n",
    "<div style=\"font-size: 16px\">\n",
    "\n",
    "(Bash Shell)\n",
    "> ```Bash\n",
    "> # check python binary path \n",
    "> which python3\n",
    "> > /usr/bin/python\n",
    ">\n",
    "> # check python version \n",
    "> python3 -V \n",
    "> > Python 3.11.5\n",
    "> ```\n",
    "\n",
    "</div>\n",
    "\n",
    "If this worked, feel free to use <small>`python3`</small> instead of <small>`python`</small> going forward, or create an alias for python->python3. <br>\n",
    "In the example above, the same output is printed because <small>`python3`</small> is aliased to <small>`python`</small> on my system. \n",
    "\n",
    "> **Note**<br>\n",
    "> Make sure you're using your system python, not a version of python managed by tools like conda. <br>\n",
    "> The <small>`which python`</small> command should returns a path similar to <small>`/usr/bin/python`</small>. <br>\n",
    "> If instead the path contains 'miniconda' or 'conda' in it, disable conda profile autoactivation. <br>\n",
    "> Using a shell (Bash for ubuntu, zsh/terminal for mac), enter the following command: <small>`conda config --set auto_activate_base false`</small>.<br>\n",
    "> Restart VSC then check python version again to confirm the change. <br><br>\n"
   ]
  },
  {
   "cell_type": "markdown",
   "metadata": {},
   "source": [
    "\n",
    "**Installing latest Python**\n",
    "\n",
    "If you do not have python v3.10+ installed, you will need to do so. \n",
    "If running MacOS / Linux, the latest python version can be installed [here.](https://www.python.org/downloads/)<br>\n",
    "If running Ubuntu Linux via WSL, open Ubuntu, then follow these command line instructions:\n",
    "\n",
    "<div style=\"font-size: 16px\">\n",
    "\n",
    "(Bash Shell)\n",
    "> ```Bash\n",
    "> # update package manager \n",
    "> sudo apt update\n",
    "> \n",
    "> # install python \n",
    "> sudo apt install python3\n",
    ">\n",
    "> # verify installation\n",
    "> python3 -V\n",
    "> ```\n",
    "\n",
    "</div>\n",
    "\n"
   ]
  },
  {
   "cell_type": "markdown",
   "metadata": {},
   "source": [
    "\n",
    "## Managing python environments with pip + venv\n",
    "\n",
    "Proper management of your python environment is pivotal as a software engineer. <br>\n",
    "We will put this into practise in COMP90014. \n",
    "\n",
    "> **Note**<br>\n",
    "> Use of Conda (anaconda/miniconda/mamba etc) is strongly discouraged in this subject. <br> \n",
    "> If you have Conda installed, we advise you turn off auto-activation of the base environment. <br>\n",
    "> Using a shell (Bash for ubuntu, zsh/terminal for mac), enter the following command: <small>`conda config --set auto_activate_base false`</small>. <br>\n",
    "> <br>\n"
   ]
  },
  {
   "cell_type": "markdown",
   "metadata": {},
   "source": [
    "\n",
    "**What are environments and why do we care?**\n",
    "\n",
    "When a python programmer has multiple ongoing projects, package conflicts will eventually emerge. <br>\n",
    "This is because different python projects require different python libraries & versions. <br>\n",
    "In other words, each project has a unique python ***environment*** it needs to function. <br>\n",
    "\n",
    "If our COMP90014 programmer has a single python environment (the system python environment), conflicts will quickly emerge. <br>\n",
    "\n",
    "Take the following example:\n",
    "- Week 1 tutorial requires <small>`numpy v1.26.1`</small>\n",
    "- Week 2 tutorial requires <small>`numpy v2.0.0+`</small>\n",
    "\n",
    "The python package manager, [Pip](https://pip.pypa.io/en/stable/getting-started/), can't install two versions of the same package in a single environment at the same time. <br>\n",
    "Pip will have to uninstall one version to install the other. <br>\n",
    "The result is that your system python environment can ***run either*** the week 1 tutorial code, **or** the week 2 tutorial code, but never both.  \n",
    " \n",
    "This is a straightforward example. Environment conflicts can be truly harrowing in extreme cases. \n",
    "\n",
    "\n"
   ]
  },
  {
   "cell_type": "markdown",
   "metadata": {},
   "source": [
    "**Proper python environment management**\n",
    "\n",
    "In practise, the system python environment should never be used to actually run any python code (except for quick commands etc). \n",
    "\n",
    "Instead, each python project you're working on should have it's own environment. <br>\n",
    "This prevents odd bugs and helps minimise package conflicts. \n",
    "\n",
    "Each time you start working on a tutorial or assignment in COMP90014, do the following:\n",
    "1. Create a directory to work in. \n",
    "2. Change to that directory.\n",
    "3. Create a python environment. \n",
    "\n",
    "Using a shell (Bash for ubuntu, zsh/terminal for mac), follow the instructions below. \n",
    "\n",
    "<div style=\"font-size: 16px\">\n",
    "\n",
    "(Bash Shell)\n",
    "> ```Bash\n",
    "> \n",
    "> # navigate to the folder you will work in (example below, this can be wherever you like)\n",
    "> cd COMP90014/tutorials/week1\n",
    "> \n",
    "> # check your python is correct\n",
    "> which python \n",
    "> > /usr/bin/python\n",
    "> python -V \n",
    "> > Python 3.11.5\n",
    ">\n",
    "> # use the venv module to create a virtualenv. \n",
    "> # calling `python -m venv` runs the venv module, and the final 'venv' specifies the name of the environment\n",
    "> python -m venv venv\n",
    "> \n",
    "> # activate the environment to begin working \n",
    "> # note: only activates in your current shell. if using VSC / Jupyter Lab, ensure you select it as the 'kernel'.\n",
    "> source venv/bin/activate \n",
    "> \n",
    "> # check the environment is clean (should only list pip and setuptools)\n",
    "> pip list \n",
    "> \n",
    "> # Install the 'jupyter' package using pip. This is needed to run code in .ipynb files. \n",
    "> pip install jupyter\n",
    ">\n",
    "> # Install the 'matplotlib' package using pip. \n",
    "> pip install matplotlib\n",
    "> \n",
    "> # check the environment now has the required packages (should list a bunch of packages)\n",
    "> pip list \n",
    "> \n",
    "> ```\n",
    "\n",
    "</div>\n"
   ]
  },
  {
   "cell_type": "markdown",
   "metadata": {},
   "source": [
    "\n",
    "See the .gif below for an example using VSC. \n",
    "\n",
    "> **Note** <br>\n",
    "> Calling each environment 'venv' rather than a unique name is a common custom. <br>\n",
    "> The python environment should be stored in the main working directory of your project. <br>\n",
    "> For this reason, it's very location tells you \"I am the environment for python code in this directory\". \n",
    "\n",
    "Notice that the Bash shell displays loaded environments by prepending the environment name to your prompt. <br>\n",
    "In the example below, <small>`grace@DESKTOP-JI959V6:`</small> becomes <small>`(venv) grace@DESKTOP-JI959V6:`</small>.\n",
    "\n",
    "<img src=\"https://raw.githubusercontent.com/melbournebioinformatics/COMP90014_2024/master/tutorials/media/vsc_python_venv.gif\" width=\"800\">"
   ]
  },
  {
   "cell_type": "markdown",
   "metadata": {},
   "source": [
    "\n",
    "The python venv environment is now loaded in your shell. \n",
    "\n",
    "**Working on notebooks**\n",
    "\n",
    "<u>*Visual Studio Code*</u>\n",
    "\n",
    "You will need to tell VSC to use this new venv environment. \n",
    "1. Open the .ipynb file\n",
    "2. Click 'Select Kernel' (top right), then select the python environment (venv) you just created. \n",
    "\n",
    "<u>*Jupyter Lab*</u>\n",
    "\n",
    "The correct environment should be already be loaded as it used to launch jupyter. \n",
    "1. Run jupyter by using the <small>`jupyter lab`</small> command in a shell.\n",
    "2. Copy the link it provides and open in your web browser to begin work.\n"
   ]
  },
  {
   "cell_type": "markdown",
   "metadata": {},
   "source": [
    "<br>\n",
    "\n",
    "------------\n",
    "\n",
    "## Features of Jupyter notebooks\n",
    "\n",
    "Jupyter notebooks (like this one) are organised into cells. If you double click this text, you can see (and edit) the content in the cell. Use Shift-Enter (or Shift-Return) to execute the cell."
   ]
  },
  {
   "cell_type": "markdown",
   "metadata": {},
   "source": [
    "**Markdown cells**\n",
    "\n",
    "This cell is a markdown cell. It appears as text. \n",
    "In markdown cells, you can format headings with \"#\" or subheadings with \"##\". \n",
    "\n",
    "You can also use **bold** or _italic_ type...\n",
    "* or bullet points\n",
    "1. or even numbered lists.\n",
    "\n",
    "Double click this cell to see how these elements are encoded."
   ]
  },
  {
   "cell_type": "markdown",
   "metadata": {},
   "source": [
    "**Code cells**\n",
    "\n",
    "The cell below is a code cell. Underneath is the output of that code.<br>\n",
    "The Jupyter notebooks we use for this subject will always use Python 3."
   ]
  },
  {
   "cell_type": "code",
   "execution_count": 1,
   "metadata": {},
   "outputs": [
    {
     "name": "stdout",
     "output_type": "stream",
     "text": [
      "Hello world!\n"
     ]
    }
   ],
   "source": [
    "print(\"Hello world!\")"
   ]
  },
  {
   "cell_type": "markdown",
   "metadata": {},
   "source": [
    "Execute the two code cells below. Note that variables defined in the first code cell can be used in the second cell without being redefined."
   ]
  },
  {
   "cell_type": "code",
   "execution_count": null,
   "metadata": {},
   "outputs": [],
   "source": [
    "str_1 = 'foo'\n",
    "str_2 = 'bar'"
   ]
  },
  {
   "cell_type": "code",
   "execution_count": null,
   "metadata": {},
   "outputs": [],
   "source": [
    "str_1 + str_2"
   ]
  },
  {
   "cell_type": "markdown",
   "metadata": {},
   "source": [
    "Use Python code to complete the function in the cell below. Similar to the example above, a function defined in one cell can be called in another cell.\n",
    "\n",
    "The function should take two integers *a* and *b* as inputs and return the sum of *a* and *b* as an integer."
   ]
  },
  {
   "cell_type": "code",
   "execution_count": null,
   "metadata": {},
   "outputs": [],
   "source": [
    "def add_ints(a, b):\n",
    "    # Your code here"
   ]
  },
  {
   "cell_type": "code",
   "execution_count": null,
   "metadata": {},
   "outputs": [],
   "source": [
    "add_ints(1, 3) # Should output 4."
   ]
  },
  {
   "cell_type": "markdown",
   "metadata": {},
   "source": [
    "You can also use the command ? or help() to get help on any built-in functions. For instance, sorted? or help(sorted)."
   ]
  },
  {
   "cell_type": "code",
   "execution_count": null,
   "metadata": {},
   "outputs": [],
   "source": [
    "sorted?"
   ]
  },
  {
   "cell_type": "markdown",
   "metadata": {},
   "source": [
    "You can run shell commands from the notebook by prefixing them with an `!`"
   ]
  },
  {
   "cell_type": "code",
   "execution_count": null,
   "metadata": {},
   "outputs": [],
   "source": [
    "!ls -lah"
   ]
  },
  {
   "cell_type": "markdown",
   "metadata": {},
   "source": [
    "**Keyboard shortcuts**\n",
    "\n",
    "Below is a list of useful shortcuts. Try opening a new cell (a code cell by default) and converting it to a markdown cell. Try copying and pasting that cell. Play around with these shortcuts until you feel confident.\n",
    "* Shift-Enter : execute the code in the current cell\n",
    "* Enter : edit the current cell\n",
    "* ESC : stop editing a cell and return to \"command mode\" to use other hotkeys\n",
    "* m : turn the current cell into a Markdown cell\n",
    "* y : turn the current cell into a code cell\n",
    "* a : add a new cell above\n",
    "* b : add a new cell below\n",
    "* dd : delete the current cell\n",
    "* c : copy the current cell\n",
    "* v : paste the copied cell\n",
    "* z : undo\n"
   ]
  },
  {
   "cell_type": "markdown",
   "metadata": {},
   "source": [
    "For more information about using Jupyter notebooks, try this tutorial from AARNet:\n",
    "<https://aarnet.github.io/Introduction_to_Jupyter_notebooks/>"
   ]
  },
  {
   "cell_type": "markdown",
   "metadata": {},
   "source": [
    "<br>\n",
    "\n",
    "------------\n",
    "\n",
    "## Sorting Algorithms & Complexity"
   ]
  },
  {
   "cell_type": "markdown",
   "metadata": {},
   "source": [
    "In this final section we will:\n",
    "    \n",
    "1. Implement Selection Sort\n",
    "2. Implement Merge Sort\n",
    "3. Empirically determine complexity for Insertion, Merge, and Selection Sort"
   ]
  },
  {
   "cell_type": "code",
   "execution_count": 6,
   "metadata": {},
   "outputs": [],
   "source": [
    "# Get matplotlib plots to appear inline in the notebook\n",
    "%matplotlib inline\n",
    "\n",
    "# Import packages\n",
    "import matplotlib.pyplot as plt\n",
    "import numpy as np\n",
    "\n",
    "# Import custom sort utilities\n",
    "from tutorials.utils.week1.sort_utilities import (\n",
    "    time_sort,\n",
    "    completely_sorted_list,\n",
    "    nearly_sorted_list,\n",
    "    random_list,\n",
    "    reversed_list,\n",
    ")"
   ]
  },
  {
   "cell_type": "markdown",
   "metadata": {},
   "source": [
    "## Insertion sort "
   ]
  },
  {
   "cell_type": "markdown",
   "metadata": {},
   "source": [
    "Here is a visual reminder of how insertion sort works.\n",
    "\n",
    "<img src=\"https://raw.githubusercontent.com/melbournebioinformatics/COMP90014_2024/master/tutorials/media/Insertion-sort-example.gif\" width=\"400\">"
   ]
  },
  {
   "cell_type": "markdown",
   "metadata": {},
   "source": [
    "Pseudocode Algorithm\n",
    "\n",
    "<div style=\"font-size: 16px\">\n",
    "\n",
    "> ```python\n",
    "> ALGORITHM InsertionSort(A[0..n − 1])  \n",
    "> \n",
    ">     # Sorts a given array by insertion sort  \n",
    ">     # Input: An array A[0..n − 1] of n orderable elements  \n",
    ">     # Output: Array A[0..n − 1] sorted in nondecreasing order   \n",
    ">     \n",
    ">     for i ← 1 to n − 1 do  \n",
    ">         v ← A[i]  \n",
    ">         j←i−1  \n",
    ">         while j ≥ 0 and A[j ] > v do  \n",
    ">             A[j + 1] ← A[j ]  \n",
    ">             j←j−1   \n",
    ">         A[j + 1] ← v\n",
    "> \n",
    "> ```\n",
    "\n",
    "</div>\n",
    "\n",
    "Source: A. Levitin, Introduction to the Design and Analysis of Algorithms, Pearson, 3rd edition, 2012"
   ]
  },
  {
   "cell_type": "markdown",
   "metadata": {},
   "source": [
    "Here is an implementation of insertion sort, discussed in lectures.\n",
    "\n",
    "This implementation sorts the list in-place, so the original list will also be modified."
   ]
  },
  {
   "cell_type": "code",
   "execution_count": null,
   "metadata": {},
   "outputs": [],
   "source": [
    "def isort(items):\n",
    "    \"\"\"\n",
    "    Sort a list in-place using insertion sort\n",
    "    \"\"\"\n",
    "    # For each item in list from 2nd to final position\n",
    "    for index in range(1, len(items)):\n",
    "        # Store value of current index position\n",
    "        current_item = items[index]\n",
    "        # Check if current item value is smaller than the value to the left\n",
    "        # AND that there is an item to the left\n",
    "        while index >= 1 and (current_item < items[index - 1]):\n",
    "            # If item to the left is larger than current item move it up one position\n",
    "            items[index] = items[index - 1]\n",
    "            # Compare current item to item one MORE to the left on next loop\n",
    "            index -= 1\n",
    "        # Exit loop when current item is > than item to the left\n",
    "        # Overwrite index position with current item value\n",
    "        items[index] = current_item\n",
    "    return items"
   ]
  },
  {
   "cell_type": "markdown",
   "metadata": {},
   "source": [
    "<div class=\"info\">\n",
    "<b>Challenge:</b> Modify the isort() function above to print the partially sorted list on each pass and sort a reversed list.\n",
    "</div>"
   ]
  },
  {
   "cell_type": "code",
   "execution_count": null,
   "metadata": {
    "nbgrader": {
     "grade": false,
     "grade_id": "cell-9a1bd1b41321ed3a",
     "locked": false,
     "schema_version": 3,
     "solution": true,
     "task": false
    }
   },
   "outputs": [],
   "source": [
    "def isort_mod(items):\n",
    "    \"\"\"\n",
    "    Sort a list in-place using insertion sort\n",
    "    \"\"\"\n",
    "    ### BEGIN SOLUTION\n",
    "    for index in range(1, len(items)):\n",
    "        current_item = items[index]\n",
    "        while index >= 1 and (current_item < items[index - 1]):\n",
    "            items[index] = items[index - 1]\n",
    "            index -= 1\n",
    "        items[index] = current_item\n",
    "        print(items)\n",
    "    return items\n",
    "    ### END SOLUTION"
   ]
  },
  {
   "cell_type": "code",
   "execution_count": null,
   "metadata": {},
   "outputs": [],
   "source": [
    "# Now use your modified function to sort a reversed list and observe the changes with each iteration of the main loop\n",
    "\n",
    "revlist = [10,9,8,7,6,5,4,3,2,1]\n",
    "\n"
   ]
  },
  {
   "cell_type": "markdown",
   "metadata": {},
   "source": [
    "# Testing time complexity"
   ]
  },
  {
   "cell_type": "markdown",
   "metadata": {},
   "source": [
    "We've imported some functions that create lists with different properties (you can see these in `sort_utilities.py`). Execute the following code cells:"
   ]
  },
  {
   "cell_type": "code",
   "execution_count": null,
   "metadata": {},
   "outputs": [],
   "source": [
    "random_list(10)"
   ]
  },
  {
   "cell_type": "code",
   "execution_count": null,
   "metadata": {},
   "outputs": [],
   "source": [
    "nearly_sorted_list(10)"
   ]
  },
  {
   "cell_type": "code",
   "execution_count": null,
   "metadata": {},
   "outputs": [],
   "source": [
    "reversed_list(10)"
   ]
  },
  {
   "cell_type": "code",
   "execution_count": null,
   "metadata": {},
   "outputs": [],
   "source": [
    "completely_sorted_list(10)"
   ]
  },
  {
   "cell_type": "markdown",
   "metadata": {},
   "source": [
    "Let's test the performance of insertion sort using Jupyter's `%timeit` magic. We'll make the list outside the timed cell, as we don't want to time the creation."
   ]
  },
  {
   "cell_type": "code",
   "execution_count": null,
   "metadata": {},
   "outputs": [],
   "source": [
    "items = random_list(10)"
   ]
  },
  {
   "cell_type": "code",
   "execution_count": null,
   "metadata": {},
   "outputs": [],
   "source": [
    "%timeit isort(items)"
   ]
  },
  {
   "cell_type": "markdown",
   "metadata": {},
   "source": [
    "On a bigger list:"
   ]
  },
  {
   "cell_type": "code",
   "execution_count": null,
   "metadata": {},
   "outputs": [],
   "source": [
    "items = random_list(1000)"
   ]
  },
  {
   "cell_type": "code",
   "execution_count": null,
   "metadata": {},
   "outputs": [],
   "source": [
    "%timeit isort(items)"
   ]
  },
  {
   "cell_type": "markdown",
   "metadata": {},
   "source": [
    "We've also imported a `time_sort()` function that you can use to time a sort function once you've written it, and plot the results. "
   ]
  },
  {
   "cell_type": "markdown",
   "metadata": {},
   "source": [
    "### Reverse-sorted lists"
   ]
  },
  {
   "cell_type": "code",
   "execution_count": null,
   "metadata": {},
   "outputs": [],
   "source": [
    "# Test insertion sort on reverse-sorted lists of different size,\n",
    "# and plot the results\n",
    "\n",
    "N_values = list(range(10,5000,200))\n",
    "time_values = []\n",
    "\n",
    "for N in N_values:\n",
    "    input_list = reversed_list(N)\n",
    "    time_taken = time_sort(isort, input_list)\n",
    "    time_values.append(time_taken)\n",
    "\n",
    "plt.plot(N_values, time_values)"
   ]
  },
  {
   "cell_type": "markdown",
   "metadata": {},
   "source": [
    "### Nearly-sorted lists"
   ]
  },
  {
   "cell_type": "code",
   "execution_count": null,
   "metadata": {},
   "outputs": [],
   "source": [
    "# Test insertion sort on nearly-sorted lists of different size,\n",
    "# and plot the results\n",
    "\n",
    "N_values = list(range(10,5000,200))\n",
    "time_values = []\n",
    "\n",
    "for N in N_values:\n",
    "    input_list = nearly_sorted_list(N)\n",
    "    time_taken = time_sort(isort, input_list)\n",
    "    time_values.append(time_taken)\n",
    "\n",
    "plt.plot(N_values, time_values)"
   ]
  },
  {
   "cell_type": "markdown",
   "metadata": {},
   "source": [
    "### Randomly-sorted lists"
   ]
  },
  {
   "cell_type": "code",
   "execution_count": null,
   "metadata": {
    "scrolled": true
   },
   "outputs": [],
   "source": [
    "# Test insertion sort on randomly-sorted lists of different size,\n",
    "# and plot the results\n",
    "\n",
    "N_values = list(range(10,5000,200))\n",
    "time_values = []\n",
    "\n",
    "for N in N_values:\n",
    "    input_list = random_list(N)\n",
    "    time_taken = time_sort(isort, input_list)\n",
    "    time_values.append(time_taken)\n",
    "\n",
    "plt.plot(N_values, time_values)"
   ]
  },
  {
   "cell_type": "markdown",
   "metadata": {
    "nbgrader": {
     "grade": false,
     "grade_id": "cell-8ac597e9d27af413",
     "locked": true,
     "points": 1,
     "schema_version": 3,
     "solution": false,
     "task": true
    }
   },
   "source": [
    "<div class=\"question\">\n",
    "<h3>Question 1</h3>\n",
    "\n",
    "Notice that above we can get extra randomness in our timings due to the randomness in the input lists - some inputs were harder to sort than others. How could you improve this test?\n",
    "</div>\n",
    "\n",
    "=== BEGIN MARK SCHEME === \n",
    "\n",
    "Add replicates and take mean of run-time values for each value of N \n",
    "\n",
    "=== END MARK SCHEME ==="
   ]
  },
  {
   "cell_type": "markdown",
   "metadata": {},
   "source": [
    "YOUR ANSWER HERE"
   ]
  },
  {
   "cell_type": "markdown",
   "metadata": {
    "nbgrader": {
     "grade": false,
     "grade_id": "cell-9502ee24d7a491cf",
     "locked": true,
     "points": 1,
     "schema_version": 3,
     "solution": false,
     "task": true
    }
   },
   "source": [
    "<div class=\"question\">\n",
    "<h3>Question 2</h3>\n",
    "\n",
    "Which data set will Insertion Sort perform worst on? \n",
    "    \n",
    "    A) Randomised list\n",
    "    B) All the same time\n",
    "    C) Sorted list\n",
    "    D) Reversed list\n",
    "\n",
    "</div>\n",
    "\n",
    "=== BEGIN MARK SCHEME ===\n",
    "\n",
    "D - Reverse sorted list\n",
    "\n",
    "=== END MARK SCHEME ==="
   ]
  },
  {
   "cell_type": "markdown",
   "metadata": {},
   "source": [
    "YOUR ANSWER HERE"
   ]
  },
  {
   "cell_type": "markdown",
   "metadata": {
    "nbgrader": {
     "grade": false,
     "grade_id": "cell-52bcf7a8bf6200df",
     "locked": true,
     "points": 1,
     "schema_version": 3,
     "solution": false,
     "task": true
    }
   },
   "source": [
    "<div class=\"question\">\n",
    "<h3>Question 3</h3> \n",
    "\n",
    "What is the time complexity of the Insertion Sort algorithm?\n",
    "    \n",
    "    A) linear\n",
    "    B) logarithmic\n",
    "    C) quadratic\n",
    "    D) constant\n",
    "\n",
    "</div>\n",
    "\n",
    "=== BEGIN MARK SCHEME ===\n",
    "\n",
    "C - Quadratic O(n²)\n",
    "\n",
    "=== END MARK SCHEME ===\n"
   ]
  },
  {
   "cell_type": "markdown",
   "metadata": {},
   "source": [
    "YOUR ANSWER HERE"
   ]
  },
  {
   "cell_type": "markdown",
   "metadata": {},
   "source": [
    "## Selection sort "
   ]
  },
  {
   "cell_type": "markdown",
   "metadata": {},
   "source": [
    "The selection sort algorithm similar to the insertion sort algorithm discussed in lectures, but even simpler to implement. \n",
    "\n",
    "Here is a version of the algorithm in words:\n",
    "\n",
    "1. Initialise the sorted list as an empty list\n",
    "2. Search the original list for the smallest element\n",
    "3. Remove this element from the original list and insert it at the end of the sorted list \n",
    "4. Repeat from step 2 until the unsorted list is empty\n",
    "\n",
    "Since we built the sorted list from the smallest to the largest element, we can just add each new element on to the end."
   ]
  },
  {
   "cell_type": "code",
   "execution_count": null,
   "metadata": {},
   "outputs": [],
   "source": [
    "# Render selection sort graphic \n",
    "renderGIF(selectionSort)"
   ]
  },
  {
   "cell_type": "markdown",
   "metadata": {
    "nbgrader": {
     "grade": false,
     "grade_id": "cell-0687e1196df0ef94",
     "locked": true,
     "points": 1,
     "schema_version": 3,
     "solution": false,
     "task": true
    }
   },
   "source": [
    "<div class=\"question\">\n",
    "<h3>Question 4</h3> \n",
    "    \n",
    "Think theoretically - What do you expect the worst case time complexity of the Selection Sort algorithm to be?\n",
    "\n",
    "    A) linear\n",
    "    B) quadratic\n",
    "    C) logarithmic\n",
    "    D) constant\n",
    "\n",
    "</div>\n",
    "\n",
    "=== BEGIN MARK SCHEME ===\n",
    "\n",
    "B - Quadratic\n",
    "\n",
    "=== END MARK SCHEME ==="
   ]
  },
  {
   "cell_type": "markdown",
   "metadata": {},
   "source": [
    "YOUR ANSWER HERE"
   ]
  },
  {
   "cell_type": "markdown",
   "metadata": {},
   "source": [
    "<div class=\"info\">\n",
    "\n",
    "<b>Challenge:</b> Implement selection sort below. \n",
    "\n",
    "</div>"
   ]
  },
  {
   "cell_type": "code",
   "execution_count": null,
   "metadata": {
    "nbgrader": {
     "grade": false,
     "grade_id": "cell-0e166a7e1b462fa7",
     "locked": false,
     "schema_version": 3,
     "solution": true,
     "task": false
    }
   },
   "outputs": [],
   "source": [
    "def selection_sort(unsorted):\n",
    "    # Replace the code below so that we sort the list instead\n",
    "    # of just returning the original list\n",
    "\n",
    "    #sorted_list = unsorted  \n",
    "    #return sorted_list\n",
    "    \n",
    "    ### BEGIN SOLUTION\n",
    "\n",
    "    sorted_list = []    \n",
    "    # while the unsorted list is not exhausted\n",
    "    while len(unsorted) > 0:\n",
    "        # position of the smallest item\n",
    "        min_index = 0\n",
    "        # find the smallest item in the remaining list\n",
    "        for index in range(1, len(unsorted)):\n",
    "            # if a value is smaller than the current, replace the index\n",
    "            if unsorted[index] < unsorted[min_index]:\n",
    "                min_index = index\n",
    "        # add the smallest item to the sorted list\n",
    "        sorted_list.append(unsorted[min_index])\n",
    "        # remove the smallest item from the unsorted list (+ concatenates lists)\n",
    "        unsorted = unsorted[:min_index] + unsorted[(min_index + 1):]\n",
    "    return sorted_list\n",
    "    ### END SOLUTION"
   ]
  },
  {
   "cell_type": "code",
   "execution_count": null,
   "metadata": {},
   "outputs": [],
   "source": [
    "x = [5,3,7,22,4,3]\n",
    "print(selection_sort(x))\n",
    "assert selection_sort(x) == sorted(x)"
   ]
  },
  {
   "cell_type": "markdown",
   "metadata": {},
   "source": [
    "<div class=\"info\">\n",
    "\n",
    "<b>Challenge:</b>\n",
    "Draw plots similar to the insertion sort plots above to test the behaviour of selection sort with random, inverted, and nearly-sorted lists.\n",
    "Warning: This may be very slow.\n",
    "</div>"
   ]
  },
  {
   "cell_type": "code",
   "execution_count": null,
   "metadata": {},
   "outputs": [],
   "source": [
    "# Test selection sort on reverse-sorted lists of different size,\n",
    "# and plot the results"
   ]
  },
  {
   "cell_type": "code",
   "execution_count": null,
   "metadata": {},
   "outputs": [],
   "source": [
    "# Test selection sort on nearly-sorted lists of different size,\n",
    "# and plot the results"
   ]
  },
  {
   "cell_type": "code",
   "execution_count": null,
   "metadata": {},
   "outputs": [],
   "source": [
    "# Test selection sort on randomly-sorted lists of different size,\n",
    "# and plot the results"
   ]
  },
  {
   "cell_type": "markdown",
   "metadata": {},
   "source": [
    "## Merge sort"
   ]
  },
  {
   "cell_type": "markdown",
   "metadata": {},
   "source": [
    "Here is a reminder for the merge sort algorithm:"
   ]
  },
  {
   "cell_type": "code",
   "execution_count": null,
   "metadata": {},
   "outputs": [],
   "source": [
    "renderGIF(mergeSort)"
   ]
  },
  {
   "cell_type": "markdown",
   "metadata": {},
   "source": [
    "Here is the merge sort code given in lectures:"
   ]
  },
  {
   "cell_type": "code",
   "execution_count": null,
   "metadata": {},
   "outputs": [],
   "source": [
    "def msort(items):\n",
    "    len_list = len(items)\n",
    "    if len_list <= 1:\n",
    "        return items\n",
    "    else:\n",
    "        mid_point = len_list//2\n",
    "        top = items[:mid_point]\n",
    "        bottom = items[mid_point:]\n",
    "        return merge(msort(top), msort(bottom))"
   ]
  },
  {
   "cell_type": "markdown",
   "metadata": {},
   "source": [
    "This function won't work yet because it depends on a `merge()` function, which we haven't defined."
   ]
  },
  {
   "cell_type": "markdown",
   "metadata": {},
   "source": [
    "<div class=\"info\">\n",
    "    <b>Challenge:</b> Write a merge function to merge two lists. Assume both lists are already sorted, and ensure that the resulting list is sorted.\n",
    "</div>"
   ]
  },
  {
   "cell_type": "code",
   "execution_count": null,
   "metadata": {
    "nbgrader": {
     "grade": false,
     "grade_id": "cell-e7698cabe9daea81",
     "locked": false,
     "schema_version": 3,
     "solution": true,
     "task": false
    }
   },
   "outputs": [],
   "source": [
    "def merge(list1, list2):\n",
    "    # Replace the code below so that we merge the lists properly\n",
    "    # instead of just appending one after the other\n",
    "    \n",
    "    #merged = list1 + list2\n",
    "    #return merged\n",
    "\n",
    "    ### BEGIN SOLUTION\n",
    "    merged = [0] * (len(list1) + len(list2)) # create a list of zeros\n",
    "    \n",
    "    #create index variables for each list\n",
    "    index1 = 0\n",
    "    index2 = 0\n",
    "    indexm = 0 # index in merged list\n",
    "    \n",
    "    #compare each list and merge until all indexes in either one list are covered\n",
    "    while index1 < len(list1) and index2 < len(list2):\n",
    "        #if the smaller item is in list1, add it to the merged list and increment index\n",
    "        if list1[index1] < list2[index2]:\n",
    "            merged[indexm] = list1[index1]\n",
    "            index1 += 1\n",
    "        else:\n",
    "            merged[indexm] = list2[index2]\n",
    "            index2 += 1\n",
    "        indexm += 1\n",
    "    \n",
    "    #if one list is exhausted, the other has all elements are larger than the merged list\n",
    "    #these elements are already sorted by the recursive calls\n",
    "    #listA.extend(listB) adds the elements of listB to the end of listA\n",
    "    while index1 < len(list1):\n",
    "        merged[indexm] = list1[index1]\n",
    "        index1 += 1\n",
    "        indexm += 1\n",
    "    while index2 < len(list2):\n",
    "        merged[indexm] = list2[index2]\n",
    "        index2 += 1\n",
    "        indexm += 1\n",
    "    \n",
    "    return merged\n",
    "\n",
    "    '''\n",
    "    #Alternative solution using pop\n",
    "    def merge(top, bottom):\n",
    "        # Replace the code below so that we merge the lists properly\n",
    "        # instead of just appending one after the other\n",
    "\n",
    "        merged = []\n",
    "        while len(bottom) >= 1 and len(top) >= 1:\n",
    "            if bottom[0] <= top[0]:\n",
    "                merged.append(bottom.pop(0))\n",
    "            else:\n",
    "                merged.append(top.pop(0))\n",
    "        merged += top + bottom\n",
    "        return merged\n",
    "    '''\n",
    "\n",
    "    ### END SOLUTION"
   ]
  },
  {
   "cell_type": "code",
   "execution_count": null,
   "metadata": {},
   "outputs": [],
   "source": [
    "# Test your merge function\n",
    "x1 = [4,6,9]\n",
    "x2 = [2,6,20,21]\n",
    "print(merge(x1,x2))\n"
   ]
  },
  {
   "cell_type": "code",
   "execution_count": null,
   "metadata": {},
   "outputs": [],
   "source": [
    "# If you have used the pop() method in your solution, \n",
    "# check what happens to the input lists after running the cells above.\n",
    "print(x1)\n",
    "print(x2)\n",
    "print(merge(x1,x2))"
   ]
  },
  {
   "cell_type": "code",
   "execution_count": null,
   "metadata": {},
   "outputs": [],
   "source": [
    "x1 = [4,6,9]\n",
    "x2 = [2,6,20,21]\n",
    "assert merge(x1,x2) == [2,4,6,6,9,20,21]"
   ]
  },
  {
   "cell_type": "markdown",
   "metadata": {},
   "source": [
    "Once you have `merge()` working, `msort()` should work correctly:"
   ]
  },
  {
   "cell_type": "code",
   "execution_count": null,
   "metadata": {},
   "outputs": [],
   "source": [
    "x = [5,3,7,22,4,3]\n",
    "print(msort(x))\n",
    "assert msort(x) == sorted(x)"
   ]
  },
  {
   "cell_type": "markdown",
   "metadata": {},
   "source": [
    "<div class=\"info\">\n",
    "<b>Exercise:</b> Draw plots similar to the insertion sort plots above to test the behaviour of merge sort with random, inverted, and nearly-sorted lists.\n",
    "</div>"
   ]
  },
  {
   "cell_type": "code",
   "execution_count": null,
   "metadata": {},
   "outputs": [],
   "source": [
    "# Test merge sort on reverse-sorted lists of different size,\n",
    "# and plot the results"
   ]
  },
  {
   "cell_type": "code",
   "execution_count": null,
   "metadata": {},
   "outputs": [],
   "source": [
    "# Test merge sort on nearly-sorted lists of different size,\n",
    "# and plot the results"
   ]
  },
  {
   "cell_type": "code",
   "execution_count": null,
   "metadata": {},
   "outputs": [],
   "source": [
    "# Test merge sort on randomly-sorted lists of different size,\n",
    "# and plot the results"
   ]
  },
  {
   "cell_type": "markdown",
   "metadata": {
    "nbgrader": {
     "grade": false,
     "grade_id": "cell-b65d96a9c0a9d2fc",
     "locked": true,
     "points": 1,
     "schema_version": 3,
     "solution": false,
     "task": true
    }
   },
   "source": [
    "<div class=\"question\">\n",
    "<h3>Question 5</h3> \n",
    "    \n",
    "Which data set will Merge Sort perform worst on?\n",
    "    \n",
    "    A) Sorted list\n",
    "    B) Randomised list\n",
    "    C) All the same time\n",
    "    D) Reversed list\n",
    "\n",
    "</div>\n",
    "\n",
    "=== BEGIN MARK SCHEME ===\n",
    "\n",
    "C - All the same time\n",
    "\n",
    "=== END MARK SCHEME ===\n"
   ]
  },
  {
   "cell_type": "code",
   "execution_count": null,
   "metadata": {},
   "outputs": [],
   "source": [
    "YOUR ANSWER HERE"
   ]
  },
  {
   "cell_type": "markdown",
   "metadata": {
    "nbgrader": {
     "grade": false,
     "grade_id": "cell-c35bd746c6db9873",
     "locked": true,
     "points": 1,
     "schema_version": 3,
     "solution": false,
     "task": true
    }
   },
   "source": [
    "<div class=\"question\">\n",
    "<h3>Question 6</h3>\n",
    "\n",
    "You have measured running times of Algorithm X with a few different input sizes, and generated the following results, what is the most likely time complexity?\n",
    "\n",
    "<table>\n",
    "<thead>\n",
    "  <tr>\n",
    "    <th></th>\n",
    "    <th></th>\n",
    "    <th></th>\n",
    "    <th></th>\n",
    "  </tr>\n",
    "</thead>\n",
    "<tbody>\n",
    "  <tr>\n",
    "    <td>Run Time</td>\n",
    "    <td>25</td>\n",
    "    <td>45</td>\n",
    "    <td>85</td>\n",
    "  </tr>\n",
    "  <tr>\n",
    "    <td>Data Size</td>\n",
    "    <td>10</td>\n",
    "    <td>20</td>\n",
    "    <td>40</td>\n",
    "  </tr>\n",
    "</tbody>\n",
    "</table>\n",
    "\n",
    "    \n",
    "    A) quadratic\n",
    "    B) constant\n",
    "    C) linear\n",
    "    D) logarithmic\n",
    "\n",
    "</div>\n",
    "\n",
    "=== BEGIN MARK SCHEME ===\n",
    "\n",
    "C - linear\n",
    "\n",
    "=== END MARK SCHEME ===\n"
   ]
  },
  {
   "cell_type": "markdown",
   "metadata": {},
   "source": [
    "YOUR ANSWER HERE"
   ]
  }
 ],
 "metadata": {
  "celltoolbar": "Create Assignment",
  "kernelspec": {
   "display_name": "Python 3 (ipykernel)",
   "language": "python",
   "name": "python3"
  },
  "language_info": {
   "codemirror_mode": {
    "name": "ipython",
    "version": 3
   },
   "file_extension": ".py",
   "mimetype": "text/x-python",
   "name": "python",
   "nbconvert_exporter": "python",
   "pygments_lexer": "ipython3",
   "version": "3.11.5"
  }
 },
 "nbformat": 4,
 "nbformat_minor": 4
}
