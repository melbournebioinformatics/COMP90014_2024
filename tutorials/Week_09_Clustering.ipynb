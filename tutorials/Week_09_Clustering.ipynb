{
 "cells": [
  {
   "cell_type": "markdown",
   "metadata": {},
   "source": [
    "<div style=\"color: rgb(27,94,32); background: rgb(200,230,201); border: solid 1px rgb(129,199,132); padding: 10px;\">\n",
    "\n",
    "# Week 9: DBSCAN Clustering\n",
    "\n",
    "In this lab we'll implement the DBSCAN algorithm for clustering in 3 steps: \n",
    "\n",
    "- Get point neighbors within epsilon distance.\n",
    "- Label a point as 'core', 'border', or 'noise'.\n",
    "- Traverse a cluster, starting at a core point.\n",
    "- Combine the above to implement DBSCAN. \n",
    "\n",
    "</div>"
   ]
  },
  {
   "cell_type": "markdown",
   "metadata": {},
   "source": [
    "## Description of DBSCAN process\n",
    "\n",
    "DBSCAN is a clustering method which assigns points to clusters based on continuous regions\n",
    "of point density above a given threshold. \n",
    "\n",
    "We will use the variables 'epsilon' and min_pts to determine if a point belongs to a local \n",
    "high-density region. \n",
    "\n",
    "Here is an outline of the DBSCAN algorithm:\n",
    "\n",
    "1. For each point in the dataset, we:  \t\n",
    "    a. Compute the epsilon neighbourhood of the point;  \n",
    "    b. Classify the point as core, border or noise, depending on the number of neighbours.\n",
    "\n",
    "2. For each **core** point, *p*, that is **not** assigned a cluster id, we explore the points in the epsilon neighbourhood as follows:  \n",
    "    a. Assign the point *p* the current cluster id;  \n",
    "    b. Move to the next point in the epsilon neighbourhood, *n*, and if that point is of type 'core' or 'border' then we assign the same cluster id.  \n",
    "        i. If *n* is also a core point, we repeat step 2b to explore the neighbouring points of *n*.  \n",
    "        ii. If *n* is not a core point, we move on to the next neighbour of *p* and repeat step 2.\n",
    "\n",
    "3. Step 2 is repeated until all core points are assigned a cluster id.\n",
    "\n",
    "*For more information on DBSCAN you can review [Ester et al. 1996](https://www.aaai.org/Papers/KDD/1996/KDD96-037.pdf) here.*\n",
    "\n"
   ]
  },
  {
   "cell_type": "markdown",
   "metadata": {},
   "source": [
    "## Representing Points\n"
   ]
  },
  {
   "cell_type": "markdown",
   "metadata": {},
   "source": [
    "Today we will represent a single point using [python dataclasses](https://www.datacamp.com/tutorial/python-data-classes). This is similar to a 'named tuple' in other languages. <br>\n",
    "You can access the attributes of these classes using '.' (dot notation). \n",
    "\n",
    "Each point is initialised with a unique id <small>`point.uid`</small>, an x-coordinate <small>`point.x`</small>, and a y-coordinate <small>`point.y`</small>. \n",
    "\n",
    "The point type <small>`point.ptype`</small>, one of 'core' | 'border' | 'noise', starts off as None. <br>\n",
    "During DBSCAN we will update this attribute. \n",
    "\n",
    "The final cluster assignment <small>`point.cluster`</small>, starts off as None. <br>\n",
    "During DBSCAN we will update this attribute. \n",
    "\n",
    "Read then run the cell below to learn how our data will be represented. "
   ]
  },
  {
   "cell_type": "code",
   "execution_count": null,
   "metadata": {},
   "outputs": [],
   "source": [
    "from typing import Optional\n",
    "from dataclasses import dataclass \n",
    "\n",
    "@dataclass\n",
    "class Datapoint:\n",
    "    uid: int                # each point has a unique id. \n",
    "    x: float                # the x coordinate of this point\n",
    "    y: float                # the y coordinate of this point\n",
    "    ptype: Optional[str]    # the type of point. initialised as None. will update later to 'core', 'border', or 'noise'. \n",
    "    cluster: Optional[int]  # the final cluster assignment for this point. initialised as None. will update later. \n",
    "\n",
    "point1 = Datapoint(uid=0, x=2.2, y=2.0, ptype=None, cluster=None)\n",
    "point2 = Datapoint(uid=1, x=0.7, y=1.1, ptype=None, cluster=None)\n",
    "\n",
    "print('\\n--- point1 ---')\n",
    "print(point1)\n",
    "print(point1.uid)\n",
    "print(point1.x)\n",
    "print(point1.cluster)\n",
    "\n",
    "print(\"\\n--- updating point2 'ptype' attribute ---\")\n",
    "print(f'before = {point2.ptype}')\n",
    "point2.ptype = 'core'\n",
    "print(f'after  = \"{point2.ptype}\"')"
   ]
  },
  {
   "cell_type": "markdown",
   "metadata": {},
   "source": [
    "## Generating Data"
   ]
  },
  {
   "cell_type": "markdown",
   "metadata": {},
   "source": [
    "Run the cell below to randomly generate a 'moons' dataset with noise. "
   ]
  },
  {
   "cell_type": "code",
   "execution_count": null,
   "metadata": {},
   "outputs": [],
   "source": [
    "from sklearn.datasets import make_moons\n",
    "import matplotlib.pyplot as plt \n",
    "import numpy as np\n",
    "\n",
    "# Generate curved testing data\n",
    "x, label = make_moons(n_samples=200, noise=0.07, random_state=19)\n",
    "\n",
    "# Add background noise and reformat to tuples\n",
    "background = np.random.uniform(low=[-1,0],high=[2,2],size=(30,2))\n",
    "points_array = np.concatenate([x,background])\n",
    "data = [tuple(p) for p in points_array]\n",
    "\n",
    "# Initialise Datapoints\n",
    "datapoints = []\n",
    "uid = 0\n",
    "for x, y in points_array:\n",
    "    point = Datapoint(uid=uid, x=x, y=y, ptype=None, cluster=None)\n",
    "    datapoints.append(point)\n",
    "    uid += 1\n",
    "\n",
    "# Inspect data\n",
    "x_values = [p.x for p in datapoints]\n",
    "y_values = [p.y for p in datapoints]\n",
    "plt.scatter(x_values, y_values)"
   ]
  },
  {
   "cell_type": "markdown",
   "metadata": {},
   "source": [
    "A core part of DBSCAN is using euclidean distance to judge how 'far' two points are from each other. \n",
    "\n",
    "A helper function is provided below to calculate this.\n",
    "\n",
    "In addition, we have provided a plotting function to view your DBSCAN outputs. "
   ]
  },
  {
   "cell_type": "code",
   "execution_count": 3,
   "metadata": {},
   "outputs": [],
   "source": [
    "# run this cell to load helper functions for today's tutorial. \n",
    "\n",
    "def euclidean_distance(point1: Datapoint, point2: Datapoint) -> float:\n",
    "    \"\"\"\n",
    "    Assuming that a and b are each tuples representing points, \n",
    "    calculate the euclidean distance beween them.\n",
    "    \"\"\"\n",
    "    return np.linalg.norm(np.array([point1.x, point1.y]) - np.array([point2.x, point2.y])) # type: ignore\n",
    "\n",
    "def plot_dbscan(\n",
    "    datapoints: list[Datapoint], \n",
    "    test_point: Optional[Datapoint]=None, \n",
    "    eps: Optional[float]=None\n",
    "    ) -> None:\n",
    "\n",
    "    import matplotlib.colors as mcolors\n",
    "    import matplotlib.lines as mlines\n",
    "    colors = list(mcolors.TABLEAU_COLORS.values())\n",
    "    cluster_ids = set([p.cluster for p in datapoints])\n",
    "    legend_data = []\n",
    "\n",
    "    plt.figure(figsize=(8, 8))\n",
    "    ax = plt.axes((0.1, 0.1, 0.8, 0.8), xlim=(-1.2, 2.2), ylim=(-1.2, 2.2))\n",
    "    for clust, color in zip(cluster_ids, colors):\n",
    "        label_clust = mlines.Line2D([], [], color=color, label=f'cluster id: {clust}')\n",
    "        legend_data.append(label_clust)\n",
    "        points = [p for p in datapoints if p.cluster == clust]\n",
    "        x_values = [p.x for p in points]\n",
    "        y_values = [p.y for p in points]\n",
    "        ax.scatter(x_values, y_values, color=color)\n",
    "\n",
    "    if test_point:\n",
    "        ax.scatter(test_point.x, test_point.y, s=120, color='black', marker='x', label='test point')\n",
    "        label_x = mlines.Line2D([], [], color='black', label='test point')\n",
    "        legend_data.append(label_x)\n",
    "        if eps is not None:\n",
    "            points_whole_ax = 8 * 0.8 * 72    # 1 point = dpi / 72 pixels\n",
    "            radius = eps\n",
    "            points_radius = 2 * radius / 3.4 * points_whole_ax\n",
    "            ax.scatter(test_point.x, test_point.y, s=points_radius**2, facecolors='none', edgecolors='r')\n",
    "            label_eps = mlines.Line2D([], [], color='r', label='eps boundary')\n",
    "            legend_data.append(label_eps)\n",
    "        plt.title(f'Point type: {test_point.ptype}')\n",
    "    \n",
    "    plt.legend(handles=legend_data)\n",
    "    plt.show()\n",
    "\n"
   ]
  },
  {
   "cell_type": "markdown",
   "metadata": {},
   "source": [
    "<div style=\"color: rgb(27,94,32); background: rgb(200,230,201); border: solid 1px rgb(129,199,132); padding: 10px;\">\n",
    "\n",
    "<h3>Exercise 1</h3>\n",
    "    \n",
    "<b>Challange:</b> Write a function which returns a list of datapoints which lie within a maximum of epsilon distance of a query point.\n",
    "    \n",
    "Use provided function <small>`euclidean_distance()`</small> to find distance between two points.\n",
    "    \n",
    "- [ ] Inputs: \n",
    "    - A list of datapoints (list);\n",
    "    - Query data point (Datapoint); \n",
    "    - Epsilon distance value (float).\n",
    "- [ ] Output: list of datapoints within <small>`eps`</small> distance of the query point.\n",
    "    \n",
    "</div>\n"
   ]
  },
  {
   "cell_type": "code",
   "execution_count": 4,
   "metadata": {},
   "outputs": [],
   "source": [
    "def get_neighbours(all_points: list[Datapoint], point: Datapoint, eps: float) -> list[Datapoint]:\n",
    "    \"\"\"\n",
    "    Finds all data points that occur within a maximum of eps distance of a given query Datapoint.\n",
    "    \"\"\"\n",
    "    ### YOUR CODE HERE\n",
    "    raise NotImplementedError\n"
   ]
  },
  {
   "cell_type": "code",
   "execution_count": null,
   "metadata": {},
   "outputs": [],
   "source": [
    "test_point = datapoints[10]\n",
    "neighbours = get_neighbours(datapoints, test_point, eps=0.15)\n",
    "print('Neighbours:')\n",
    "for n in neighbours:\n",
    "    print(n)\n",
    "plot_dbscan(datapoints, test_point, eps=0.15)"
   ]
  },
  {
   "cell_type": "markdown",
   "metadata": {},
   "source": [
    "<div style=\"color: rgb(27,94,32); background: rgb(200,230,201); border: solid 1px rgb(129,199,132); padding: 10px;\">\n",
    "\n",
    "<h3>Exercise 2</h3>\n",
    "    \n",
    "<b>Challange:</b> Write a function which returns the type ('core', 'border', or 'noise') for a query point. \n",
    "    \n",
    "- [ ] Inputs: \n",
    "    - List of datapoints (list); \n",
    "    - Query point (Datapoint);\n",
    "    - Min number of neighbouring points to quality as core (int); \n",
    "    - Epsilon value (float)\n",
    "- [ ] Output: type of point (str).\n",
    "    \n",
    "</div>\n"
   ]
  },
  {
   "cell_type": "code",
   "execution_count": 6,
   "metadata": {},
   "outputs": [],
   "source": [
    "def get_point_type(all_points: list[Datapoint], point: Datapoint, min_pts: int, eps: float) -> str:\n",
    "    \"\"\"\n",
    "    Identifies the 'type' of a given Datapoint. \n",
    "    \n",
    "    Return point label as: \n",
    "    - 'core' if number of points within eps radius >= min_pts, including self.\n",
    "    - 'border' if within eps distance of a core point\n",
    "    - 'noise' if not within eps distance of a core point\n",
    "\n",
    "    Use your 'get_neighbours()' function to help. \n",
    "    \"\"\"\n",
    "    ### YOUR CODE HERE\n",
    "    raise NotImplementedError\n"
   ]
  },
  {
   "cell_type": "code",
   "execution_count": null,
   "metadata": {},
   "outputs": [],
   "source": [
    "# should hopefully assign [core, core, noise, border]\n",
    "for i in [0, 1, 6, 11]:\n",
    "    print(f'point {i}')\n",
    "    datapoints[i].ptype = get_point_type(datapoints, datapoints[i], min_pts=4, eps=0.12)\n",
    "    plot_dbscan(datapoints, test_point=datapoints[i], eps=0.12)\n",
    "\n",
    "# Note: check the plot title to view the assigned point.ptype."
   ]
  },
  {
   "cell_type": "markdown",
   "metadata": {},
   "source": [
    "<div style=\"color: rgb(27,94,32); background: rgb(200,230,201); border: solid 1px rgb(129,199,132); padding: 10px;\">\n",
    "    \n",
    "<h3>Exercise 3</h3>\n",
    "\n",
    "<b>Challenge:</b> Write a recursive function that traverses from a given core point.\n",
    "    \n",
    "- [ ] Take as input: \n",
    "    - A list of all datapoints (list)\n",
    "    - The current 'core' point (Datapoint)\n",
    "    - An epsilon value (float)\n",
    "    - A minimum points value (int)\n",
    "    - A unique cluster id (int)\n",
    "\n",
    "Returning an output is not required, as we are simply updating the cluster attribute for a given point. <br>\n",
    "The point will be permanently altered - ie if we look at the same point again later, the cluster attribute will already be assigned. \n",
    "\n",
    "Assume that each point already has a valid 'ptype' attribute (either core, border, or noise). \n",
    "\n",
    "You will need to:\n",
    "1. Assign the cluster_id to the core point 'cluster' attribute. \n",
    "2. Handle neighbouring points:\n",
    "    - If the neighbour point already has a valid 'cluster' assigned, ignore.\n",
    "    - If the neighbour point is 'noise', ignore. \n",
    "    - If the neighbour point is 'core', <small>`traverse()`</small> from this next core node. \n",
    "    - If the neighbour point is 'border', update its 'cluster' attribute and continue.  \n",
    "\n",
    "</div>\n",
    "\n",
    "\n"
   ]
  },
  {
   "cell_type": "code",
   "execution_count": 8,
   "metadata": {},
   "outputs": [],
   "source": [
    "def traverse(all_points: list[Datapoint], point: Datapoint, eps: float, cluster_id: int) -> None:\n",
    "    \"\"\"\n",
    "    Assigns cluster_id to point.cluster.\n",
    "    Handles neighbouring points in the following manner: \n",
    "        - If the neighbour point already has a valid 'cluster' assigned, ignore.\n",
    "        - If the neighbour point is 'noise', ignore. \n",
    "        - If the neighbour point is 'core', <small>`traverse()`</small> from this next core node. \n",
    "        - If the neighbour point is 'border', update its 'cluster' attribute and continue.  \n",
    "    \"\"\"\n",
    "    ### YOUR CODE HERE\n",
    "    raise NotImplementedError\n"
   ]
  },
  {
   "cell_type": "code",
   "execution_count": null,
   "metadata": {},
   "outputs": [],
   "source": [
    "# resetting point data\n",
    "for point in datapoints:\n",
    "    point.ptype = get_point_type(datapoints, point, min_pts=4, eps=0.15)\n",
    "    point.cluster = None\n",
    "\n",
    "# traverse and plot\n",
    "core_point = datapoints[0]\n",
    "traverse(datapoints, core_point, eps=0.15, cluster_id=1)\n",
    "plot_dbscan(datapoints)\n"
   ]
  },
  {
   "cell_type": "markdown",
   "metadata": {},
   "source": [
    "<div style=\"color: rgb(27,94,32); background: rgb(200,230,201); border: solid 1px rgb(129,199,132); padding: 10px;\">\n",
    "    \n",
    "<h3>Exercise 4</h3>\n",
    "\n",
    "<b>Challange:</b> Write a function which performs DBSCAN. \n",
    "    \n",
    "- [ ] Take as input: \n",
    "    - A list of datapoints (list)\n",
    "    - An epsilon value (float)\n",
    "    - A minimum points value (int)\n",
    "\n",
    "Returning an output is not required, as we are simply updating attributes for each Datapoint. \n",
    "\n",
    "**Process**\n",
    "\n",
    "For each point in datapoints:\n",
    "- If the point already has a 'cluster' assignment, ignore.\n",
    "- If noise point, update its 'cluster' as -1 (we'll use -1 to represent the noise cluster). \n",
    "- If border point, ignore.\n",
    "- If core point\n",
    "    - Create a new cluster_id (int).\n",
    "    - <small>`traverse()`</small> from this point, supplying the new cluster_id.\n",
    "\n",
    "</div>\n"
   ]
  },
  {
   "cell_type": "code",
   "execution_count": 10,
   "metadata": {},
   "outputs": [],
   "source": [
    "def dbscan(datapoints: list[Datapoint], min_pts: int, eps: float) -> None:\n",
    "    \"\"\"\n",
    "    performs DBSCAN clustering. \n",
    "    \"\"\"\n",
    "    # First off, assign the point type to each Datapoint. \n",
    "    for point in datapoints:\n",
    "        point.ptype = get_point_type(datapoints, point, min_pts, eps)\n",
    "\n",
    "    ### YOUR CODE HERE\n",
    "    raise NotImplementedError\n",
    "    "
   ]
  },
  {
   "cell_type": "code",
   "execution_count": null,
   "metadata": {},
   "outputs": [],
   "source": [
    "# resetting point data\n",
    "for point in datapoints:\n",
    "    point.ptype = None\n",
    "    point.cluster = None\n",
    "\n",
    "# DBSCAN and plot\n",
    "dbscan(datapoints, min_pts=4, eps=0.15)\n",
    "plot_dbscan(datapoints)"
   ]
  }
 ],
 "metadata": {
  "kernelspec": {
   "display_name": "venv",
   "language": "python",
   "name": "python3"
  },
  "language_info": {
   "codemirror_mode": {
    "name": "ipython",
    "version": 3
   },
   "file_extension": ".py",
   "mimetype": "text/x-python",
   "name": "python",
   "nbconvert_exporter": "python",
   "pygments_lexer": "ipython3",
   "version": "3.11.5"
  }
 },
 "nbformat": 4,
 "nbformat_minor": 2
}
