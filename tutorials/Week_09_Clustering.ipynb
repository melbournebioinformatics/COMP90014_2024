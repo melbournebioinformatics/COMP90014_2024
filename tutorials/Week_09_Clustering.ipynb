{
 "cells": [
  {
   "cell_type": "markdown",
   "metadata": {},
   "source": [
    "# Week 10: K-means Clustering"
   ]
  },
  {
   "cell_type": "markdown",
   "metadata": {},
   "source": [
    "<div style=\"color: rgb(27,94,32); background: rgb(200,230,201); border: solid 1px rgb(129,199,132); padding: 10px;\">\n",
    "\n",
    "In this lab we'll implement the k-means algorithm in 3 parts:\n",
    "    \n",
    "    \n",
    "- Initialise centroids\n",
    "- Assign points to centroids\n",
    "- Update centroid locations to cluster means\n",
    "\n",
    "</div>"
   ]
  },
  {
   "cell_type": "markdown",
   "metadata": {},
   "source": [
    "## Setup"
   ]
  },
  {
   "cell_type": "code",
   "execution_count": null,
   "metadata": {},
   "outputs": [],
   "source": [
    "%matplotlib inline\n",
    "import matplotlib.pyplot as plt\n",
    "import numpy as np\n",
    "import os\n",
    "import requests\n",
    "from IPython.core.display import HTML"
   ]
  },
  {
   "cell_type": "code",
   "execution_count": null,
   "metadata": {},
   "outputs": [],
   "source": [
    "# Load stylesheet\n",
    "HTML(requests.get('https://raw.githubusercontent.com/melbournebioinformatics/COMP90014/main/data/2023/style/custom.css').text)"
   ]
  },
  {
   "cell_type": "code",
   "execution_count": null,
   "metadata": {},
   "outputs": [],
   "source": [
    "# Handy function to fetch our files\n",
    "def fetch_file(url, outpath='.'):\n",
    "    response = requests.get(url)\n",
    "    if response.status_code == 200:\n",
    "        print('File found!')\n",
    "        # Get the filename from the URL\n",
    "        filename = os.path.basename(url).split('?', 1)[0]\n",
    "        # Construct the filepath using the specified directory and filename\n",
    "        filepath = os.path.join(outpath, filename)\n",
    "        # Create the directory if it doesn't exist\n",
    "        if not os.path.exists(outpath):\n",
    "            print(f'Creating output dir: {outpath}')\n",
    "            os.makedirs(outpath)\n",
    "        # Check if the file already exists in the specified directory\n",
    "        if os.path.exists(filepath):\n",
    "            print(f'{filename} already exists in {outpath}. Skip download.')\n",
    "        else:\n",
    "            with open(filepath, 'wb') as f:\n",
    "                f.write(response.content)\n",
    "                f.close()\n",
    "            print(f'Saved to: {filepath}')\n",
    "    else:\n",
    "        print(f'File not found: Code {response.status_code}')"
   ]
  },
  {
   "cell_type": "code",
   "execution_count": null,
   "metadata": {},
   "outputs": [],
   "source": [
    "files = ['kmeans_utilities.py']\n",
    "\n",
    "for filename in files:\n",
    "    url = f'https://github.com/melbournebioinformatics/COMP90014/blob/main/data/2023/Workshop_10/src/{filename}?raw=true'\n",
    "    fetch_file(url,outpath='src')"
   ]
  },
  {
   "cell_type": "markdown",
   "metadata": {},
   "source": [
    "## Data "
   ]
  },
  {
   "cell_type": "markdown",
   "metadata": {},
   "source": [
    "We will represent points in the space as tuples, and use lists of tuples for our dataset, like so:"
   ]
  },
  {
   "cell_type": "code",
   "execution_count": null,
   "metadata": {},
   "outputs": [],
   "source": [
    "# Five two-dimensional points\n",
    "example_data_2d = [(2,3),(5,3.4),(1.3,0.2),(3.1,3),(2.2,4)]\n",
    "\n",
    "# Five three-dimensional points\n",
    "example_data_3d = [(2,3,1.2),(5,3.4,4),(1.3,0.2,5.2),(3.1,3,3),(2.2,4,2)]"
   ]
  },
  {
   "cell_type": "markdown",
   "metadata": {},
   "source": [
    "These algorithms can be written more efficiently using numpy arrays. All the hints are set up to assume that you will write your functions using lists of tuples, but if you're experienced with Python, you can try using numpy arrays instead. Numpy implements vectorised maths and so it will be faster to run, and in many cases more concise to write."
   ]
  },
  {
   "cell_type": "markdown",
   "metadata": {},
   "source": [
    "We'll use 2D data points so it's easy to visualise our results. This code generates some \"real\" clusters probabilistically, and a smattering of random points all over the space."
   ]
  },
  {
   "cell_type": "code",
   "execution_count": null,
   "metadata": {},
   "outputs": [],
   "source": [
    "# cluster1 is centred at (1,1) and has standard deviation 0.2, and 40 points\n",
    "cluster1 = np.random.randn(40,2)*0.2+np.array([[1,1]])\n",
    "\n",
    "# cluster2 is centred at (2,1), and has standard deviation 0.2, and 40 points\n",
    "cluster2 = np.random.randn(40,2)*0.2+np.array([[2,1]])\n",
    "\n",
    "# cluster3 is centred at (1.5,2), and has standard deviation 0.2, and 40 points\n",
    "cluster3 = np.random.randn(40,2)*0.2+np.array([[1.5,2]])\n",
    "\n",
    "background = np.random.uniform(low=[0,0],high=[3,3],size=(30,2))"
   ]
  },
  {
   "cell_type": "code",
   "execution_count": null,
   "metadata": {},
   "outputs": [],
   "source": [
    "# Merge our different datasets into one array\n",
    "points_array = np.concatenate([cluster1,cluster2,cluster3,background])\n",
    "\n",
    "# We'll represent the points as a list of tuples\n",
    "points = [tuple(p) for p in points_array]\n",
    "\n",
    "# Show the first five\n",
    "print(points[:5])"
   ]
  },
  {
   "cell_type": "code",
   "execution_count": null,
   "metadata": {
    "scrolled": true
   },
   "outputs": [],
   "source": [
    "# Plot the points from our list of tuples\n",
    "x_values = [x for (x,y) in points]\n",
    "y_values = [y for (x,y) in points]\n",
    "plt.scatter(x_values, y_values)"
   ]
  },
  {
   "cell_type": "code",
   "execution_count": null,
   "metadata": {},
   "outputs": [],
   "source": [
    "# Note: If using a numpy array instead of a list, we'd write\n",
    "plt.scatter(points_array[:,0],points_array[:,1])"
   ]
  },
  {
   "cell_type": "markdown",
   "metadata": {},
   "source": [
    "## K-means "
   ]
  },
  {
   "cell_type": "markdown",
   "metadata": {},
   "source": [
    "The function to initialise centroids is provided for you. This function returns a list of k centroids, randomly placed. Notice that it is completely random - we could improve this function by trying to space the centroids far apart from one another."
   ]
  },
  {
   "cell_type": "code",
   "execution_count": null,
   "metadata": {},
   "outputs": [],
   "source": [
    "def initialise_centroids(data, k):\n",
    "    \"\"\"\n",
    "    Place centroids randomly into range of data of arbitrary dimension.\n",
    "    Takes a list of N data points.\n",
    "    Returns a list of k centroids, each of which will be a tuple of the same\n",
    "    dimensionality as the data points.\n",
    "    \"\"\"\n",
    "    d = len(data[0])\n",
    "    \n",
    "    # Make the data into a numpy array\n",
    "    arr = np.array(data)\n",
    "    minvals = np.min(data,axis=0)\n",
    "    maxvals = np.max(data,axis=0)\n",
    "    centroids = np.random.uniform(low=minvals,high=maxvals,size=(k,d))\n",
    "    \n",
    "    # Return our centroids as a list of tuples\n",
    "    \n",
    "    return [tuple(c) for c in centroids]"
   ]
  },
  {
   "cell_type": "markdown",
   "metadata": {},
   "source": [
    "### Exercise 1: Assign points to centroids"
   ]
  },
  {
   "cell_type": "markdown",
   "metadata": {},
   "source": [
    "<div style=\"color: rgb(27,94,32); background: rgb(200,230,201); border: solid 1px rgb(129,199,132); padding: 10px;\">\n",
    "<b>Challange:</b> Complete the function `assign_points()`. Given a list of k centroids and a list of N points, find which is the closest centroid to each point. Your function should return a list of N integers. Each integer should be a number from 0 to k-1, corresponding to the closest centroid for that point.\n",
    "    \n",
    "- [ ] Take in an array of shape (k,d) representing centroid coordinates, \n",
    "- [ ] and an array of shape (N,d) representing data coordinates.\n",
    "- [ ] Assign each point to its closest centroid.\n",
    "- [ ] Return a list of N integers where each value is between 0 and k-1, corresponding to the closest centroid for that point.\n",
    "    \n",
    "</div>\n",
    "\n"
   ]
  },
  {
   "cell_type": "code",
   "execution_count": null,
   "metadata": {},
   "outputs": [],
   "source": [
    "# This function is provided for you. It calculates Euclidean distance between two points.\n",
    "from src.kmeans_utilities import euclidean_distance, plot_kmeans\n",
    "\n",
    "print(euclidean_distance((1,1),(3,3)))"
   ]
  },
  {
   "cell_type": "code",
   "execution_count": null,
   "metadata": {
    "nbgrader": {
     "grade": false,
     "grade_id": "E1",
     "locked": false,
     "schema_version": 3,
     "solution": true,
     "task": false
    }
   },
   "outputs": [],
   "source": [
    "def assign_points(centroids, data):\n",
    "    \"\"\"\n",
    "    Assign each point to its closest centroid.\n",
    "    Take in an array of shape (k,d) representing centroid coordinates,\n",
    "    and an array of shape (N,d) representing data coordinates.\n",
    "    Return a list or array of N values where each value is between 0 and k-1\n",
    "    and represents the centroid that the data point has been assigned to.\n",
    "    \"\"\"\n",
    "    closest_centroids = []\n",
    "    \n",
    "    # Here is code for a wrong answer, which just assigns every point to cluster 0\n",
    "    # (i.e. to the first centroid in the list).\n",
    "    # Change this code to assign points to their nearest centroids.\n",
    "    N = len(data)\n",
    "    closest_centroids = [0]*N\n",
    "    \n",
    "    ### BEGIN SOLUTION\n",
    "\n",
    "    for point in data:\n",
    "        distances = []\n",
    "        \n",
    "        for centroid_position in centroids:\n",
    "            dist = euclidean_distance(point,centroid_position)\n",
    "            distances.append(dist)\n",
    "        \n",
    "        min_dist = min(distances)\n",
    "        closest_centroid = distances.index(min_dist)\n",
    "        closest_centroids.append(closest_centroid)\n",
    "        \n",
    "    ### END SOLUTION        \n",
    "    \n",
    "    return closest_centroids"
   ]
  },
  {
   "cell_type": "code",
   "execution_count": null,
   "metadata": {},
   "outputs": [],
   "source": [
    "# Should return [0, 1, 0, 1, 1]\n",
    "example_centroids = [(2,2),(4,4)]\n",
    "assign_points(example_centroids, example_data_2d)"
   ]
  },
  {
   "cell_type": "code",
   "execution_count": null,
   "metadata": {},
   "outputs": [],
   "source": [
    "# Should return [1, 0, 1, 1, 1]\n",
    "example_centroids = [(5,2,0),(3,1,1)]\n",
    "assign_points(example_centroids, example_data_3d)"
   ]
  },
  {
   "cell_type": "code",
   "execution_count": null,
   "metadata": {},
   "outputs": [],
   "source": [
    "# Let's test our function by assigning datapoints to their nearest randomly initialised centroid.\n",
    "\n",
    "# Init centroids \n",
    "random_centroids = initialise_centroids(points, 3)\n",
    "# Assign points to centroid\n",
    "clusters = assign_points(random_centroids, points)\n",
    "# Plot the clusters\n",
    "plot_kmeans(points, random_centroids, clusters, 3)"
   ]
  },
  {
   "cell_type": "markdown",
   "metadata": {},
   "source": [
    "### Exercise 2: Calculate mean centroids"
   ]
  },
  {
   "cell_type": "markdown",
   "metadata": {},
   "source": [
    "\n",
    "<div style=\"color: rgb(27,94,32); background: rgb(200,230,201); border: solid 1px rgb(129,199,132); padding: 10px;\">\n",
    "\n",
    "<b>Challange:</b> Complete the function `calculate_mean_centroids()`. This function should take in the list of data points, the list of assignments to clusters, and k, and return the a list of centroids.\n",
    "\n",
    "The function `average_point()` is provided for you. Given a list of points, it finds the mean. You need to pass it the correct points for each cluster.\n",
    "\n",
    "- [ ] Take as input: list of data point coordinates; list of cluster assignments; value of k\n",
    "- [ ] Find the new mean centroid position for each cluster \n",
    "- [ ] Return a list of k centroid coordinates\n",
    "\n",
    "</div>\n",
    "\n",
    "\n"
   ]
  },
  {
   "cell_type": "code",
   "execution_count": null,
   "metadata": {},
   "outputs": [],
   "source": [
    "# This function is provided for you\n",
    "from src.kmeans_utilities import average_point"
   ]
  },
  {
   "cell_type": "code",
   "execution_count": null,
   "metadata": {
    "nbgrader": {
     "grade": false,
     "grade_id": "E2",
     "locked": false,
     "schema_version": 3,
     "solution": true,
     "task": false
    }
   },
   "outputs": [],
   "source": [
    "def calculate_mean_centroids(data, assignments, k):\n",
    "    \"\"\"\n",
    "    Take list of N data points (a list of tuples)  \n",
    "    and a list of N centroid assignments, \n",
    "    and return a list of k centroids.\n",
    "    \"\"\"\n",
    "    \n",
    "    # Here is an incorrect solution that just sets each centroid to (0,0)\n",
    "    # (or (0,0,0), or (0,0,0,0) etc, depending on the dimension of the data points)\n",
    "    # Replace this code so that the averages are calculated for each cluster.\n",
    "    N = len(data)\n",
    "    d = len(data[0])\n",
    "    print(N)\n",
    "    print(d)\n",
    "    # Set points to zero (wrong!)\n",
    "    zero_centroid = tuple([0]*d) \n",
    "    centroids = [zero_centroid]*k\n",
    "    return centroids\n",
    "    \n",
    "    ### BEGIN SOLUTION\n",
    "    updated_centroids = []\n",
    "    \n",
    "    for cluster in range(k):\n",
    "        points = [point for point, assignment in zip(data, assignments) if assignment == cluster]\n",
    "        updated_centroids.append(average_point(points))\n",
    "    \n",
    "    ### END SOLUTION   \n",
    "    \n",
    "    return updated_centroids"
   ]
  },
  {
   "cell_type": "code",
   "execution_count": null,
   "metadata": {},
   "outputs": [],
   "source": [
    "# Should return centroids [( 1.65,  1.6 ), (3.43333333,  3.46666667)]\n",
    "calculate_mean_centroids(example_data_2d, [0, 1, 0, 1, 1], 3)"
   ]
  },
  {
   "cell_type": "code",
   "execution_count": null,
   "metadata": {},
   "outputs": [],
   "source": [
    "# Should return centroids [(5, 3.34, 4), (2.15,2.55,2.85)]\n",
    "calculate_mean_centroids(example_data_3d, [1, 0, 1, 1, 1], 2)"
   ]
  },
  {
   "cell_type": "code",
   "execution_count": null,
   "metadata": {},
   "outputs": [],
   "source": [
    "# Assign datapoints to a new randomly initialised centroid as before:\n",
    "\n",
    "# Init centroids \n",
    "random_centroids = initialise_centroids(points, 3)\n",
    "\n",
    "# Assign points to centroid\n",
    "clusters = assign_points(random_centroids, points)\n",
    "\n",
    "# Plot the clusters\n",
    "plot_kmeans(points, random_centroids, clusters, 3)"
   ]
  },
  {
   "cell_type": "code",
   "execution_count": null,
   "metadata": {},
   "outputs": [],
   "source": [
    "# Now let's update centroid locations to mean point of each cluster:\n",
    "\n",
    "updated_centroids = calculate_mean_centroids(points, clusters, 3)\n",
    "\n",
    "# Plot the clusters with updated centroid locations \n",
    "# Note: We have not updated the cluster assignments yet, just the centroids!\n",
    "\n",
    "plot_kmeans(points, updated_centroids, clusters, 3)"
   ]
  },
  {
   "cell_type": "markdown",
   "metadata": {},
   "source": [
    "### Exercise 3: K-means clustering"
   ]
  },
  {
   "cell_type": "markdown",
   "metadata": {},
   "source": [
    "\n",
    "<div style=\"color: rgb(27,94,32); background: rgb(200,230,201); border: solid 1px rgb(129,199,132); padding: 10px;\">\n",
    "\n",
    "<b>Challange:</b> Complete the `kmeans()` function to carry out k-means clustering. You can use the functions you created in the first two exercises. You only need to fill in the missing lines in the iterative loop.\n",
    "\n",
    "- [ ] Take as input: List of data coordinates as tuples; value of k\n",
    "- [ ] Return a tuple of (<b>centroids</b>, <b>cluster_assignments</b>)\n",
    "- [ ] <b>centroids</b> is a list of centroid points, and each centroid is a tuple\n",
    "- [ ] <b>cluster_assignments</b> a list of N numbers representing cluster assignments,\n",
    "     where each number is between 0 and k-1\n",
    "    \n",
    "</div>"
   ]
  },
  {
   "cell_type": "code",
   "execution_count": null,
   "metadata": {},
   "outputs": [],
   "source": [
    "# These functions are provided for you (and used already below)\n",
    "from src.kmeans_utilities import points_equal, plot_kmeans"
   ]
  },
  {
   "cell_type": "code",
   "execution_count": null,
   "metadata": {
    "nbgrader": {
     "grade": false,
     "grade_id": "E3",
     "locked": false,
     "schema_version": 3,
     "solution": true,
     "task": false
    }
   },
   "outputs": [],
   "source": [
    "def kmeans(data, k):\n",
    "    \"\"\"\n",
    "    Implement k-means clustering on a given set of points.\n",
    "    data should be a list of N points, where each point is a tuple.\n",
    "    Returns a tuple of (centroids, cluster_assignments), where \n",
    "    centroids is a list of centroid points, and each centroid is a tuple; and\n",
    "    cluster_assignments a list of N numbers representing cluster assignments,\n",
    "    where each number is between 0 and k-1.\n",
    "    \"\"\"\n",
    "    \n",
    "    N = len(data)\n",
    "    d = len(data[0])\n",
    "    centroids = initialise_centroids(data, k)\n",
    "    cluster_assignments = assign_points(centroids, data)\n",
    "    old_centroids = [(0,)*d]*k  # unlikely to be equal to centroids at start\n",
    "    \n",
    "    # We will use the stopping condition \"no change in centroid location\"\n",
    "    while not points_equal(centroids, old_centroids):\n",
    "        old_centroids = centroids\n",
    "        \n",
    "        ### Fill in the iterative k-means steps \n",
    "        # Optionally, if you'd like to plot what is happening at each step, \n",
    "        # uncomment the following line\n",
    "        #plot_kmeans(data, centroids, assignments, k)\n",
    "        \n",
    "        ### BEGIN SOLUTION\n",
    "    \n",
    "        cluster_assignments = assign_points(centroids, data)\n",
    "        centroids = calculate_mean_centroids(data, cluster_assignments, k)\n",
    "        print(centroids)\n",
    "        #plot_kmeans(data, centroids, cluster_assignments, k)\n",
    "        \n",
    "        ### END SOLUTION  \n",
    "        \n",
    "    return (centroids, cluster_assignments)\n"
   ]
  },
  {
   "cell_type": "markdown",
   "metadata": {},
   "source": [
    "Now test on the 2D data we created at the top of the notebook:"
   ]
  },
  {
   "cell_type": "code",
   "execution_count": null,
   "metadata": {},
   "outputs": [],
   "source": [
    "k = 3\n",
    "centroids, assignments = kmeans(points, k)\n",
    "print('List of centroid coordinates: ')\n",
    "print(centroids)\n",
    "print('List of cluster assignments: ')\n",
    "print(assignments)"
   ]
  },
  {
   "cell_type": "code",
   "execution_count": null,
   "metadata": {},
   "outputs": [],
   "source": [
    "# And finally let's view our final cluster assignments:\n",
    "plot_kmeans(points, centroids, assignments, k)"
   ]
  },
  {
   "cell_type": "markdown",
   "metadata": {},
   "source": [
    "## Bonus - DBScan\n",
    "We're going to use the sklearn package to implement DBSCAN using the tutorial outlined [here](https://scikit-learn.org/stable/auto_examples/cluster/plot_dbscan.html#sphx-glr-auto-examples-cluster-plot-dbscan-py)"
   ]
  },
  {
   "cell_type": "code",
   "execution_count": null,
   "metadata": {},
   "outputs": [],
   "source": [
    "from sklearn.cluster import DBSCAN\n",
    "from sklearn import metrics\n",
    "from sklearn.datasets import make_blobs, make_circles, make_moons\n",
    "from sklearn.preprocessing import StandardScaler"
   ]
  },
  {
   "cell_type": "code",
   "execution_count": null,
   "metadata": {},
   "outputs": [],
   "source": [
    "# Generate sample data\n",
    "centers = [[1, 1], [-1.5, -1], [1, -1]]\n",
    "X, labels_true = make_blobs(n_samples=750, centers=centers, cluster_std=0.4,random_state=0)\n",
    "# Other shapes to test:\n",
    "#X, labels_true = make_circles(n_samples=750, factor=0.5, noise=0.05)\n",
    "#X, labels_true = make_moons(n_samples=750, noise=0.05)\n",
    "\n",
    "X = StandardScaler().fit_transform(X)"
   ]
  },
  {
   "cell_type": "markdown",
   "metadata": {},
   "source": [
    "**Go ahead and play with the epsilon values and min sample values below to check the effects they have on the clusters**"
   ]
  },
  {
   "cell_type": "code",
   "execution_count": null,
   "metadata": {},
   "outputs": [],
   "source": [
    "# Compute DBSCAN\n",
    "db = DBSCAN(eps=0.3, min_samples=10).fit(X) ## <- CHANGE THESE VALUES AND PLOT THE EFFECTS \n",
    "\n",
    "core_samples_mask = np.zeros_like(db.labels_, dtype=bool)\n",
    "core_samples_mask[db.core_sample_indices_] = True\n",
    "labels = db.labels_\n",
    "\n",
    "# Number of clusters in labels, ignoring noise if present.\n",
    "n_clusters_ = len(set(labels)) - (1 if -1 in labels else 0)\n",
    "n_noise_ = list(labels).count(-1)\n",
    "\n",
    "print('Estimated number of clusters: {}'.format(n_clusters_))\n",
    "print('Estimated number of noise points: {}'.format( n_noise_))"
   ]
  },
  {
   "cell_type": "code",
   "execution_count": null,
   "metadata": {
    "scrolled": true
   },
   "outputs": [],
   "source": [
    "# Black removed and is used for noise instead.\n",
    "unique_labels = set(labels)\n",
    "colors = [plt.cm.Spectral(each)\n",
    "          for each in np.linspace(0, 1, len(unique_labels))]\n",
    "for k, col in zip(unique_labels, colors):\n",
    "    if k == -1:\n",
    "        # Black used for noise.\n",
    "        col = [0, 0, 0, 1]\n",
    "    class_member_mask = (labels == k)\n",
    "\n",
    "    #plot the cluster values\n",
    "    xy = X[class_member_mask & core_samples_mask]\n",
    "    plt.plot(xy[:, 0], xy[:, 1], 'o', markerfacecolor=tuple(col),\n",
    "             markeredgecolor='k', markersize=14)\n",
    "\n",
    "    #plot the noise values\n",
    "    xy = X[class_member_mask & ~core_samples_mask]\n",
    "    plt.plot(xy[:, 0], xy[:, 1], 'o', markerfacecolor=tuple(col),\n",
    "             markeredgecolor='k', markersize=6)"
   ]
  },
  {
   "cell_type": "markdown",
   "metadata": {},
   "source": [
    "## Revision Questions"
   ]
  },
  {
   "cell_type": "markdown",
   "metadata": {
    "nbgrader": {
     "grade": false,
     "grade_id": "Q1",
     "locked": true,
     "points": 1,
     "schema_version": 3,
     "solution": false,
     "task": true
    }
   },
   "source": [
    "<div style=\"color: rgb(0,96,100); background: rgb(178,235,242); border: solid 1px rgb(77,208,225); padding: 10px;\">\n",
    "<b>Question 1:</b> Which of the following conditions are possible termination criteria for K-Means?\n",
    "\n",
    "A. After a fixed number of iterations are done.\n",
    "    \n",
    "B. After point assignment to clusters no longer changes between iterations.\n",
    "\n",
    "C. After centroids no longer change (or change very little) between iterations.\n",
    " \n",
    "</div>\n",
    "\n",
    "=== BEGIN MARK SCHEME ===\n",
    "\n",
    "A,B,C \n",
    "\n",
    "=== END MARK SCHEME ==="
   ]
  },
  {
   "cell_type": "markdown",
   "metadata": {},
   "source": [
    "YOUR ANSWER HERE"
   ]
  },
  {
   "cell_type": "markdown",
   "metadata": {
    "nbgrader": {
     "grade": false,
     "grade_id": "Q2",
     "locked": true,
     "points": 1,
     "schema_version": 3,
     "solution": false,
     "task": true
    }
   },
   "source": [
    "<div style=\"color: rgb(0,96,100); background: rgb(178,235,242); border: solid 1px rgb(77,208,225); padding: 10px;\">\n",
    "<b>Question 2:</b> Which type of points are removed by the DBSCAN algorithm?\n",
    "\n",
    "A. Noise points\n",
    "    \n",
    "B. Points within epsilon distance of a core point\n",
    "    \n",
    "C. Border points with fewer than minPts within epsilon distance\n",
    "    \n",
    "</div>\n",
    "\n",
    "=== BEGIN MARK SCHEME ===\n",
    "\n",
    "A\n",
    "\n",
    "=== END MARK SCHEME ==="
   ]
  },
  {
   "cell_type": "markdown",
   "metadata": {},
   "source": [
    "YOUR ANSWER HERE"
   ]
  },
  {
   "cell_type": "markdown",
   "metadata": {
    "nbgrader": {
     "grade": false,
     "grade_id": "Q3",
     "locked": true,
     "points": 1,
     "schema_version": 3,
     "solution": false,
     "task": true
    }
   },
   "source": [
    "<div style=\"color: rgb(0,96,100); background: rgb(178,235,242); border: solid 1px rgb(77,208,225); padding: 10px;\">\n",
    "<b>Question 3:</b> Which of the following is true of DBSCAN?\n",
    "    \n",
    "    \n",
    "A. DBSCAN can find arbitrarily shaped clusters.\n",
    "    \n",
    "B. DBSCAN is not sensitive to input parameters.\n",
    "    \n",
    "C. DBSCAN has a notion of noise and is robust to outliers.\n",
    "    \n",
    "D. DBSCAN does not require one to specify the number of clusters.\n",
    "    \n",
    "</div>\n",
    "\n",
    "=== BEGIN MARK SCHEME ===\n",
    "\n",
    "A, C, D\n",
    "\n",
    "=== END MARK SCHEME ==="
   ]
  },
  {
   "cell_type": "markdown",
   "metadata": {},
   "source": [
    "YOUR ANSWER HERE"
   ]
  }
 ],
 "metadata": {
  "celltoolbar": "Create Assignment",
  "kernelspec": {
   "display_name": "Python 3 (ipykernel)",
   "language": "python",
   "name": "python3"
  },
  "language_info": {
   "codemirror_mode": {
    "name": "ipython",
    "version": 3
   },
   "file_extension": ".py",
   "mimetype": "text/x-python",
   "name": "python",
   "nbconvert_exporter": "python",
   "pygments_lexer": "ipython3",
   "version": "3.11.4"
  }
 },
 "nbformat": 4,
 "nbformat_minor": 2
}
